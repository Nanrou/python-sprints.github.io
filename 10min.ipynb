{
 "cells": [
  {
   "cell_type": "markdown",
   "metadata": {},
   "source": [
    "# 10分钟 Pandas 历险"
   ]
  },
  {
   "cell_type": "code",
   "execution_count": 1,
   "metadata": {},
   "outputs": [],
   "source": [
    "import pandas as pd\n",
    "import numpy as np\n",
    "import matplotlib.pyplot as plt"
   ]
  },
  {
   "cell_type": "code",
   "execution_count": 3,
   "metadata": {},
   "outputs": [
    {
     "data": {
      "text/plain": [
       "175"
      ]
     },
     "execution_count": 3,
     "metadata": {},
     "output_type": "execute_result"
    }
   ],
   "source": [
    "len(dir(pd))"
   ]
  },
  {
   "cell_type": "code",
   "execution_count": 4,
   "metadata": {},
   "outputs": [
    {
     "data": {
      "text/plain": [
       "'0.20.2'"
      ]
     },
     "execution_count": 4,
     "metadata": {},
     "output_type": "execute_result"
    }
   ],
   "source": [
    "pd.__version__"
   ]
  },
  {
   "cell_type": "code",
   "execution_count": 9,
   "metadata": {},
   "outputs": [
    {
     "name": "stdout",
     "output_type": "stream",
     "text": [
      "__builtins__\n",
      "__cached__\n",
      "__doc__\n",
      "__docformat__\n",
      "__file__\n",
      "__loader__\n",
      "__name__\n",
      "__package__\n",
      "__path__\n",
      "__spec__\n",
      "__version__\n"
     ]
    }
   ],
   "source": [
    "for k in dir(pd) :\n",
    "    if '__' in k:\n",
    "        print(k)"
   ]
  },
  {
   "cell_type": "code",
   "execution_count": 10,
   "metadata": {},
   "outputs": [
    {
     "data": {
      "text/plain": [
       "['/Users/zoomq/.pyenv/versions/3.6.1/envs/DU361/lib/python3.6/site-packages/pandas']"
      ]
     },
     "execution_count": 10,
     "metadata": {},
     "output_type": "execute_result"
    }
   ],
   "source": [
    "pd.__path__"
   ]
  },
  {
   "cell_type": "markdown",
   "metadata": {},
   "source": [
    "## 创建对象"
   ]
  },
  {
   "cell_type": "code",
   "execution_count": 15,
   "metadata": {},
   "outputs": [],
   "source": [
    " s = pd.Series([1,3,5,np.nan,6,'是也乎'])"
   ]
  },
  {
   "cell_type": "code",
   "execution_count": 16,
   "metadata": {},
   "outputs": [
    {
     "data": {
      "text/plain": [
       "pandas.core.series.Series"
      ]
     },
     "execution_count": 16,
     "metadata": {},
     "output_type": "execute_result"
    }
   ],
   "source": [
    "type(s)"
   ]
  },
  {
   "cell_type": "code",
   "execution_count": 17,
   "metadata": {},
   "outputs": [
    {
     "data": {
      "text/plain": [
       "0      1\n",
       "1      3\n",
       "2      5\n",
       "3    NaN\n",
       "4      6\n",
       "5    是也乎\n",
       "dtype: object"
      ]
     },
     "execution_count": 17,
     "metadata": {},
     "output_type": "execute_result"
    }
   ],
   "source": [
    "s"
   ]
  },
  {
   "cell_type": "code",
   "execution_count": 24,
   "metadata": {},
   "outputs": [
    {
     "data": {
      "text/plain": [
       "pandas.core.indexes.datetimes.DatetimeIndex"
      ]
     },
     "execution_count": 24,
     "metadata": {},
     "output_type": "execute_result"
    }
   ],
   "source": [
    "dates = pd.date_range('20130101', periods=6)\n",
    "type(dates)"
   ]
  },
  {
   "cell_type": "code",
   "execution_count": 25,
   "metadata": {},
   "outputs": [
    {
     "data": {
      "text/plain": [
       "DatetimeIndex(['2013-01-01', '2013-01-02', '2013-01-03', '2013-01-04',\n",
       "               '2013-01-05', '2013-01-06'],\n",
       "              dtype='datetime64[ns]', freq='D')"
      ]
     },
     "execution_count": 25,
     "metadata": {},
     "output_type": "execute_result"
    }
   ],
   "source": [
    "dates\n"
   ]
  },
  {
   "cell_type": "code",
   "execution_count": 27,
   "metadata": {},
   "outputs": [
    {
     "data": {
      "text/plain": [
       "pandas.core.frame.DataFrame"
      ]
     },
     "execution_count": 27,
     "metadata": {},
     "output_type": "execute_result"
    }
   ],
   "source": [
    "df = pd.DataFrame(np.random.randn(6,4)\n",
    "                  , index=dates\n",
    "                  , columns=list('ABCD')\n",
    "                 )\n",
    "type(df)"
   ]
  },
  {
   "cell_type": "code",
   "execution_count": 30,
   "metadata": {},
   "outputs": [
    {
     "data": {
      "text/plain": [
       "449"
      ]
     },
     "execution_count": 30,
     "metadata": {},
     "output_type": "execute_result"
    }
   ],
   "source": [
    "len(dir(df))"
   ]
  },
  {
   "cell_type": "code",
   "execution_count": 31,
   "metadata": {},
   "outputs": [
    {
     "data": {
      "text/html": [
       "<div>\n",
       "<style>\n",
       "    .dataframe thead tr:only-child th {\n",
       "        text-align: right;\n",
       "    }\n",
       "\n",
       "    .dataframe thead th {\n",
       "        text-align: left;\n",
       "    }\n",
       "\n",
       "    .dataframe tbody tr th {\n",
       "        vertical-align: top;\n",
       "    }\n",
       "</style>\n",
       "<table border=\"1\" class=\"dataframe\">\n",
       "  <thead>\n",
       "    <tr style=\"text-align: right;\">\n",
       "      <th></th>\n",
       "      <th>A</th>\n",
       "      <th>B</th>\n",
       "      <th>C</th>\n",
       "      <th>D</th>\n",
       "    </tr>\n",
       "  </thead>\n",
       "  <tbody>\n",
       "    <tr>\n",
       "      <th>2013-01-01</th>\n",
       "      <td>1.188941</td>\n",
       "      <td>1.129330</td>\n",
       "      <td>1.366866</td>\n",
       "      <td>-0.307524</td>\n",
       "    </tr>\n",
       "    <tr>\n",
       "      <th>2013-01-02</th>\n",
       "      <td>-0.513417</td>\n",
       "      <td>-0.358673</td>\n",
       "      <td>-0.259177</td>\n",
       "      <td>-0.612110</td>\n",
       "    </tr>\n",
       "    <tr>\n",
       "      <th>2013-01-03</th>\n",
       "      <td>-0.510545</td>\n",
       "      <td>-2.012525</td>\n",
       "      <td>0.268398</td>\n",
       "      <td>-0.613824</td>\n",
       "    </tr>\n",
       "    <tr>\n",
       "      <th>2013-01-04</th>\n",
       "      <td>-0.031261</td>\n",
       "      <td>-1.353902</td>\n",
       "      <td>1.873059</td>\n",
       "      <td>-0.273769</td>\n",
       "    </tr>\n",
       "    <tr>\n",
       "      <th>2013-01-05</th>\n",
       "      <td>0.247923</td>\n",
       "      <td>-0.846868</td>\n",
       "      <td>-0.981051</td>\n",
       "      <td>0.480899</td>\n",
       "    </tr>\n",
       "    <tr>\n",
       "      <th>2013-01-06</th>\n",
       "      <td>0.114437</td>\n",
       "      <td>1.767723</td>\n",
       "      <td>0.663675</td>\n",
       "      <td>-2.535318</td>\n",
       "    </tr>\n",
       "  </tbody>\n",
       "</table>\n",
       "</div>"
      ],
      "text/plain": [
       "                   A         B         C         D\n",
       "2013-01-01  1.188941  1.129330  1.366866 -0.307524\n",
       "2013-01-02 -0.513417 -0.358673 -0.259177 -0.612110\n",
       "2013-01-03 -0.510545 -2.012525  0.268398 -0.613824\n",
       "2013-01-04 -0.031261 -1.353902  1.873059 -0.273769\n",
       "2013-01-05  0.247923 -0.846868 -0.981051  0.480899\n",
       "2013-01-06  0.114437  1.767723  0.663675 -2.535318"
      ]
     },
     "execution_count": 31,
     "metadata": {},
     "output_type": "execute_result"
    }
   ],
   "source": [
    "df"
   ]
  },
  {
   "cell_type": "code",
   "execution_count": 32,
   "metadata": {},
   "outputs": [
    {
     "name": "stdout",
     "output_type": "stream",
     "text": [
      "Help on built-in function randn:\n",
      "\n",
      "randn(...) method of mtrand.RandomState instance\n",
      "    randn(d0, d1, ..., dn)\n",
      "    \n",
      "    Return a sample (or samples) from the \"standard normal\" distribution.\n",
      "    \n",
      "    If positive, int_like or int-convertible arguments are provided,\n",
      "    `randn` generates an array of shape ``(d0, d1, ..., dn)``, filled\n",
      "    with random floats sampled from a univariate \"normal\" (Gaussian)\n",
      "    distribution of mean 0 and variance 1 (if any of the :math:`d_i` are\n",
      "    floats, they are first converted to integers by truncation). A single\n",
      "    float randomly sampled from the distribution is returned if no\n",
      "    argument is provided.\n",
      "    \n",
      "    This is a convenience function.  If you want an interface that takes a\n",
      "    tuple as the first argument, use `numpy.random.standard_normal` instead.\n",
      "    \n",
      "    Parameters\n",
      "    ----------\n",
      "    d0, d1, ..., dn : int, optional\n",
      "        The dimensions of the returned array, should be all positive.\n",
      "        If no argument is given a single Python float is returned.\n",
      "    \n",
      "    Returns\n",
      "    -------\n",
      "    Z : ndarray or float\n",
      "        A ``(d0, d1, ..., dn)``-shaped array of floating-point samples from\n",
      "        the standard normal distribution, or a single such float if\n",
      "        no parameters were supplied.\n",
      "    \n",
      "    See Also\n",
      "    --------\n",
      "    random.standard_normal : Similar, but takes a tuple as its argument.\n",
      "    \n",
      "    Notes\n",
      "    -----\n",
      "    For random samples from :math:`N(\\mu, \\sigma^2)`, use:\n",
      "    \n",
      "    ``sigma * np.random.randn(...) + mu``\n",
      "    \n",
      "    Examples\n",
      "    --------\n",
      "    >>> np.random.randn()\n",
      "    2.1923875335537315 #random\n",
      "    \n",
      "    Two-by-four array of samples from N(3, 6.25):\n",
      "    \n",
      "    >>> 2.5 * np.random.randn(2, 4) + 3\n",
      "    array([[-4.49401501,  4.00950034, -1.81814867,  7.29718677],  #random\n",
      "           [ 0.39924804,  4.68456316,  4.99394529,  4.84057254]]) #random\n",
      "\n"
     ]
    }
   ],
   "source": [
    "help(np.random.randn)"
   ]
  },
  {
   "cell_type": "code",
   "execution_count": 33,
   "metadata": {},
   "outputs": [
    {
     "data": {
      "text/plain": [
       "0.33746536419417006"
      ]
     },
     "execution_count": 33,
     "metadata": {},
     "output_type": "execute_result"
    }
   ],
   "source": [
    "np.random.randn()"
   ]
  },
  {
   "cell_type": "code",
   "execution_count": 34,
   "metadata": {},
   "outputs": [
    {
     "data": {
      "text/plain": [
       "array([ 2.15852083, -0.66123487])"
      ]
     },
     "execution_count": 34,
     "metadata": {},
     "output_type": "execute_result"
    }
   ],
   "source": [
    "np.random.randn(2)"
   ]
  },
  {
   "cell_type": "code",
   "execution_count": 37,
   "metadata": {},
   "outputs": [
    {
     "data": {
      "text/plain": [
       "array([[ 0.14762553, -1.52867424, -0.12074558],\n",
       "       [-2.0694367 , -1.68786366, -0.9502297 ],\n",
       "       [ 0.68132388, -0.75754698, -0.50054001],\n",
       "       [ 0.78757602,  1.73896966,  0.21467194],\n",
       "       [ 0.02915606,  0.35940296,  0.73279622]])"
      ]
     },
     "execution_count": 37,
     "metadata": {},
     "output_type": "execute_result"
    }
   ],
   "source": [
    "np.random.randn(5,3)"
   ]
  },
  {
   "cell_type": "code",
   "execution_count": 41,
   "metadata": {},
   "outputs": [
    {
     "data": {
      "text/html": [
       "<div>\n",
       "<style>\n",
       "    .dataframe thead tr:only-child th {\n",
       "        text-align: right;\n",
       "    }\n",
       "\n",
       "    .dataframe thead th {\n",
       "        text-align: left;\n",
       "    }\n",
       "\n",
       "    .dataframe tbody tr th {\n",
       "        vertical-align: top;\n",
       "    }\n",
       "</style>\n",
       "<table border=\"1\" class=\"dataframe\">\n",
       "  <thead>\n",
       "    <tr style=\"text-align: right;\">\n",
       "      <th></th>\n",
       "      <th>A</th>\n",
       "      <th>B</th>\n",
       "      <th>C</th>\n",
       "      <th>D</th>\n",
       "    </tr>\n",
       "  </thead>\n",
       "  <tbody>\n",
       "    <tr>\n",
       "      <th>2013-01-01</th>\n",
       "      <td>0.773841</td>\n",
       "      <td>-2.157808</td>\n",
       "      <td>0.984614</td>\n",
       "      <td>-2.097593</td>\n",
       "    </tr>\n",
       "    <tr>\n",
       "      <th>2013-01-02</th>\n",
       "      <td>-1.550663</td>\n",
       "      <td>1.715276</td>\n",
       "      <td>-0.208843</td>\n",
       "      <td>-0.813946</td>\n",
       "    </tr>\n",
       "    <tr>\n",
       "      <th>2013-01-03</th>\n",
       "      <td>0.312465</td>\n",
       "      <td>-0.286060</td>\n",
       "      <td>-1.213577</td>\n",
       "      <td>-1.056977</td>\n",
       "    </tr>\n",
       "    <tr>\n",
       "      <th>2013-01-04</th>\n",
       "      <td>1.372956</td>\n",
       "      <td>0.060266</td>\n",
       "      <td>1.486997</td>\n",
       "      <td>-0.921437</td>\n",
       "    </tr>\n",
       "    <tr>\n",
       "      <th>2013-01-05</th>\n",
       "      <td>1.284129</td>\n",
       "      <td>-0.102916</td>\n",
       "      <td>0.065467</td>\n",
       "      <td>0.099667</td>\n",
       "    </tr>\n",
       "    <tr>\n",
       "      <th>2013-01-06</th>\n",
       "      <td>-0.045638</td>\n",
       "      <td>-1.231555</td>\n",
       "      <td>0.422141</td>\n",
       "      <td>-1.604347</td>\n",
       "    </tr>\n",
       "    <tr>\n",
       "      <th>2013-01-07</th>\n",
       "      <td>0.016691</td>\n",
       "      <td>0.501258</td>\n",
       "      <td>0.056150</td>\n",
       "      <td>-1.571234</td>\n",
       "    </tr>\n",
       "  </tbody>\n",
       "</table>\n",
       "</div>"
      ],
      "text/plain": [
       "                   A         B         C         D\n",
       "2013-01-01  0.773841 -2.157808  0.984614 -2.097593\n",
       "2013-01-02 -1.550663  1.715276 -0.208843 -0.813946\n",
       "2013-01-03  0.312465 -0.286060 -1.213577 -1.056977\n",
       "2013-01-04  1.372956  0.060266  1.486997 -0.921437\n",
       "2013-01-05  1.284129 -0.102916  0.065467  0.099667\n",
       "2013-01-06 -0.045638 -1.231555  0.422141 -1.604347\n",
       "2013-01-07  0.016691  0.501258  0.056150 -1.571234"
      ]
     },
     "execution_count": 41,
     "metadata": {},
     "output_type": "execute_result"
    }
   ],
   "source": [
    "#dates = pd.date_range('20130101', periods=6)\n",
    "_lines = 7\n",
    "df = pd.DataFrame(np.random.randn(_lines,4)\n",
    "                  , index=pd.date_range('20130101'\n",
    "                                        , periods=_lines)\n",
    "                  , columns=list('ABCD')\n",
    "                 )\n",
    "df"
   ]
  },
  {
   "cell_type": "code",
   "execution_count": 42,
   "metadata": {},
   "outputs": [],
   "source": [
    "df2 = pd.DataFrame({ 'A' : 1.,\n",
    "   ....:             'B' : pd.Timestamp('20130102'),\n",
    "   ....:             'C' : pd.Series(1,index=list(range(4)),dtype='float32'),\n",
    "   ....:             'D' : np.array([3] * 4,dtype='int32'),\n",
    "   ....:             'E' : pd.Categorical([\"test\",\"train\",\"test\",\"train\"]),\n",
    "   ....:             'F' : 'foo' })"
   ]
  },
  {
   "cell_type": "code",
   "execution_count": 43,
   "metadata": {},
   "outputs": [
    {
     "data": {
      "text/html": [
       "<div>\n",
       "<style>\n",
       "    .dataframe thead tr:only-child th {\n",
       "        text-align: right;\n",
       "    }\n",
       "\n",
       "    .dataframe thead th {\n",
       "        text-align: left;\n",
       "    }\n",
       "\n",
       "    .dataframe tbody tr th {\n",
       "        vertical-align: top;\n",
       "    }\n",
       "</style>\n",
       "<table border=\"1\" class=\"dataframe\">\n",
       "  <thead>\n",
       "    <tr style=\"text-align: right;\">\n",
       "      <th></th>\n",
       "      <th>A</th>\n",
       "      <th>B</th>\n",
       "      <th>C</th>\n",
       "      <th>D</th>\n",
       "      <th>E</th>\n",
       "      <th>F</th>\n",
       "    </tr>\n",
       "  </thead>\n",
       "  <tbody>\n",
       "    <tr>\n",
       "      <th>0</th>\n",
       "      <td>1.0</td>\n",
       "      <td>2013-01-02</td>\n",
       "      <td>1.0</td>\n",
       "      <td>3</td>\n",
       "      <td>test</td>\n",
       "      <td>foo</td>\n",
       "    </tr>\n",
       "    <tr>\n",
       "      <th>1</th>\n",
       "      <td>1.0</td>\n",
       "      <td>2013-01-02</td>\n",
       "      <td>1.0</td>\n",
       "      <td>3</td>\n",
       "      <td>train</td>\n",
       "      <td>foo</td>\n",
       "    </tr>\n",
       "    <tr>\n",
       "      <th>2</th>\n",
       "      <td>1.0</td>\n",
       "      <td>2013-01-02</td>\n",
       "      <td>1.0</td>\n",
       "      <td>3</td>\n",
       "      <td>test</td>\n",
       "      <td>foo</td>\n",
       "    </tr>\n",
       "    <tr>\n",
       "      <th>3</th>\n",
       "      <td>1.0</td>\n",
       "      <td>2013-01-02</td>\n",
       "      <td>1.0</td>\n",
       "      <td>3</td>\n",
       "      <td>train</td>\n",
       "      <td>foo</td>\n",
       "    </tr>\n",
       "  </tbody>\n",
       "</table>\n",
       "</div>"
      ],
      "text/plain": [
       "     A          B    C  D      E    F\n",
       "0  1.0 2013-01-02  1.0  3   test  foo\n",
       "1  1.0 2013-01-02  1.0  3  train  foo\n",
       "2  1.0 2013-01-02  1.0  3   test  foo\n",
       "3  1.0 2013-01-02  1.0  3  train  foo"
      ]
     },
     "execution_count": 43,
     "metadata": {},
     "output_type": "execute_result"
    }
   ],
   "source": [
    "df2"
   ]
  },
  {
   "cell_type": "code",
   "execution_count": 44,
   "metadata": {},
   "outputs": [
    {
     "data": {
      "text/plain": [
       "A           float64\n",
       "B    datetime64[ns]\n",
       "C           float32\n",
       "D             int32\n",
       "E          category\n",
       "F            object\n",
       "dtype: object"
      ]
     },
     "execution_count": 44,
     "metadata": {},
     "output_type": "execute_result"
    }
   ],
   "source": [
    "df2.dtypes"
   ]
  },
  {
   "cell_type": "code",
   "execution_count": 45,
   "metadata": {},
   "outputs": [
    {
     "data": {
      "text/plain": [
       "A    float64\n",
       "B    float64\n",
       "C    float64\n",
       "D    float64\n",
       "dtype: object"
      ]
     },
     "execution_count": 45,
     "metadata": {},
     "output_type": "execute_result"
    }
   ],
   "source": [
    "df.dtypes"
   ]
  },
  {
   "cell_type": "code",
   "execution_count": 47,
   "metadata": {},
   "outputs": [
    {
     "data": {
      "text/plain": [
       "451"
      ]
     },
     "execution_count": 47,
     "metadata": {},
     "output_type": "execute_result"
    }
   ],
   "source": [
    "len(dir(df2))"
   ]
  },
  {
   "cell_type": "markdown",
   "metadata": {},
   "source": [
    "## 数据观察"
   ]
  },
  {
   "cell_type": "code",
   "execution_count": 48,
   "metadata": {},
   "outputs": [
    {
     "data": {
      "text/html": [
       "<div>\n",
       "<style>\n",
       "    .dataframe thead tr:only-child th {\n",
       "        text-align: right;\n",
       "    }\n",
       "\n",
       "    .dataframe thead th {\n",
       "        text-align: left;\n",
       "    }\n",
       "\n",
       "    .dataframe tbody tr th {\n",
       "        vertical-align: top;\n",
       "    }\n",
       "</style>\n",
       "<table border=\"1\" class=\"dataframe\">\n",
       "  <thead>\n",
       "    <tr style=\"text-align: right;\">\n",
       "      <th></th>\n",
       "      <th>A</th>\n",
       "      <th>B</th>\n",
       "      <th>C</th>\n",
       "      <th>D</th>\n",
       "    </tr>\n",
       "  </thead>\n",
       "  <tbody>\n",
       "    <tr>\n",
       "      <th>2013-01-01</th>\n",
       "      <td>0.773841</td>\n",
       "      <td>-2.157808</td>\n",
       "      <td>0.984614</td>\n",
       "      <td>-2.097593</td>\n",
       "    </tr>\n",
       "    <tr>\n",
       "      <th>2013-01-02</th>\n",
       "      <td>-1.550663</td>\n",
       "      <td>1.715276</td>\n",
       "      <td>-0.208843</td>\n",
       "      <td>-0.813946</td>\n",
       "    </tr>\n",
       "    <tr>\n",
       "      <th>2013-01-03</th>\n",
       "      <td>0.312465</td>\n",
       "      <td>-0.286060</td>\n",
       "      <td>-1.213577</td>\n",
       "      <td>-1.056977</td>\n",
       "    </tr>\n",
       "    <tr>\n",
       "      <th>2013-01-04</th>\n",
       "      <td>1.372956</td>\n",
       "      <td>0.060266</td>\n",
       "      <td>1.486997</td>\n",
       "      <td>-0.921437</td>\n",
       "    </tr>\n",
       "    <tr>\n",
       "      <th>2013-01-05</th>\n",
       "      <td>1.284129</td>\n",
       "      <td>-0.102916</td>\n",
       "      <td>0.065467</td>\n",
       "      <td>0.099667</td>\n",
       "    </tr>\n",
       "  </tbody>\n",
       "</table>\n",
       "</div>"
      ],
      "text/plain": [
       "                   A         B         C         D\n",
       "2013-01-01  0.773841 -2.157808  0.984614 -2.097593\n",
       "2013-01-02 -1.550663  1.715276 -0.208843 -0.813946\n",
       "2013-01-03  0.312465 -0.286060 -1.213577 -1.056977\n",
       "2013-01-04  1.372956  0.060266  1.486997 -0.921437\n",
       "2013-01-05  1.284129 -0.102916  0.065467  0.099667"
      ]
     },
     "execution_count": 48,
     "metadata": {},
     "output_type": "execute_result"
    }
   ],
   "source": [
    "df.head()"
   ]
  },
  {
   "cell_type": "code",
   "execution_count": 49,
   "metadata": {},
   "outputs": [
    {
     "data": {
      "text/html": [
       "<div>\n",
       "<style>\n",
       "    .dataframe thead tr:only-child th {\n",
       "        text-align: right;\n",
       "    }\n",
       "\n",
       "    .dataframe thead th {\n",
       "        text-align: left;\n",
       "    }\n",
       "\n",
       "    .dataframe tbody tr th {\n",
       "        vertical-align: top;\n",
       "    }\n",
       "</style>\n",
       "<table border=\"1\" class=\"dataframe\">\n",
       "  <thead>\n",
       "    <tr style=\"text-align: right;\">\n",
       "      <th></th>\n",
       "      <th>A</th>\n",
       "      <th>B</th>\n",
       "      <th>C</th>\n",
       "      <th>D</th>\n",
       "    </tr>\n",
       "  </thead>\n",
       "  <tbody>\n",
       "    <tr>\n",
       "      <th>2013-01-03</th>\n",
       "      <td>0.312465</td>\n",
       "      <td>-0.286060</td>\n",
       "      <td>-1.213577</td>\n",
       "      <td>-1.056977</td>\n",
       "    </tr>\n",
       "    <tr>\n",
       "      <th>2013-01-04</th>\n",
       "      <td>1.372956</td>\n",
       "      <td>0.060266</td>\n",
       "      <td>1.486997</td>\n",
       "      <td>-0.921437</td>\n",
       "    </tr>\n",
       "    <tr>\n",
       "      <th>2013-01-05</th>\n",
       "      <td>1.284129</td>\n",
       "      <td>-0.102916</td>\n",
       "      <td>0.065467</td>\n",
       "      <td>0.099667</td>\n",
       "    </tr>\n",
       "    <tr>\n",
       "      <th>2013-01-06</th>\n",
       "      <td>-0.045638</td>\n",
       "      <td>-1.231555</td>\n",
       "      <td>0.422141</td>\n",
       "      <td>-1.604347</td>\n",
       "    </tr>\n",
       "    <tr>\n",
       "      <th>2013-01-07</th>\n",
       "      <td>0.016691</td>\n",
       "      <td>0.501258</td>\n",
       "      <td>0.056150</td>\n",
       "      <td>-1.571234</td>\n",
       "    </tr>\n",
       "  </tbody>\n",
       "</table>\n",
       "</div>"
      ],
      "text/plain": [
       "                   A         B         C         D\n",
       "2013-01-03  0.312465 -0.286060 -1.213577 -1.056977\n",
       "2013-01-04  1.372956  0.060266  1.486997 -0.921437\n",
       "2013-01-05  1.284129 -0.102916  0.065467  0.099667\n",
       "2013-01-06 -0.045638 -1.231555  0.422141 -1.604347\n",
       "2013-01-07  0.016691  0.501258  0.056150 -1.571234"
      ]
     },
     "execution_count": 49,
     "metadata": {},
     "output_type": "execute_result"
    }
   ],
   "source": [
    "df.tail()"
   ]
  },
  {
   "cell_type": "code",
   "execution_count": 50,
   "metadata": {},
   "outputs": [
    {
     "data": {
      "text/plain": [
       "DatetimeIndex(['2013-01-01', '2013-01-02', '2013-01-03', '2013-01-04',\n",
       "               '2013-01-05', '2013-01-06', '2013-01-07'],\n",
       "              dtype='datetime64[ns]', freq='D')"
      ]
     },
     "execution_count": 50,
     "metadata": {},
     "output_type": "execute_result"
    }
   ],
   "source": [
    "df.index"
   ]
  },
  {
   "cell_type": "code",
   "execution_count": 51,
   "metadata": {},
   "outputs": [
    {
     "data": {
      "text/plain": [
       "Index(['A', 'B', 'C', 'D'], dtype='object')"
      ]
     },
     "execution_count": 51,
     "metadata": {},
     "output_type": "execute_result"
    }
   ],
   "source": [
    "df.columns"
   ]
  },
  {
   "cell_type": "code",
   "execution_count": 52,
   "metadata": {},
   "outputs": [
    {
     "data": {
      "text/plain": [
       "array([[ 0.77384137, -2.15780788,  0.98461431, -2.09759253],\n",
       "       [-1.55066324,  1.71527573, -0.20884264, -0.81394591],\n",
       "       [ 0.31246472, -0.28606005, -1.21357664, -1.05697663],\n",
       "       [ 1.37295584,  0.06026604,  1.48699717, -0.92143693],\n",
       "       [ 1.28412926, -0.10291624,  0.06546665,  0.09966702],\n",
       "       [-0.0456384 , -1.23155468,  0.42214095, -1.60434672],\n",
       "       [ 0.0166913 ,  0.50125822,  0.05615016, -1.57123416]])"
      ]
     },
     "execution_count": 52,
     "metadata": {},
     "output_type": "execute_result"
    }
   ],
   "source": [
    "df.values"
   ]
  },
  {
   "cell_type": "code",
   "execution_count": 53,
   "metadata": {},
   "outputs": [
    {
     "data": {
      "text/html": [
       "<div>\n",
       "<style>\n",
       "    .dataframe thead tr:only-child th {\n",
       "        text-align: right;\n",
       "    }\n",
       "\n",
       "    .dataframe thead th {\n",
       "        text-align: left;\n",
       "    }\n",
       "\n",
       "    .dataframe tbody tr th {\n",
       "        vertical-align: top;\n",
       "    }\n",
       "</style>\n",
       "<table border=\"1\" class=\"dataframe\">\n",
       "  <thead>\n",
       "    <tr style=\"text-align: right;\">\n",
       "      <th></th>\n",
       "      <th>A</th>\n",
       "      <th>B</th>\n",
       "      <th>C</th>\n",
       "      <th>D</th>\n",
       "    </tr>\n",
       "  </thead>\n",
       "  <tbody>\n",
       "    <tr>\n",
       "      <th>count</th>\n",
       "      <td>7.000000</td>\n",
       "      <td>7.000000</td>\n",
       "      <td>7.000000</td>\n",
       "      <td>7.000000</td>\n",
       "    </tr>\n",
       "    <tr>\n",
       "      <th>mean</th>\n",
       "      <td>0.309112</td>\n",
       "      <td>-0.214506</td>\n",
       "      <td>0.227564</td>\n",
       "      <td>-1.137981</td>\n",
       "    </tr>\n",
       "    <tr>\n",
       "      <th>std</th>\n",
       "      <td>0.997374</td>\n",
       "      <td>1.234251</td>\n",
       "      <td>0.867962</td>\n",
       "      <td>0.709023</td>\n",
       "    </tr>\n",
       "    <tr>\n",
       "      <th>min</th>\n",
       "      <td>-1.550663</td>\n",
       "      <td>-2.157808</td>\n",
       "      <td>-1.213577</td>\n",
       "      <td>-2.097593</td>\n",
       "    </tr>\n",
       "    <tr>\n",
       "      <th>25%</th>\n",
       "      <td>-0.014474</td>\n",
       "      <td>-0.758807</td>\n",
       "      <td>-0.076346</td>\n",
       "      <td>-1.587790</td>\n",
       "    </tr>\n",
       "    <tr>\n",
       "      <th>50%</th>\n",
       "      <td>0.312465</td>\n",
       "      <td>-0.102916</td>\n",
       "      <td>0.065467</td>\n",
       "      <td>-1.056977</td>\n",
       "    </tr>\n",
       "    <tr>\n",
       "      <th>75%</th>\n",
       "      <td>1.028985</td>\n",
       "      <td>0.280762</td>\n",
       "      <td>0.703378</td>\n",
       "      <td>-0.867691</td>\n",
       "    </tr>\n",
       "    <tr>\n",
       "      <th>max</th>\n",
       "      <td>1.372956</td>\n",
       "      <td>1.715276</td>\n",
       "      <td>1.486997</td>\n",
       "      <td>0.099667</td>\n",
       "    </tr>\n",
       "  </tbody>\n",
       "</table>\n",
       "</div>"
      ],
      "text/plain": [
       "              A         B         C         D\n",
       "count  7.000000  7.000000  7.000000  7.000000\n",
       "mean   0.309112 -0.214506  0.227564 -1.137981\n",
       "std    0.997374  1.234251  0.867962  0.709023\n",
       "min   -1.550663 -2.157808 -1.213577 -2.097593\n",
       "25%   -0.014474 -0.758807 -0.076346 -1.587790\n",
       "50%    0.312465 -0.102916  0.065467 -1.056977\n",
       "75%    1.028985  0.280762  0.703378 -0.867691\n",
       "max    1.372956  1.715276  1.486997  0.099667"
      ]
     },
     "execution_count": 53,
     "metadata": {},
     "output_type": "execute_result"
    }
   ],
   "source": [
    "df.describe()"
   ]
  },
  {
   "cell_type": "code",
   "execution_count": 54,
   "metadata": {},
   "outputs": [
    {
     "data": {
      "text/plain": [
       "count    7.000000\n",
       "mean    -1.137981\n",
       "std      0.709023\n",
       "min     -2.097593\n",
       "25%     -1.587790\n",
       "50%     -1.056977\n",
       "75%     -0.867691\n",
       "max      0.099667\n",
       "Name: D, dtype: float64"
      ]
     },
     "execution_count": 54,
     "metadata": {},
     "output_type": "execute_result"
    }
   ],
   "source": [
    "df.D.describe()"
   ]
  },
  {
   "cell_type": "code",
   "execution_count": 55,
   "metadata": {},
   "outputs": [
    {
     "data": {
      "text/html": [
       "<div>\n",
       "<style>\n",
       "    .dataframe thead tr:only-child th {\n",
       "        text-align: right;\n",
       "    }\n",
       "\n",
       "    .dataframe thead th {\n",
       "        text-align: left;\n",
       "    }\n",
       "\n",
       "    .dataframe tbody tr th {\n",
       "        vertical-align: top;\n",
       "    }\n",
       "</style>\n",
       "<table border=\"1\" class=\"dataframe\">\n",
       "  <thead>\n",
       "    <tr style=\"text-align: right;\">\n",
       "      <th></th>\n",
       "      <th>2013-01-01 00:00:00</th>\n",
       "      <th>2013-01-02 00:00:00</th>\n",
       "      <th>2013-01-03 00:00:00</th>\n",
       "      <th>2013-01-04 00:00:00</th>\n",
       "      <th>2013-01-05 00:00:00</th>\n",
       "      <th>2013-01-06 00:00:00</th>\n",
       "      <th>2013-01-07 00:00:00</th>\n",
       "    </tr>\n",
       "  </thead>\n",
       "  <tbody>\n",
       "    <tr>\n",
       "      <th>A</th>\n",
       "      <td>0.773841</td>\n",
       "      <td>-1.550663</td>\n",
       "      <td>0.312465</td>\n",
       "      <td>1.372956</td>\n",
       "      <td>1.284129</td>\n",
       "      <td>-0.045638</td>\n",
       "      <td>0.016691</td>\n",
       "    </tr>\n",
       "    <tr>\n",
       "      <th>B</th>\n",
       "      <td>-2.157808</td>\n",
       "      <td>1.715276</td>\n",
       "      <td>-0.286060</td>\n",
       "      <td>0.060266</td>\n",
       "      <td>-0.102916</td>\n",
       "      <td>-1.231555</td>\n",
       "      <td>0.501258</td>\n",
       "    </tr>\n",
       "    <tr>\n",
       "      <th>C</th>\n",
       "      <td>0.984614</td>\n",
       "      <td>-0.208843</td>\n",
       "      <td>-1.213577</td>\n",
       "      <td>1.486997</td>\n",
       "      <td>0.065467</td>\n",
       "      <td>0.422141</td>\n",
       "      <td>0.056150</td>\n",
       "    </tr>\n",
       "    <tr>\n",
       "      <th>D</th>\n",
       "      <td>-2.097593</td>\n",
       "      <td>-0.813946</td>\n",
       "      <td>-1.056977</td>\n",
       "      <td>-0.921437</td>\n",
       "      <td>0.099667</td>\n",
       "      <td>-1.604347</td>\n",
       "      <td>-1.571234</td>\n",
       "    </tr>\n",
       "  </tbody>\n",
       "</table>\n",
       "</div>"
      ],
      "text/plain": [
       "   2013-01-01  2013-01-02  2013-01-03  2013-01-04  2013-01-05  2013-01-06  \\\n",
       "A    0.773841   -1.550663    0.312465    1.372956    1.284129   -0.045638   \n",
       "B   -2.157808    1.715276   -0.286060    0.060266   -0.102916   -1.231555   \n",
       "C    0.984614   -0.208843   -1.213577    1.486997    0.065467    0.422141   \n",
       "D   -2.097593   -0.813946   -1.056977   -0.921437    0.099667   -1.604347   \n",
       "\n",
       "   2013-01-07  \n",
       "A    0.016691  \n",
       "B    0.501258  \n",
       "C    0.056150  \n",
       "D   -1.571234  "
      ]
     },
     "execution_count": 55,
     "metadata": {},
     "output_type": "execute_result"
    }
   ],
   "source": [
    "df.T"
   ]
  },
  {
   "cell_type": "code",
   "execution_count": 63,
   "metadata": {},
   "outputs": [
    {
     "data": {
      "text/html": [
       "<div>\n",
       "<style>\n",
       "    .dataframe thead tr:only-child th {\n",
       "        text-align: right;\n",
       "    }\n",
       "\n",
       "    .dataframe thead th {\n",
       "        text-align: left;\n",
       "    }\n",
       "\n",
       "    .dataframe tbody tr th {\n",
       "        vertical-align: top;\n",
       "    }\n",
       "</style>\n",
       "<table border=\"1\" class=\"dataframe\">\n",
       "  <thead>\n",
       "    <tr style=\"text-align: right;\">\n",
       "      <th></th>\n",
       "      <th>A</th>\n",
       "      <th>B</th>\n",
       "      <th>C</th>\n",
       "      <th>D</th>\n",
       "    </tr>\n",
       "  </thead>\n",
       "  <tbody>\n",
       "    <tr>\n",
       "      <th>2013-01-07</th>\n",
       "      <td>0.016691</td>\n",
       "      <td>0.501258</td>\n",
       "      <td>0.056150</td>\n",
       "      <td>-1.571234</td>\n",
       "    </tr>\n",
       "    <tr>\n",
       "      <th>2013-01-06</th>\n",
       "      <td>-0.045638</td>\n",
       "      <td>-1.231555</td>\n",
       "      <td>0.422141</td>\n",
       "      <td>-1.604347</td>\n",
       "    </tr>\n",
       "    <tr>\n",
       "      <th>2013-01-05</th>\n",
       "      <td>1.284129</td>\n",
       "      <td>-0.102916</td>\n",
       "      <td>0.065467</td>\n",
       "      <td>0.099667</td>\n",
       "    </tr>\n",
       "    <tr>\n",
       "      <th>2013-01-04</th>\n",
       "      <td>1.372956</td>\n",
       "      <td>0.060266</td>\n",
       "      <td>1.486997</td>\n",
       "      <td>-0.921437</td>\n",
       "    </tr>\n",
       "    <tr>\n",
       "      <th>2013-01-03</th>\n",
       "      <td>0.312465</td>\n",
       "      <td>-0.286060</td>\n",
       "      <td>-1.213577</td>\n",
       "      <td>-1.056977</td>\n",
       "    </tr>\n",
       "    <tr>\n",
       "      <th>2013-01-02</th>\n",
       "      <td>-1.550663</td>\n",
       "      <td>1.715276</td>\n",
       "      <td>-0.208843</td>\n",
       "      <td>-0.813946</td>\n",
       "    </tr>\n",
       "    <tr>\n",
       "      <th>2013-01-01</th>\n",
       "      <td>0.773841</td>\n",
       "      <td>-2.157808</td>\n",
       "      <td>0.984614</td>\n",
       "      <td>-2.097593</td>\n",
       "    </tr>\n",
       "  </tbody>\n",
       "</table>\n",
       "</div>"
      ],
      "text/plain": [
       "                   A         B         C         D\n",
       "2013-01-07  0.016691  0.501258  0.056150 -1.571234\n",
       "2013-01-06 -0.045638 -1.231555  0.422141 -1.604347\n",
       "2013-01-05  1.284129 -0.102916  0.065467  0.099667\n",
       "2013-01-04  1.372956  0.060266  1.486997 -0.921437\n",
       "2013-01-03  0.312465 -0.286060 -1.213577 -1.056977\n",
       "2013-01-02 -1.550663  1.715276 -0.208843 -0.813946\n",
       "2013-01-01  0.773841 -2.157808  0.984614 -2.097593"
      ]
     },
     "execution_count": 63,
     "metadata": {},
     "output_type": "execute_result"
    }
   ],
   "source": [
    "sdf = df.sort_index(axis=0, ascending=False)\n",
    "sdf"
   ]
  },
  {
   "cell_type": "code",
   "execution_count": 58,
   "metadata": {},
   "outputs": [
    {
     "data": {
      "text/html": [
       "<div>\n",
       "<style>\n",
       "    .dataframe thead tr:only-child th {\n",
       "        text-align: right;\n",
       "    }\n",
       "\n",
       "    .dataframe thead th {\n",
       "        text-align: left;\n",
       "    }\n",
       "\n",
       "    .dataframe tbody tr th {\n",
       "        vertical-align: top;\n",
       "    }\n",
       "</style>\n",
       "<table border=\"1\" class=\"dataframe\">\n",
       "  <thead>\n",
       "    <tr style=\"text-align: right;\">\n",
       "      <th></th>\n",
       "      <th>A</th>\n",
       "      <th>B</th>\n",
       "      <th>C</th>\n",
       "      <th>D</th>\n",
       "    </tr>\n",
       "  </thead>\n",
       "  <tbody>\n",
       "    <tr>\n",
       "      <th>2013-01-01</th>\n",
       "      <td>0.773841</td>\n",
       "      <td>-2.157808</td>\n",
       "      <td>0.984614</td>\n",
       "      <td>-2.097593</td>\n",
       "    </tr>\n",
       "    <tr>\n",
       "      <th>2013-01-02</th>\n",
       "      <td>-1.550663</td>\n",
       "      <td>1.715276</td>\n",
       "      <td>-0.208843</td>\n",
       "      <td>-0.813946</td>\n",
       "    </tr>\n",
       "    <tr>\n",
       "      <th>2013-01-03</th>\n",
       "      <td>0.312465</td>\n",
       "      <td>-0.286060</td>\n",
       "      <td>-1.213577</td>\n",
       "      <td>-1.056977</td>\n",
       "    </tr>\n",
       "    <tr>\n",
       "      <th>2013-01-04</th>\n",
       "      <td>1.372956</td>\n",
       "      <td>0.060266</td>\n",
       "      <td>1.486997</td>\n",
       "      <td>-0.921437</td>\n",
       "    </tr>\n",
       "    <tr>\n",
       "      <th>2013-01-05</th>\n",
       "      <td>1.284129</td>\n",
       "      <td>-0.102916</td>\n",
       "      <td>0.065467</td>\n",
       "      <td>0.099667</td>\n",
       "    </tr>\n",
       "    <tr>\n",
       "      <th>2013-01-06</th>\n",
       "      <td>-0.045638</td>\n",
       "      <td>-1.231555</td>\n",
       "      <td>0.422141</td>\n",
       "      <td>-1.604347</td>\n",
       "    </tr>\n",
       "    <tr>\n",
       "      <th>2013-01-07</th>\n",
       "      <td>0.016691</td>\n",
       "      <td>0.501258</td>\n",
       "      <td>0.056150</td>\n",
       "      <td>-1.571234</td>\n",
       "    </tr>\n",
       "  </tbody>\n",
       "</table>\n",
       "</div>"
      ],
      "text/plain": [
       "                   A         B         C         D\n",
       "2013-01-01  0.773841 -2.157808  0.984614 -2.097593\n",
       "2013-01-02 -1.550663  1.715276 -0.208843 -0.813946\n",
       "2013-01-03  0.312465 -0.286060 -1.213577 -1.056977\n",
       "2013-01-04  1.372956  0.060266  1.486997 -0.921437\n",
       "2013-01-05  1.284129 -0.102916  0.065467  0.099667\n",
       "2013-01-06 -0.045638 -1.231555  0.422141 -1.604347\n",
       "2013-01-07  0.016691  0.501258  0.056150 -1.571234"
      ]
     },
     "execution_count": 58,
     "metadata": {},
     "output_type": "execute_result"
    }
   ],
   "source": [
    "df"
   ]
  },
  {
   "cell_type": "code",
   "execution_count": 67,
   "metadata": {},
   "outputs": [
    {
     "data": {
      "text/html": [
       "<div>\n",
       "<style>\n",
       "    .dataframe thead tr:only-child th {\n",
       "        text-align: right;\n",
       "    }\n",
       "\n",
       "    .dataframe thead th {\n",
       "        text-align: left;\n",
       "    }\n",
       "\n",
       "    .dataframe tbody tr th {\n",
       "        vertical-align: top;\n",
       "    }\n",
       "</style>\n",
       "<table border=\"1\" class=\"dataframe\">\n",
       "  <thead>\n",
       "    <tr style=\"text-align: right;\">\n",
       "      <th></th>\n",
       "      <th>A</th>\n",
       "      <th>B</th>\n",
       "      <th>C</th>\n",
       "      <th>D</th>\n",
       "    </tr>\n",
       "  </thead>\n",
       "  <tbody>\n",
       "    <tr>\n",
       "      <th>2013-01-04</th>\n",
       "      <td>1.372956</td>\n",
       "      <td>0.060266</td>\n",
       "      <td>1.486997</td>\n",
       "      <td>-0.921437</td>\n",
       "    </tr>\n",
       "    <tr>\n",
       "      <th>2013-01-05</th>\n",
       "      <td>1.284129</td>\n",
       "      <td>-0.102916</td>\n",
       "      <td>0.065467</td>\n",
       "      <td>0.099667</td>\n",
       "    </tr>\n",
       "    <tr>\n",
       "      <th>2013-01-01</th>\n",
       "      <td>0.773841</td>\n",
       "      <td>-2.157808</td>\n",
       "      <td>0.984614</td>\n",
       "      <td>-2.097593</td>\n",
       "    </tr>\n",
       "    <tr>\n",
       "      <th>2013-01-03</th>\n",
       "      <td>0.312465</td>\n",
       "      <td>-0.286060</td>\n",
       "      <td>-1.213577</td>\n",
       "      <td>-1.056977</td>\n",
       "    </tr>\n",
       "    <tr>\n",
       "      <th>2013-01-07</th>\n",
       "      <td>0.016691</td>\n",
       "      <td>0.501258</td>\n",
       "      <td>0.056150</td>\n",
       "      <td>-1.571234</td>\n",
       "    </tr>\n",
       "    <tr>\n",
       "      <th>2013-01-06</th>\n",
       "      <td>-0.045638</td>\n",
       "      <td>-1.231555</td>\n",
       "      <td>0.422141</td>\n",
       "      <td>-1.604347</td>\n",
       "    </tr>\n",
       "    <tr>\n",
       "      <th>2013-01-02</th>\n",
       "      <td>-1.550663</td>\n",
       "      <td>1.715276</td>\n",
       "      <td>-0.208843</td>\n",
       "      <td>-0.813946</td>\n",
       "    </tr>\n",
       "  </tbody>\n",
       "</table>\n",
       "</div>"
      ],
      "text/plain": [
       "                   A         B         C         D\n",
       "2013-01-04  1.372956  0.060266  1.486997 -0.921437\n",
       "2013-01-05  1.284129 -0.102916  0.065467  0.099667\n",
       "2013-01-01  0.773841 -2.157808  0.984614 -2.097593\n",
       "2013-01-03  0.312465 -0.286060 -1.213577 -1.056977\n",
       "2013-01-07  0.016691  0.501258  0.056150 -1.571234\n",
       "2013-01-06 -0.045638 -1.231555  0.422141 -1.604347\n",
       "2013-01-02 -1.550663  1.715276 -0.208843 -0.813946"
      ]
     },
     "execution_count": 67,
     "metadata": {},
     "output_type": "execute_result"
    }
   ],
   "source": [
    "df.sort_values(by='A', ascending=False)"
   ]
  },
  {
   "cell_type": "markdown",
   "metadata": {},
   "source": [
    "## 数据选择\n",
    "~ 参考\n",
    "- [Indexing and Selecting Data](http://pandas.pydata.org/pandas-docs/stable/indexing.html#indexing)\n",
    "- [MultiIndex / Advanced Indexing](http://pandas.pydata.org/pandas-docs/stable/advanced.html#advanced)\n",
    "\n",
    "### 选取"
   ]
  },
  {
   "cell_type": "code",
   "execution_count": 68,
   "metadata": {},
   "outputs": [
    {
     "data": {
      "text/plain": [
       "2013-01-01    0.773841\n",
       "2013-01-02   -1.550663\n",
       "2013-01-03    0.312465\n",
       "2013-01-04    1.372956\n",
       "2013-01-05    1.284129\n",
       "2013-01-06   -0.045638\n",
       "2013-01-07    0.016691\n",
       "Freq: D, Name: A, dtype: float64"
      ]
     },
     "execution_count": 68,
     "metadata": {},
     "output_type": "execute_result"
    }
   ],
   "source": [
    "df.A"
   ]
  },
  {
   "cell_type": "code",
   "execution_count": 69,
   "metadata": {},
   "outputs": [
    {
     "data": {
      "text/plain": [
       "2013-01-01    0.773841\n",
       "2013-01-02   -1.550663\n",
       "2013-01-03    0.312465\n",
       "2013-01-04    1.372956\n",
       "2013-01-05    1.284129\n",
       "2013-01-06   -0.045638\n",
       "2013-01-07    0.016691\n",
       "Freq: D, Name: A, dtype: float64"
      ]
     },
     "execution_count": 69,
     "metadata": {},
     "output_type": "execute_result"
    }
   ],
   "source": [
    "df['A']"
   ]
  },
  {
   "cell_type": "code",
   "execution_count": 70,
   "metadata": {},
   "outputs": [
    {
     "data": {
      "text/html": [
       "<div>\n",
       "<style>\n",
       "    .dataframe thead tr:only-child th {\n",
       "        text-align: right;\n",
       "    }\n",
       "\n",
       "    .dataframe thead th {\n",
       "        text-align: left;\n",
       "    }\n",
       "\n",
       "    .dataframe tbody tr th {\n",
       "        vertical-align: top;\n",
       "    }\n",
       "</style>\n",
       "<table border=\"1\" class=\"dataframe\">\n",
       "  <thead>\n",
       "    <tr style=\"text-align: right;\">\n",
       "      <th></th>\n",
       "      <th>A</th>\n",
       "      <th>B</th>\n",
       "      <th>C</th>\n",
       "      <th>D</th>\n",
       "    </tr>\n",
       "  </thead>\n",
       "  <tbody>\n",
       "    <tr>\n",
       "      <th>2013-01-01</th>\n",
       "      <td>0.773841</td>\n",
       "      <td>-2.157808</td>\n",
       "      <td>0.984614</td>\n",
       "      <td>-2.097593</td>\n",
       "    </tr>\n",
       "    <tr>\n",
       "      <th>2013-01-02</th>\n",
       "      <td>-1.550663</td>\n",
       "      <td>1.715276</td>\n",
       "      <td>-0.208843</td>\n",
       "      <td>-0.813946</td>\n",
       "    </tr>\n",
       "    <tr>\n",
       "      <th>2013-01-03</th>\n",
       "      <td>0.312465</td>\n",
       "      <td>-0.286060</td>\n",
       "      <td>-1.213577</td>\n",
       "      <td>-1.056977</td>\n",
       "    </tr>\n",
       "  </tbody>\n",
       "</table>\n",
       "</div>"
      ],
      "text/plain": [
       "                   A         B         C         D\n",
       "2013-01-01  0.773841 -2.157808  0.984614 -2.097593\n",
       "2013-01-02 -1.550663  1.715276 -0.208843 -0.813946\n",
       "2013-01-03  0.312465 -0.286060 -1.213577 -1.056977"
      ]
     },
     "execution_count": 70,
     "metadata": {},
     "output_type": "execute_result"
    }
   ],
   "source": [
    "df[0:3]"
   ]
  },
  {
   "cell_type": "code",
   "execution_count": 72,
   "metadata": {},
   "outputs": [
    {
     "data": {
      "text/html": [
       "<div>\n",
       "<style>\n",
       "    .dataframe thead tr:only-child th {\n",
       "        text-align: right;\n",
       "    }\n",
       "\n",
       "    .dataframe thead th {\n",
       "        text-align: left;\n",
       "    }\n",
       "\n",
       "    .dataframe tbody tr th {\n",
       "        vertical-align: top;\n",
       "    }\n",
       "</style>\n",
       "<table border=\"1\" class=\"dataframe\">\n",
       "  <thead>\n",
       "    <tr style=\"text-align: right;\">\n",
       "      <th></th>\n",
       "      <th>A</th>\n",
       "      <th>B</th>\n",
       "      <th>C</th>\n",
       "      <th>D</th>\n",
       "    </tr>\n",
       "  </thead>\n",
       "  <tbody>\n",
       "    <tr>\n",
       "      <th>2013-01-06</th>\n",
       "      <td>-0.045638</td>\n",
       "      <td>-1.231555</td>\n",
       "      <td>0.422141</td>\n",
       "      <td>-1.604347</td>\n",
       "    </tr>\n",
       "    <tr>\n",
       "      <th>2013-01-07</th>\n",
       "      <td>0.016691</td>\n",
       "      <td>0.501258</td>\n",
       "      <td>0.056150</td>\n",
       "      <td>-1.571234</td>\n",
       "    </tr>\n",
       "  </tbody>\n",
       "</table>\n",
       "</div>"
      ],
      "text/plain": [
       "                   A         B         C         D\n",
       "2013-01-06 -0.045638 -1.231555  0.422141 -1.604347\n",
       "2013-01-07  0.016691  0.501258  0.056150 -1.571234"
      ]
     },
     "execution_count": 72,
     "metadata": {},
     "output_type": "execute_result"
    }
   ],
   "source": [
    "df[-2:]"
   ]
  },
  {
   "cell_type": "code",
   "execution_count": 73,
   "metadata": {},
   "outputs": [
    {
     "data": {
      "text/plain": [
       "DatetimeIndex(['2013-01-01', '2013-01-02', '2013-01-03', '2013-01-04',\n",
       "               '2013-01-05', '2013-01-06', '2013-01-07'],\n",
       "              dtype='datetime64[ns]', freq='D')"
      ]
     },
     "execution_count": 73,
     "metadata": {},
     "output_type": "execute_result"
    }
   ],
   "source": [
    "df.index"
   ]
  },
  {
   "cell_type": "code",
   "execution_count": 78,
   "metadata": {},
   "outputs": [
    {
     "data": {
      "text/html": [
       "<div>\n",
       "<style>\n",
       "    .dataframe thead tr:only-child th {\n",
       "        text-align: right;\n",
       "    }\n",
       "\n",
       "    .dataframe thead th {\n",
       "        text-align: left;\n",
       "    }\n",
       "\n",
       "    .dataframe tbody tr th {\n",
       "        vertical-align: top;\n",
       "    }\n",
       "</style>\n",
       "<table border=\"1\" class=\"dataframe\">\n",
       "  <thead>\n",
       "    <tr style=\"text-align: right;\">\n",
       "      <th></th>\n",
       "      <th>A</th>\n",
       "      <th>B</th>\n",
       "      <th>C</th>\n",
       "      <th>D</th>\n",
       "    </tr>\n",
       "  </thead>\n",
       "  <tbody>\n",
       "    <tr>\n",
       "      <th>2013-01-01</th>\n",
       "      <td>0.773841</td>\n",
       "      <td>-2.157808</td>\n",
       "      <td>0.984614</td>\n",
       "      <td>-2.097593</td>\n",
       "    </tr>\n",
       "    <tr>\n",
       "      <th>2013-01-02</th>\n",
       "      <td>-1.550663</td>\n",
       "      <td>1.715276</td>\n",
       "      <td>-0.208843</td>\n",
       "      <td>-0.813946</td>\n",
       "    </tr>\n",
       "    <tr>\n",
       "      <th>2013-01-03</th>\n",
       "      <td>0.312465</td>\n",
       "      <td>-0.286060</td>\n",
       "      <td>-1.213577</td>\n",
       "      <td>-1.056977</td>\n",
       "    </tr>\n",
       "    <tr>\n",
       "      <th>2013-01-04</th>\n",
       "      <td>1.372956</td>\n",
       "      <td>0.060266</td>\n",
       "      <td>1.486997</td>\n",
       "      <td>-0.921437</td>\n",
       "    </tr>\n",
       "    <tr>\n",
       "      <th>2013-01-05</th>\n",
       "      <td>1.284129</td>\n",
       "      <td>-0.102916</td>\n",
       "      <td>0.065467</td>\n",
       "      <td>0.099667</td>\n",
       "    </tr>\n",
       "    <tr>\n",
       "      <th>2013-01-06</th>\n",
       "      <td>-0.045638</td>\n",
       "      <td>-1.231555</td>\n",
       "      <td>0.422141</td>\n",
       "      <td>-1.604347</td>\n",
       "    </tr>\n",
       "    <tr>\n",
       "      <th>2013-01-07</th>\n",
       "      <td>0.016691</td>\n",
       "      <td>0.501258</td>\n",
       "      <td>0.056150</td>\n",
       "      <td>-1.571234</td>\n",
       "    </tr>\n",
       "  </tbody>\n",
       "</table>\n",
       "</div>"
      ],
      "text/plain": [
       "                   A         B         C         D\n",
       "2013-01-01  0.773841 -2.157808  0.984614 -2.097593\n",
       "2013-01-02 -1.550663  1.715276 -0.208843 -0.813946\n",
       "2013-01-03  0.312465 -0.286060 -1.213577 -1.056977\n",
       "2013-01-04  1.372956  0.060266  1.486997 -0.921437\n",
       "2013-01-05  1.284129 -0.102916  0.065467  0.099667\n",
       "2013-01-06 -0.045638 -1.231555  0.422141 -1.604347\n",
       "2013-01-07  0.016691  0.501258  0.056150 -1.571234"
      ]
     },
     "execution_count": 78,
     "metadata": {},
     "output_type": "execute_result"
    }
   ],
   "source": [
    "df['130103':'6/1/2013']"
   ]
  },
  {
   "cell_type": "markdown",
   "metadata": {},
   "source": [
    "### 以标签为选取"
   ]
  },
  {
   "cell_type": "code",
   "execution_count": 79,
   "metadata": {},
   "outputs": [
    {
     "data": {
      "text/plain": [
       "A    0.773841\n",
       "B   -2.157808\n",
       "C    0.984614\n",
       "D   -2.097593\n",
       "Name: 2013-01-01 00:00:00, dtype: float64"
      ]
     },
     "execution_count": 79,
     "metadata": {},
     "output_type": "execute_result"
    }
   ],
   "source": [
    "df.loc[dates[0]]"
   ]
  },
  {
   "cell_type": "code",
   "execution_count": 80,
   "metadata": {},
   "outputs": [
    {
     "data": {
      "text/plain": [
       "DatetimeIndex(['2013-01-01', '2013-01-02', '2013-01-03', '2013-01-04',\n",
       "               '2013-01-05', '2013-01-06'],\n",
       "              dtype='datetime64[ns]', freq='D')"
      ]
     },
     "execution_count": 80,
     "metadata": {},
     "output_type": "execute_result"
    }
   ],
   "source": [
    "dates"
   ]
  },
  {
   "cell_type": "code",
   "execution_count": 81,
   "metadata": {},
   "outputs": [
    {
     "data": {
      "text/plain": [
       "DatetimeIndex(['2013-01-01', '2013-01-02', '2013-01-03', '2013-01-04',\n",
       "               '2013-01-05', '2013-01-06', '2013-01-07'],\n",
       "              dtype='datetime64[ns]', freq='D')"
      ]
     },
     "execution_count": 81,
     "metadata": {},
     "output_type": "execute_result"
    }
   ],
   "source": [
    "df.index"
   ]
  },
  {
   "cell_type": "code",
   "execution_count": 83,
   "metadata": {},
   "outputs": [
    {
     "data": {
      "text/plain": [
       "A    0.016691\n",
       "B    0.501258\n",
       "C    0.056150\n",
       "D   -1.571234\n",
       "Name: 2013-01-07 00:00:00, dtype: float64"
      ]
     },
     "execution_count": 83,
     "metadata": {},
     "output_type": "execute_result"
    }
   ],
   "source": [
    "df.loc[df.index[-1]]"
   ]
  },
  {
   "cell_type": "code",
   "execution_count": 86,
   "metadata": {},
   "outputs": [
    {
     "data": {
      "text/html": [
       "<div>\n",
       "<style>\n",
       "    .dataframe thead tr:only-child th {\n",
       "        text-align: right;\n",
       "    }\n",
       "\n",
       "    .dataframe thead th {\n",
       "        text-align: left;\n",
       "    }\n",
       "\n",
       "    .dataframe tbody tr th {\n",
       "        vertical-align: top;\n",
       "    }\n",
       "</style>\n",
       "<table border=\"1\" class=\"dataframe\">\n",
       "  <thead>\n",
       "    <tr style=\"text-align: right;\">\n",
       "      <th></th>\n",
       "      <th>A</th>\n",
       "      <th>B</th>\n",
       "    </tr>\n",
       "  </thead>\n",
       "  <tbody>\n",
       "    <tr>\n",
       "      <th>2013-01-01</th>\n",
       "      <td>0.773841</td>\n",
       "      <td>-2.157808</td>\n",
       "    </tr>\n",
       "    <tr>\n",
       "      <th>2013-01-02</th>\n",
       "      <td>-1.550663</td>\n",
       "      <td>1.715276</td>\n",
       "    </tr>\n",
       "    <tr>\n",
       "      <th>2013-01-03</th>\n",
       "      <td>0.312465</td>\n",
       "      <td>-0.286060</td>\n",
       "    </tr>\n",
       "    <tr>\n",
       "      <th>2013-01-04</th>\n",
       "      <td>1.372956</td>\n",
       "      <td>0.060266</td>\n",
       "    </tr>\n",
       "    <tr>\n",
       "      <th>2013-01-05</th>\n",
       "      <td>1.284129</td>\n",
       "      <td>-0.102916</td>\n",
       "    </tr>\n",
       "    <tr>\n",
       "      <th>2013-01-06</th>\n",
       "      <td>-0.045638</td>\n",
       "      <td>-1.231555</td>\n",
       "    </tr>\n",
       "    <tr>\n",
       "      <th>2013-01-07</th>\n",
       "      <td>0.016691</td>\n",
       "      <td>0.501258</td>\n",
       "    </tr>\n",
       "  </tbody>\n",
       "</table>\n",
       "</div>"
      ],
      "text/plain": [
       "                   A         B\n",
       "2013-01-01  0.773841 -2.157808\n",
       "2013-01-02 -1.550663  1.715276\n",
       "2013-01-03  0.312465 -0.286060\n",
       "2013-01-04  1.372956  0.060266\n",
       "2013-01-05  1.284129 -0.102916\n",
       "2013-01-06 -0.045638 -1.231555\n",
       "2013-01-07  0.016691  0.501258"
      ]
     },
     "execution_count": 86,
     "metadata": {},
     "output_type": "execute_result"
    }
   ],
   "source": [
    "df.loc[:,['A','B']]"
   ]
  },
  {
   "cell_type": "code",
   "execution_count": 89,
   "metadata": {},
   "outputs": [
    {
     "data": {
      "text/html": [
       "<div>\n",
       "<style>\n",
       "    .dataframe thead tr:only-child th {\n",
       "        text-align: right;\n",
       "    }\n",
       "\n",
       "    .dataframe thead th {\n",
       "        text-align: left;\n",
       "    }\n",
       "\n",
       "    .dataframe tbody tr th {\n",
       "        vertical-align: top;\n",
       "    }\n",
       "</style>\n",
       "<table border=\"1\" class=\"dataframe\">\n",
       "  <thead>\n",
       "    <tr style=\"text-align: right;\">\n",
       "      <th></th>\n",
       "      <th>A</th>\n",
       "      <th>B</th>\n",
       "    </tr>\n",
       "  </thead>\n",
       "  <tbody>\n",
       "    <tr>\n",
       "      <th>2013-01-02</th>\n",
       "      <td>-1.550663</td>\n",
       "      <td>1.715276</td>\n",
       "    </tr>\n",
       "    <tr>\n",
       "      <th>2013-01-03</th>\n",
       "      <td>0.312465</td>\n",
       "      <td>-0.286060</td>\n",
       "    </tr>\n",
       "    <tr>\n",
       "      <th>2013-01-04</th>\n",
       "      <td>1.372956</td>\n",
       "      <td>0.060266</td>\n",
       "    </tr>\n",
       "  </tbody>\n",
       "</table>\n",
       "</div>"
      ],
      "text/plain": [
       "                   A         B\n",
       "2013-01-02 -1.550663  1.715276\n",
       "2013-01-03  0.312465 -0.286060\n",
       "2013-01-04  1.372956  0.060266"
      ]
     },
     "execution_count": 89,
     "metadata": {},
     "output_type": "execute_result"
    }
   ],
   "source": [
    "df.loc['20130102':'20130104',['A','B']]"
   ]
  },
  {
   "cell_type": "code",
   "execution_count": 90,
   "metadata": {},
   "outputs": [
    {
     "data": {
      "text/plain": [
       "A   -1.550663\n",
       "B    1.715276\n",
       "Name: 2013-01-02 00:00:00, dtype: float64"
      ]
     },
     "execution_count": 90,
     "metadata": {},
     "output_type": "execute_result"
    }
   ],
   "source": [
    "df.loc['20130102',['A','B']]"
   ]
  },
  {
   "cell_type": "code",
   "execution_count": 91,
   "metadata": {},
   "outputs": [
    {
     "data": {
      "text/plain": [
       "pandas.core.series.Series"
      ]
     },
     "execution_count": 91,
     "metadata": {},
     "output_type": "execute_result"
    }
   ],
   "source": [
    "type(df.loc['20130102',['A','B']])"
   ]
  },
  {
   "cell_type": "code",
   "execution_count": 95,
   "metadata": {},
   "outputs": [
    {
     "data": {
      "text/plain": [
       "0.77384137275882281"
      ]
     },
     "execution_count": 95,
     "metadata": {},
     "output_type": "execute_result"
    }
   ],
   "source": [
    "df.loc[dates[0],'A']"
   ]
  },
  {
   "cell_type": "code",
   "execution_count": 97,
   "metadata": {},
   "outputs": [
    {
     "data": {
      "text/plain": [
       "numpy.float64"
      ]
     },
     "execution_count": 97,
     "metadata": {},
     "output_type": "execute_result"
    }
   ],
   "source": [
    "type(df.loc[dates[0],'A'])"
   ]
  },
  {
   "cell_type": "code",
   "execution_count": 98,
   "metadata": {},
   "outputs": [
    {
     "data": {
      "text/plain": [
       "0.77384137275882281"
      ]
     },
     "execution_count": 98,
     "metadata": {},
     "output_type": "execute_result"
    }
   ],
   "source": [
    " df.at[dates[0],'A']"
   ]
  },
  {
   "cell_type": "markdown",
   "metadata": {},
   "source": [
    "### 以位置来选取"
   ]
  },
  {
   "cell_type": "code",
   "execution_count": 99,
   "metadata": {},
   "outputs": [
    {
     "data": {
      "text/plain": [
       "A    1.372956\n",
       "B    0.060266\n",
       "C    1.486997\n",
       "D   -0.921437\n",
       "Name: 2013-01-04 00:00:00, dtype: float64"
      ]
     },
     "execution_count": 99,
     "metadata": {},
     "output_type": "execute_result"
    }
   ],
   "source": [
    "df.iloc[3]"
   ]
  },
  {
   "cell_type": "code",
   "execution_count": 105,
   "metadata": {},
   "outputs": [
    {
     "data": {
      "text/html": [
       "<div>\n",
       "<style>\n",
       "    .dataframe thead tr:only-child th {\n",
       "        text-align: right;\n",
       "    }\n",
       "\n",
       "    .dataframe thead th {\n",
       "        text-align: left;\n",
       "    }\n",
       "\n",
       "    .dataframe tbody tr th {\n",
       "        vertical-align: top;\n",
       "    }\n",
       "</style>\n",
       "<table border=\"1\" class=\"dataframe\">\n",
       "  <thead>\n",
       "    <tr style=\"text-align: right;\">\n",
       "      <th></th>\n",
       "      <th>A</th>\n",
       "      <th>B</th>\n",
       "    </tr>\n",
       "  </thead>\n",
       "  <tbody>\n",
       "    <tr>\n",
       "      <th>2013-01-04</th>\n",
       "      <td>1.372956</td>\n",
       "      <td>0.060266</td>\n",
       "    </tr>\n",
       "    <tr>\n",
       "      <th>2013-01-05</th>\n",
       "      <td>1.284129</td>\n",
       "      <td>-0.102916</td>\n",
       "    </tr>\n",
       "  </tbody>\n",
       "</table>\n",
       "</div>"
      ],
      "text/plain": [
       "                   A         B\n",
       "2013-01-04  1.372956  0.060266\n",
       "2013-01-05  1.284129 -0.102916"
      ]
     },
     "execution_count": 105,
     "metadata": {},
     "output_type": "execute_result"
    }
   ],
   "source": [
    "df.iloc[3:5,0:2]"
   ]
  },
  {
   "cell_type": "code",
   "execution_count": 103,
   "metadata": {},
   "outputs": [
    {
     "data": {
      "text/html": [
       "<div>\n",
       "<style>\n",
       "    .dataframe thead tr:only-child th {\n",
       "        text-align: right;\n",
       "    }\n",
       "\n",
       "    .dataframe thead th {\n",
       "        text-align: left;\n",
       "    }\n",
       "\n",
       "    .dataframe tbody tr th {\n",
       "        vertical-align: top;\n",
       "    }\n",
       "</style>\n",
       "<table border=\"1\" class=\"dataframe\">\n",
       "  <thead>\n",
       "    <tr style=\"text-align: right;\">\n",
       "      <th></th>\n",
       "      <th>A</th>\n",
       "      <th>B</th>\n",
       "      <th>C</th>\n",
       "      <th>D</th>\n",
       "    </tr>\n",
       "  </thead>\n",
       "  <tbody>\n",
       "    <tr>\n",
       "      <th>2013-01-01</th>\n",
       "      <td>0.773841</td>\n",
       "      <td>-2.157808</td>\n",
       "      <td>0.984614</td>\n",
       "      <td>-2.097593</td>\n",
       "    </tr>\n",
       "    <tr>\n",
       "      <th>2013-01-02</th>\n",
       "      <td>-1.550663</td>\n",
       "      <td>1.715276</td>\n",
       "      <td>-0.208843</td>\n",
       "      <td>-0.813946</td>\n",
       "    </tr>\n",
       "    <tr>\n",
       "      <th>2013-01-03</th>\n",
       "      <td>0.312465</td>\n",
       "      <td>-0.286060</td>\n",
       "      <td>-1.213577</td>\n",
       "      <td>-1.056977</td>\n",
       "    </tr>\n",
       "    <tr>\n",
       "      <th>2013-01-04</th>\n",
       "      <td>1.372956</td>\n",
       "      <td>0.060266</td>\n",
       "      <td>1.486997</td>\n",
       "      <td>-0.921437</td>\n",
       "    </tr>\n",
       "    <tr>\n",
       "      <th>2013-01-05</th>\n",
       "      <td>1.284129</td>\n",
       "      <td>-0.102916</td>\n",
       "      <td>0.065467</td>\n",
       "      <td>0.099667</td>\n",
       "    </tr>\n",
       "    <tr>\n",
       "      <th>2013-01-06</th>\n",
       "      <td>-0.045638</td>\n",
       "      <td>-1.231555</td>\n",
       "      <td>0.422141</td>\n",
       "      <td>-1.604347</td>\n",
       "    </tr>\n",
       "    <tr>\n",
       "      <th>2013-01-07</th>\n",
       "      <td>0.016691</td>\n",
       "      <td>0.501258</td>\n",
       "      <td>0.056150</td>\n",
       "      <td>-1.571234</td>\n",
       "    </tr>\n",
       "  </tbody>\n",
       "</table>\n",
       "</div>"
      ],
      "text/plain": [
       "                   A         B         C         D\n",
       "2013-01-01  0.773841 -2.157808  0.984614 -2.097593\n",
       "2013-01-02 -1.550663  1.715276 -0.208843 -0.813946\n",
       "2013-01-03  0.312465 -0.286060 -1.213577 -1.056977\n",
       "2013-01-04  1.372956  0.060266  1.486997 -0.921437\n",
       "2013-01-05  1.284129 -0.102916  0.065467  0.099667\n",
       "2013-01-06 -0.045638 -1.231555  0.422141 -1.604347\n",
       "2013-01-07  0.016691  0.501258  0.056150 -1.571234"
      ]
     },
     "execution_count": 103,
     "metadata": {},
     "output_type": "execute_result"
    }
   ],
   "source": [
    "df"
   ]
  },
  {
   "cell_type": "code",
   "execution_count": 106,
   "metadata": {},
   "outputs": [
    {
     "data": {
      "text/html": [
       "<div>\n",
       "<style>\n",
       "    .dataframe thead tr:only-child th {\n",
       "        text-align: right;\n",
       "    }\n",
       "\n",
       "    .dataframe thead th {\n",
       "        text-align: left;\n",
       "    }\n",
       "\n",
       "    .dataframe tbody tr th {\n",
       "        vertical-align: top;\n",
       "    }\n",
       "</style>\n",
       "<table border=\"1\" class=\"dataframe\">\n",
       "  <thead>\n",
       "    <tr style=\"text-align: right;\">\n",
       "      <th></th>\n",
       "      <th>C</th>\n",
       "      <th>D</th>\n",
       "    </tr>\n",
       "  </thead>\n",
       "  <tbody>\n",
       "    <tr>\n",
       "      <th>2013-01-04</th>\n",
       "      <td>1.486997</td>\n",
       "      <td>-0.921437</td>\n",
       "    </tr>\n",
       "    <tr>\n",
       "      <th>2013-01-05</th>\n",
       "      <td>0.065467</td>\n",
       "      <td>0.099667</td>\n",
       "    </tr>\n",
       "  </tbody>\n",
       "</table>\n",
       "</div>"
      ],
      "text/plain": [
       "                   C         D\n",
       "2013-01-04  1.486997 -0.921437\n",
       "2013-01-05  0.065467  0.099667"
      ]
     },
     "execution_count": 106,
     "metadata": {},
     "output_type": "execute_result"
    }
   ],
   "source": [
    "df.iloc[3:5,-2:]"
   ]
  },
  {
   "cell_type": "code",
   "execution_count": 107,
   "metadata": {},
   "outputs": [
    {
     "data": {
      "text/html": [
       "<div>\n",
       "<style>\n",
       "    .dataframe thead tr:only-child th {\n",
       "        text-align: right;\n",
       "    }\n",
       "\n",
       "    .dataframe thead th {\n",
       "        text-align: left;\n",
       "    }\n",
       "\n",
       "    .dataframe tbody tr th {\n",
       "        vertical-align: top;\n",
       "    }\n",
       "</style>\n",
       "<table border=\"1\" class=\"dataframe\">\n",
       "  <thead>\n",
       "    <tr style=\"text-align: right;\">\n",
       "      <th></th>\n",
       "      <th>A</th>\n",
       "      <th>C</th>\n",
       "    </tr>\n",
       "  </thead>\n",
       "  <tbody>\n",
       "    <tr>\n",
       "      <th>2013-01-02</th>\n",
       "      <td>-1.550663</td>\n",
       "      <td>-0.208843</td>\n",
       "    </tr>\n",
       "    <tr>\n",
       "      <th>2013-01-03</th>\n",
       "      <td>0.312465</td>\n",
       "      <td>-1.213577</td>\n",
       "    </tr>\n",
       "    <tr>\n",
       "      <th>2013-01-05</th>\n",
       "      <td>1.284129</td>\n",
       "      <td>0.065467</td>\n",
       "    </tr>\n",
       "  </tbody>\n",
       "</table>\n",
       "</div>"
      ],
      "text/plain": [
       "                   A         C\n",
       "2013-01-02 -1.550663 -0.208843\n",
       "2013-01-03  0.312465 -1.213577\n",
       "2013-01-05  1.284129  0.065467"
      ]
     },
     "execution_count": 107,
     "metadata": {},
     "output_type": "execute_result"
    }
   ],
   "source": [
    "df.iloc[[1,2,4],[0,2]]"
   ]
  },
  {
   "cell_type": "code",
   "execution_count": 108,
   "metadata": {},
   "outputs": [
    {
     "data": {
      "text/html": [
       "<div>\n",
       "<style>\n",
       "    .dataframe thead tr:only-child th {\n",
       "        text-align: right;\n",
       "    }\n",
       "\n",
       "    .dataframe thead th {\n",
       "        text-align: left;\n",
       "    }\n",
       "\n",
       "    .dataframe tbody tr th {\n",
       "        vertical-align: top;\n",
       "    }\n",
       "</style>\n",
       "<table border=\"1\" class=\"dataframe\">\n",
       "  <thead>\n",
       "    <tr style=\"text-align: right;\">\n",
       "      <th></th>\n",
       "      <th>A</th>\n",
       "      <th>B</th>\n",
       "      <th>C</th>\n",
       "      <th>D</th>\n",
       "      <th>E</th>\n",
       "      <th>F</th>\n",
       "    </tr>\n",
       "  </thead>\n",
       "  <tbody>\n",
       "    <tr>\n",
       "      <th>2013-01-01</th>\n",
       "      <td>0.849393</td>\n",
       "      <td>-0.338225</td>\n",
       "      <td>-1.234400</td>\n",
       "      <td>-2.097684</td>\n",
       "      <td>-0.180007</td>\n",
       "      <td>-0.538386</td>\n",
       "    </tr>\n",
       "    <tr>\n",
       "      <th>2013-01-02</th>\n",
       "      <td>-0.731341</td>\n",
       "      <td>0.793129</td>\n",
       "      <td>-1.033614</td>\n",
       "      <td>-0.751996</td>\n",
       "      <td>-0.156103</td>\n",
       "      <td>-1.756150</td>\n",
       "    </tr>\n",
       "    <tr>\n",
       "      <th>2013-01-03</th>\n",
       "      <td>-0.985722</td>\n",
       "      <td>-0.446734</td>\n",
       "      <td>0.069194</td>\n",
       "      <td>0.582819</td>\n",
       "      <td>-0.924979</td>\n",
       "      <td>-1.314141</td>\n",
       "    </tr>\n",
       "    <tr>\n",
       "      <th>2013-01-04</th>\n",
       "      <td>-0.466835</td>\n",
       "      <td>0.280120</td>\n",
       "      <td>1.393321</td>\n",
       "      <td>-0.725856</td>\n",
       "      <td>-1.293547</td>\n",
       "      <td>-0.423523</td>\n",
       "    </tr>\n",
       "    <tr>\n",
       "      <th>2013-01-05</th>\n",
       "      <td>0.322897</td>\n",
       "      <td>-2.453072</td>\n",
       "      <td>-1.121637</td>\n",
       "      <td>0.506722</td>\n",
       "      <td>0.375510</td>\n",
       "      <td>1.451425</td>\n",
       "    </tr>\n",
       "    <tr>\n",
       "      <th>2013-01-06</th>\n",
       "      <td>0.463152</td>\n",
       "      <td>-0.483672</td>\n",
       "      <td>-0.064939</td>\n",
       "      <td>-0.600408</td>\n",
       "      <td>0.892167</td>\n",
       "      <td>1.158472</td>\n",
       "    </tr>\n",
       "    <tr>\n",
       "      <th>2013-01-07</th>\n",
       "      <td>-0.800244</td>\n",
       "      <td>-0.721945</td>\n",
       "      <td>0.995858</td>\n",
       "      <td>0.151096</td>\n",
       "      <td>1.540500</td>\n",
       "      <td>2.124193</td>\n",
       "    </tr>\n",
       "    <tr>\n",
       "      <th>2013-01-08</th>\n",
       "      <td>1.621622</td>\n",
       "      <td>-0.750952</td>\n",
       "      <td>-0.212247</td>\n",
       "      <td>-0.420051</td>\n",
       "      <td>-0.080137</td>\n",
       "      <td>0.295026</td>\n",
       "    </tr>\n",
       "    <tr>\n",
       "      <th>2013-01-09</th>\n",
       "      <td>0.052636</td>\n",
       "      <td>-0.211462</td>\n",
       "      <td>-0.622754</td>\n",
       "      <td>0.253277</td>\n",
       "      <td>-0.156381</td>\n",
       "      <td>-3.228651</td>\n",
       "    </tr>\n",
       "    <tr>\n",
       "      <th>2013-01-10</th>\n",
       "      <td>-0.316654</td>\n",
       "      <td>0.501695</td>\n",
       "      <td>0.890174</td>\n",
       "      <td>0.014403</td>\n",
       "      <td>0.994278</td>\n",
       "      <td>1.219175</td>\n",
       "    </tr>\n",
       "  </tbody>\n",
       "</table>\n",
       "</div>"
      ],
      "text/plain": [
       "                   A         B         C         D         E         F\n",
       "2013-01-01  0.849393 -0.338225 -1.234400 -2.097684 -0.180007 -0.538386\n",
       "2013-01-02 -0.731341  0.793129 -1.033614 -0.751996 -0.156103 -1.756150\n",
       "2013-01-03 -0.985722 -0.446734  0.069194  0.582819 -0.924979 -1.314141\n",
       "2013-01-04 -0.466835  0.280120  1.393321 -0.725856 -1.293547 -0.423523\n",
       "2013-01-05  0.322897 -2.453072 -1.121637  0.506722  0.375510  1.451425\n",
       "2013-01-06  0.463152 -0.483672 -0.064939 -0.600408  0.892167  1.158472\n",
       "2013-01-07 -0.800244 -0.721945  0.995858  0.151096  1.540500  2.124193\n",
       "2013-01-08  1.621622 -0.750952 -0.212247 -0.420051 -0.080137  0.295026\n",
       "2013-01-09  0.052636 -0.211462 -0.622754  0.253277 -0.156381 -3.228651\n",
       "2013-01-10 -0.316654  0.501695  0.890174  0.014403  0.994278  1.219175"
      ]
     },
     "execution_count": 108,
     "metadata": {},
     "output_type": "execute_result"
    }
   ],
   "source": [
    "#dates = pd.date_range('20130101', periods=6)\n",
    "_lines = 10\n",
    "df = pd.DataFrame(np.random.randn(_lines,6)\n",
    "                  , index=pd.date_range('20130101'\n",
    "                                        , periods=_lines)\n",
    "                  , columns=list('ABCDEF')\n",
    "                 )\n",
    "df"
   ]
  },
  {
   "cell_type": "code",
   "execution_count": 113,
   "metadata": {},
   "outputs": [
    {
     "data": {
      "text/plain": [
       "range(10, 0, 2)"
      ]
     },
     "execution_count": 113,
     "metadata": {},
     "output_type": "execute_result"
    }
   ],
   "source": [
    "range(10,0,2)"
   ]
  },
  {
   "cell_type": "code",
   "execution_count": 119,
   "metadata": {},
   "outputs": [
    {
     "data": {
      "text/html": [
       "<div>\n",
       "<style>\n",
       "    .dataframe thead tr:only-child th {\n",
       "        text-align: right;\n",
       "    }\n",
       "\n",
       "    .dataframe thead th {\n",
       "        text-align: left;\n",
       "    }\n",
       "\n",
       "    .dataframe tbody tr th {\n",
       "        vertical-align: top;\n",
       "    }\n",
       "</style>\n",
       "<table border=\"1\" class=\"dataframe\">\n",
       "  <thead>\n",
       "    <tr style=\"text-align: right;\">\n",
       "      <th></th>\n",
       "      <th>A</th>\n",
       "      <th>C</th>\n",
       "    </tr>\n",
       "  </thead>\n",
       "  <tbody>\n",
       "    <tr>\n",
       "      <th>2013-01-01</th>\n",
       "      <td>0.849393</td>\n",
       "      <td>-1.234400</td>\n",
       "    </tr>\n",
       "    <tr>\n",
       "      <th>2013-01-03</th>\n",
       "      <td>-0.985722</td>\n",
       "      <td>0.069194</td>\n",
       "    </tr>\n",
       "    <tr>\n",
       "      <th>2013-01-05</th>\n",
       "      <td>0.322897</td>\n",
       "      <td>-1.121637</td>\n",
       "    </tr>\n",
       "  </tbody>\n",
       "</table>\n",
       "</div>"
      ],
      "text/plain": [
       "                   A         C\n",
       "2013-01-01  0.849393 -1.234400\n",
       "2013-01-03 -0.985722  0.069194\n",
       "2013-01-05  0.322897 -1.121637"
      ]
     },
     "execution_count": 119,
     "metadata": {},
     "output_type": "execute_result"
    }
   ],
   "source": [
    "df.iloc[range(0,6,2),[0,2]]"
   ]
  },
  {
   "cell_type": "code",
   "execution_count": 120,
   "metadata": {},
   "outputs": [
    {
     "data": {
      "text/html": [
       "<div>\n",
       "<style>\n",
       "    .dataframe thead tr:only-child th {\n",
       "        text-align: right;\n",
       "    }\n",
       "\n",
       "    .dataframe thead th {\n",
       "        text-align: left;\n",
       "    }\n",
       "\n",
       "    .dataframe tbody tr th {\n",
       "        vertical-align: top;\n",
       "    }\n",
       "</style>\n",
       "<table border=\"1\" class=\"dataframe\">\n",
       "  <thead>\n",
       "    <tr style=\"text-align: right;\">\n",
       "      <th></th>\n",
       "      <th>A</th>\n",
       "      <th>B</th>\n",
       "      <th>C</th>\n",
       "      <th>D</th>\n",
       "      <th>E</th>\n",
       "      <th>F</th>\n",
       "    </tr>\n",
       "  </thead>\n",
       "  <tbody>\n",
       "    <tr>\n",
       "      <th>2013-01-02</th>\n",
       "      <td>-0.731341</td>\n",
       "      <td>0.793129</td>\n",
       "      <td>-1.033614</td>\n",
       "      <td>-0.751996</td>\n",
       "      <td>-0.156103</td>\n",
       "      <td>-1.756150</td>\n",
       "    </tr>\n",
       "    <tr>\n",
       "      <th>2013-01-03</th>\n",
       "      <td>-0.985722</td>\n",
       "      <td>-0.446734</td>\n",
       "      <td>0.069194</td>\n",
       "      <td>0.582819</td>\n",
       "      <td>-0.924979</td>\n",
       "      <td>-1.314141</td>\n",
       "    </tr>\n",
       "  </tbody>\n",
       "</table>\n",
       "</div>"
      ],
      "text/plain": [
       "                   A         B         C         D         E         F\n",
       "2013-01-02 -0.731341  0.793129 -1.033614 -0.751996 -0.156103 -1.756150\n",
       "2013-01-03 -0.985722 -0.446734  0.069194  0.582819 -0.924979 -1.314141"
      ]
     },
     "execution_count": 120,
     "metadata": {},
     "output_type": "execute_result"
    }
   ],
   "source": [
    "df.iloc[1:3,:]"
   ]
  },
  {
   "cell_type": "code",
   "execution_count": 121,
   "metadata": {},
   "outputs": [
    {
     "data": {
      "text/html": [
       "<div>\n",
       "<style>\n",
       "    .dataframe thead tr:only-child th {\n",
       "        text-align: right;\n",
       "    }\n",
       "\n",
       "    .dataframe thead th {\n",
       "        text-align: left;\n",
       "    }\n",
       "\n",
       "    .dataframe tbody tr th {\n",
       "        vertical-align: top;\n",
       "    }\n",
       "</style>\n",
       "<table border=\"1\" class=\"dataframe\">\n",
       "  <thead>\n",
       "    <tr style=\"text-align: right;\">\n",
       "      <th></th>\n",
       "      <th>B</th>\n",
       "      <th>C</th>\n",
       "    </tr>\n",
       "  </thead>\n",
       "  <tbody>\n",
       "    <tr>\n",
       "      <th>2013-01-01</th>\n",
       "      <td>-0.338225</td>\n",
       "      <td>-1.234400</td>\n",
       "    </tr>\n",
       "    <tr>\n",
       "      <th>2013-01-02</th>\n",
       "      <td>0.793129</td>\n",
       "      <td>-1.033614</td>\n",
       "    </tr>\n",
       "    <tr>\n",
       "      <th>2013-01-03</th>\n",
       "      <td>-0.446734</td>\n",
       "      <td>0.069194</td>\n",
       "    </tr>\n",
       "    <tr>\n",
       "      <th>2013-01-04</th>\n",
       "      <td>0.280120</td>\n",
       "      <td>1.393321</td>\n",
       "    </tr>\n",
       "    <tr>\n",
       "      <th>2013-01-05</th>\n",
       "      <td>-2.453072</td>\n",
       "      <td>-1.121637</td>\n",
       "    </tr>\n",
       "    <tr>\n",
       "      <th>2013-01-06</th>\n",
       "      <td>-0.483672</td>\n",
       "      <td>-0.064939</td>\n",
       "    </tr>\n",
       "    <tr>\n",
       "      <th>2013-01-07</th>\n",
       "      <td>-0.721945</td>\n",
       "      <td>0.995858</td>\n",
       "    </tr>\n",
       "    <tr>\n",
       "      <th>2013-01-08</th>\n",
       "      <td>-0.750952</td>\n",
       "      <td>-0.212247</td>\n",
       "    </tr>\n",
       "    <tr>\n",
       "      <th>2013-01-09</th>\n",
       "      <td>-0.211462</td>\n",
       "      <td>-0.622754</td>\n",
       "    </tr>\n",
       "    <tr>\n",
       "      <th>2013-01-10</th>\n",
       "      <td>0.501695</td>\n",
       "      <td>0.890174</td>\n",
       "    </tr>\n",
       "  </tbody>\n",
       "</table>\n",
       "</div>"
      ],
      "text/plain": [
       "                   B         C\n",
       "2013-01-01 -0.338225 -1.234400\n",
       "2013-01-02  0.793129 -1.033614\n",
       "2013-01-03 -0.446734  0.069194\n",
       "2013-01-04  0.280120  1.393321\n",
       "2013-01-05 -2.453072 -1.121637\n",
       "2013-01-06 -0.483672 -0.064939\n",
       "2013-01-07 -0.721945  0.995858\n",
       "2013-01-08 -0.750952 -0.212247\n",
       "2013-01-09 -0.211462 -0.622754\n",
       "2013-01-10  0.501695  0.890174"
      ]
     },
     "execution_count": 121,
     "metadata": {},
     "output_type": "execute_result"
    }
   ],
   "source": [
    "df.iloc[:,1:3]"
   ]
  },
  {
   "cell_type": "code",
   "execution_count": 122,
   "metadata": {},
   "outputs": [
    {
     "data": {
      "text/plain": [
       "0.79312904166218234"
      ]
     },
     "execution_count": 122,
     "metadata": {},
     "output_type": "execute_result"
    }
   ],
   "source": [
    "df.iloc[1,1]"
   ]
  },
  {
   "cell_type": "code",
   "execution_count": 123,
   "metadata": {},
   "outputs": [
    {
     "data": {
      "text/plain": [
       "0.79312904166218234"
      ]
     },
     "execution_count": 123,
     "metadata": {},
     "output_type": "execute_result"
    }
   ],
   "source": [
    "df.iat[1,1]"
   ]
  },
  {
   "cell_type": "code",
   "execution_count": 124,
   "metadata": {},
   "outputs": [
    {
     "ename": "ValueError",
     "evalue": "iAt based indexing can only have integer indexers",
     "output_type": "error",
     "traceback": [
      "\u001b[0;31m---------------------------------------------------------------------------\u001b[0m",
      "\u001b[0;31mValueError\u001b[0m                                Traceback (most recent call last)",
      "\u001b[0;32m<ipython-input-124-0ad832847fdb>\u001b[0m in \u001b[0;36m<module>\u001b[0;34m()\u001b[0m\n\u001b[0;32m----> 1\u001b[0;31m \u001b[0mdf\u001b[0m\u001b[0;34m.\u001b[0m\u001b[0miat\u001b[0m\u001b[0;34m[\u001b[0m\u001b[0;34m:\u001b[0m\u001b[0;34m,\u001b[0m\u001b[0;36m1\u001b[0m\u001b[0;34m:\u001b[0m\u001b[0;36m3\u001b[0m\u001b[0;34m]\u001b[0m\u001b[0;34m\u001b[0m\u001b[0m\n\u001b[0m",
      "\u001b[0;32m~/.pyenv/versions/3.6.1/envs/DU361/lib/python3.6/site-packages/pandas/core/indexing.py\u001b[0m in \u001b[0;36m__getitem__\u001b[0;34m(self, key)\u001b[0m\n\u001b[1;32m   1783\u001b[0m                 \u001b[0;32mraise\u001b[0m \u001b[0mValueError\u001b[0m\u001b[0;34m(\u001b[0m\u001b[0;34m'Invalid call for scalar access (getting)!'\u001b[0m\u001b[0;34m)\u001b[0m\u001b[0;34m\u001b[0m\u001b[0m\n\u001b[1;32m   1784\u001b[0m \u001b[0;34m\u001b[0m\u001b[0m\n\u001b[0;32m-> 1785\u001b[0;31m         \u001b[0mkey\u001b[0m \u001b[0;34m=\u001b[0m \u001b[0mself\u001b[0m\u001b[0;34m.\u001b[0m\u001b[0m_convert_key\u001b[0m\u001b[0;34m(\u001b[0m\u001b[0mkey\u001b[0m\u001b[0;34m)\u001b[0m\u001b[0;34m\u001b[0m\u001b[0m\n\u001b[0m\u001b[1;32m   1786\u001b[0m         \u001b[0;32mreturn\u001b[0m \u001b[0mself\u001b[0m\u001b[0;34m.\u001b[0m\u001b[0mobj\u001b[0m\u001b[0;34m.\u001b[0m\u001b[0mget_value\u001b[0m\u001b[0;34m(\u001b[0m\u001b[0;34m*\u001b[0m\u001b[0mkey\u001b[0m\u001b[0;34m,\u001b[0m \u001b[0mtakeable\u001b[0m\u001b[0;34m=\u001b[0m\u001b[0mself\u001b[0m\u001b[0;34m.\u001b[0m\u001b[0m_takeable\u001b[0m\u001b[0;34m)\u001b[0m\u001b[0;34m\u001b[0m\u001b[0m\n\u001b[1;32m   1787\u001b[0m \u001b[0;34m\u001b[0m\u001b[0m\n",
      "\u001b[0;32m~/.pyenv/versions/3.6.1/envs/DU361/lib/python3.6/site-packages/pandas/core/indexing.py\u001b[0m in \u001b[0;36m_convert_key\u001b[0;34m(self, key, is_setter)\u001b[0m\n\u001b[1;32m   1852\u001b[0m         \u001b[0;32mfor\u001b[0m \u001b[0ma\u001b[0m\u001b[0;34m,\u001b[0m \u001b[0mi\u001b[0m \u001b[0;32min\u001b[0m \u001b[0mzip\u001b[0m\u001b[0;34m(\u001b[0m\u001b[0mself\u001b[0m\u001b[0;34m.\u001b[0m\u001b[0mobj\u001b[0m\u001b[0;34m.\u001b[0m\u001b[0maxes\u001b[0m\u001b[0;34m,\u001b[0m \u001b[0mkey\u001b[0m\u001b[0;34m)\u001b[0m\u001b[0;34m:\u001b[0m\u001b[0;34m\u001b[0m\u001b[0m\n\u001b[1;32m   1853\u001b[0m             \u001b[0;32mif\u001b[0m \u001b[0;32mnot\u001b[0m \u001b[0mis_integer\u001b[0m\u001b[0;34m(\u001b[0m\u001b[0mi\u001b[0m\u001b[0;34m)\u001b[0m\u001b[0;34m:\u001b[0m\u001b[0;34m\u001b[0m\u001b[0m\n\u001b[0;32m-> 1854\u001b[0;31m                 raise ValueError(\"iAt based indexing can only have integer \"\n\u001b[0m\u001b[1;32m   1855\u001b[0m                                  \"indexers\")\n\u001b[1;32m   1856\u001b[0m         \u001b[0;32mreturn\u001b[0m \u001b[0mkey\u001b[0m\u001b[0;34m\u001b[0m\u001b[0m\n",
      "\u001b[0;31mValueError\u001b[0m: iAt based indexing can only have integer indexers"
     ]
    }
   ],
   "source": [
    "df.iat[:,1:3]"
   ]
  },
  {
   "cell_type": "markdown",
   "metadata": {},
   "source": [
    "### 逻辑索引"
   ]
  },
  {
   "cell_type": "code",
   "execution_count": 125,
   "metadata": {},
   "outputs": [
    {
     "data": {
      "text/html": [
       "<div>\n",
       "<style>\n",
       "    .dataframe thead tr:only-child th {\n",
       "        text-align: right;\n",
       "    }\n",
       "\n",
       "    .dataframe thead th {\n",
       "        text-align: left;\n",
       "    }\n",
       "\n",
       "    .dataframe tbody tr th {\n",
       "        vertical-align: top;\n",
       "    }\n",
       "</style>\n",
       "<table border=\"1\" class=\"dataframe\">\n",
       "  <thead>\n",
       "    <tr style=\"text-align: right;\">\n",
       "      <th></th>\n",
       "      <th>A</th>\n",
       "      <th>B</th>\n",
       "      <th>C</th>\n",
       "      <th>D</th>\n",
       "      <th>E</th>\n",
       "      <th>F</th>\n",
       "    </tr>\n",
       "  </thead>\n",
       "  <tbody>\n",
       "    <tr>\n",
       "      <th>2013-01-01</th>\n",
       "      <td>0.849393</td>\n",
       "      <td>-0.338225</td>\n",
       "      <td>-1.234400</td>\n",
       "      <td>-2.097684</td>\n",
       "      <td>-0.180007</td>\n",
       "      <td>-0.538386</td>\n",
       "    </tr>\n",
       "    <tr>\n",
       "      <th>2013-01-02</th>\n",
       "      <td>-0.731341</td>\n",
       "      <td>0.793129</td>\n",
       "      <td>-1.033614</td>\n",
       "      <td>-0.751996</td>\n",
       "      <td>-0.156103</td>\n",
       "      <td>-1.756150</td>\n",
       "    </tr>\n",
       "    <tr>\n",
       "      <th>2013-01-03</th>\n",
       "      <td>-0.985722</td>\n",
       "      <td>-0.446734</td>\n",
       "      <td>0.069194</td>\n",
       "      <td>0.582819</td>\n",
       "      <td>-0.924979</td>\n",
       "      <td>-1.314141</td>\n",
       "    </tr>\n",
       "    <tr>\n",
       "      <th>2013-01-04</th>\n",
       "      <td>-0.466835</td>\n",
       "      <td>0.280120</td>\n",
       "      <td>1.393321</td>\n",
       "      <td>-0.725856</td>\n",
       "      <td>-1.293547</td>\n",
       "      <td>-0.423523</td>\n",
       "    </tr>\n",
       "    <tr>\n",
       "      <th>2013-01-05</th>\n",
       "      <td>0.322897</td>\n",
       "      <td>-2.453072</td>\n",
       "      <td>-1.121637</td>\n",
       "      <td>0.506722</td>\n",
       "      <td>0.375510</td>\n",
       "      <td>1.451425</td>\n",
       "    </tr>\n",
       "  </tbody>\n",
       "</table>\n",
       "</div>"
      ],
      "text/plain": [
       "                   A         B         C         D         E         F\n",
       "2013-01-01  0.849393 -0.338225 -1.234400 -2.097684 -0.180007 -0.538386\n",
       "2013-01-02 -0.731341  0.793129 -1.033614 -0.751996 -0.156103 -1.756150\n",
       "2013-01-03 -0.985722 -0.446734  0.069194  0.582819 -0.924979 -1.314141\n",
       "2013-01-04 -0.466835  0.280120  1.393321 -0.725856 -1.293547 -0.423523\n",
       "2013-01-05  0.322897 -2.453072 -1.121637  0.506722  0.375510  1.451425"
      ]
     },
     "execution_count": 125,
     "metadata": {},
     "output_type": "execute_result"
    }
   ],
   "source": [
    "df.head()"
   ]
  },
  {
   "cell_type": "code",
   "execution_count": 126,
   "metadata": {},
   "outputs": [
    {
     "data": {
      "text/html": [
       "<div>\n",
       "<style>\n",
       "    .dataframe thead tr:only-child th {\n",
       "        text-align: right;\n",
       "    }\n",
       "\n",
       "    .dataframe thead th {\n",
       "        text-align: left;\n",
       "    }\n",
       "\n",
       "    .dataframe tbody tr th {\n",
       "        vertical-align: top;\n",
       "    }\n",
       "</style>\n",
       "<table border=\"1\" class=\"dataframe\">\n",
       "  <thead>\n",
       "    <tr style=\"text-align: right;\">\n",
       "      <th></th>\n",
       "      <th>A</th>\n",
       "      <th>B</th>\n",
       "      <th>C</th>\n",
       "      <th>D</th>\n",
       "      <th>E</th>\n",
       "      <th>F</th>\n",
       "    </tr>\n",
       "  </thead>\n",
       "  <tbody>\n",
       "    <tr>\n",
       "      <th>2013-01-01</th>\n",
       "      <td>0.849393</td>\n",
       "      <td>-0.338225</td>\n",
       "      <td>-1.234400</td>\n",
       "      <td>-2.097684</td>\n",
       "      <td>-0.180007</td>\n",
       "      <td>-0.538386</td>\n",
       "    </tr>\n",
       "    <tr>\n",
       "      <th>2013-01-05</th>\n",
       "      <td>0.322897</td>\n",
       "      <td>-2.453072</td>\n",
       "      <td>-1.121637</td>\n",
       "      <td>0.506722</td>\n",
       "      <td>0.375510</td>\n",
       "      <td>1.451425</td>\n",
       "    </tr>\n",
       "    <tr>\n",
       "      <th>2013-01-06</th>\n",
       "      <td>0.463152</td>\n",
       "      <td>-0.483672</td>\n",
       "      <td>-0.064939</td>\n",
       "      <td>-0.600408</td>\n",
       "      <td>0.892167</td>\n",
       "      <td>1.158472</td>\n",
       "    </tr>\n",
       "    <tr>\n",
       "      <th>2013-01-08</th>\n",
       "      <td>1.621622</td>\n",
       "      <td>-0.750952</td>\n",
       "      <td>-0.212247</td>\n",
       "      <td>-0.420051</td>\n",
       "      <td>-0.080137</td>\n",
       "      <td>0.295026</td>\n",
       "    </tr>\n",
       "    <tr>\n",
       "      <th>2013-01-09</th>\n",
       "      <td>0.052636</td>\n",
       "      <td>-0.211462</td>\n",
       "      <td>-0.622754</td>\n",
       "      <td>0.253277</td>\n",
       "      <td>-0.156381</td>\n",
       "      <td>-3.228651</td>\n",
       "    </tr>\n",
       "  </tbody>\n",
       "</table>\n",
       "</div>"
      ],
      "text/plain": [
       "                   A         B         C         D         E         F\n",
       "2013-01-01  0.849393 -0.338225 -1.234400 -2.097684 -0.180007 -0.538386\n",
       "2013-01-05  0.322897 -2.453072 -1.121637  0.506722  0.375510  1.451425\n",
       "2013-01-06  0.463152 -0.483672 -0.064939 -0.600408  0.892167  1.158472\n",
       "2013-01-08  1.621622 -0.750952 -0.212247 -0.420051 -0.080137  0.295026\n",
       "2013-01-09  0.052636 -0.211462 -0.622754  0.253277 -0.156381 -3.228651"
      ]
     },
     "execution_count": 126,
     "metadata": {},
     "output_type": "execute_result"
    }
   ],
   "source": [
    "df[df.A > 0]"
   ]
  },
  {
   "cell_type": "code",
   "execution_count": 134,
   "metadata": {},
   "outputs": [
    {
     "name": "stderr",
     "output_type": "stream",
     "text": [
      "/Users/zoomq/.pyenv/versions/3.6.1/envs/DU361/lib/python3.6/site-packages/ipykernel_launcher.py:1: UserWarning: Boolean Series key will be reindexed to match DataFrame index.\n",
      "  \"\"\"Entry point for launching an IPython kernel.\n"
     ]
    },
    {
     "data": {
      "text/html": [
       "<div>\n",
       "<style>\n",
       "    .dataframe thead tr:only-child th {\n",
       "        text-align: right;\n",
       "    }\n",
       "\n",
       "    .dataframe thead th {\n",
       "        text-align: left;\n",
       "    }\n",
       "\n",
       "    .dataframe tbody tr th {\n",
       "        vertical-align: top;\n",
       "    }\n",
       "</style>\n",
       "<table border=\"1\" class=\"dataframe\">\n",
       "  <thead>\n",
       "    <tr style=\"text-align: right;\">\n",
       "      <th></th>\n",
       "      <th>A</th>\n",
       "      <th>B</th>\n",
       "      <th>C</th>\n",
       "      <th>D</th>\n",
       "      <th>E</th>\n",
       "      <th>F</th>\n",
       "    </tr>\n",
       "  </thead>\n",
       "  <tbody>\n",
       "    <tr>\n",
       "      <th>2013-01-01</th>\n",
       "      <td>0.849393</td>\n",
       "      <td>-0.338225</td>\n",
       "      <td>-1.234400</td>\n",
       "      <td>-2.097684</td>\n",
       "      <td>-0.180007</td>\n",
       "      <td>-0.538386</td>\n",
       "    </tr>\n",
       "    <tr>\n",
       "      <th>2013-01-05</th>\n",
       "      <td>0.322897</td>\n",
       "      <td>-2.453072</td>\n",
       "      <td>-1.121637</td>\n",
       "      <td>0.506722</td>\n",
       "      <td>0.375510</td>\n",
       "      <td>1.451425</td>\n",
       "    </tr>\n",
       "    <tr>\n",
       "      <th>2013-01-06</th>\n",
       "      <td>0.463152</td>\n",
       "      <td>-0.483672</td>\n",
       "      <td>-0.064939</td>\n",
       "      <td>-0.600408</td>\n",
       "      <td>0.892167</td>\n",
       "      <td>1.158472</td>\n",
       "    </tr>\n",
       "    <tr>\n",
       "      <th>2013-01-08</th>\n",
       "      <td>1.621622</td>\n",
       "      <td>-0.750952</td>\n",
       "      <td>-0.212247</td>\n",
       "      <td>-0.420051</td>\n",
       "      <td>-0.080137</td>\n",
       "      <td>0.295026</td>\n",
       "    </tr>\n",
       "    <tr>\n",
       "      <th>2013-01-09</th>\n",
       "      <td>0.052636</td>\n",
       "      <td>-0.211462</td>\n",
       "      <td>-0.622754</td>\n",
       "      <td>0.253277</td>\n",
       "      <td>-0.156381</td>\n",
       "      <td>-3.228651</td>\n",
       "    </tr>\n",
       "  </tbody>\n",
       "</table>\n",
       "</div>"
      ],
      "text/plain": [
       "                   A         B         C         D         E         F\n",
       "2013-01-01  0.849393 -0.338225 -1.234400 -2.097684 -0.180007 -0.538386\n",
       "2013-01-05  0.322897 -2.453072 -1.121637  0.506722  0.375510  1.451425\n",
       "2013-01-06  0.463152 -0.483672 -0.064939 -0.600408  0.892167  1.158472\n",
       "2013-01-08  1.621622 -0.750952 -0.212247 -0.420051 -0.080137  0.295026\n",
       "2013-01-09  0.052636 -0.211462 -0.622754  0.253277 -0.156381 -3.228651"
      ]
     },
     "execution_count": 134,
     "metadata": {},
     "output_type": "execute_result"
    }
   ],
   "source": [
    "df[ df.B <0][df.A > 0]"
   ]
  },
  {
   "cell_type": "code",
   "execution_count": 135,
   "metadata": {},
   "outputs": [
    {
     "data": {
      "text/html": [
       "<div>\n",
       "<style>\n",
       "    .dataframe thead tr:only-child th {\n",
       "        text-align: right;\n",
       "    }\n",
       "\n",
       "    .dataframe thead th {\n",
       "        text-align: left;\n",
       "    }\n",
       "\n",
       "    .dataframe tbody tr th {\n",
       "        vertical-align: top;\n",
       "    }\n",
       "</style>\n",
       "<table border=\"1\" class=\"dataframe\">\n",
       "  <thead>\n",
       "    <tr style=\"text-align: right;\">\n",
       "      <th></th>\n",
       "      <th>A</th>\n",
       "      <th>B</th>\n",
       "      <th>C</th>\n",
       "      <th>D</th>\n",
       "      <th>E</th>\n",
       "      <th>F</th>\n",
       "    </tr>\n",
       "  </thead>\n",
       "  <tbody>\n",
       "    <tr>\n",
       "      <th>2013-01-01</th>\n",
       "      <td>0.849393</td>\n",
       "      <td>NaN</td>\n",
       "      <td>NaN</td>\n",
       "      <td>NaN</td>\n",
       "      <td>NaN</td>\n",
       "      <td>NaN</td>\n",
       "    </tr>\n",
       "    <tr>\n",
       "      <th>2013-01-02</th>\n",
       "      <td>NaN</td>\n",
       "      <td>0.793129</td>\n",
       "      <td>NaN</td>\n",
       "      <td>NaN</td>\n",
       "      <td>NaN</td>\n",
       "      <td>NaN</td>\n",
       "    </tr>\n",
       "    <tr>\n",
       "      <th>2013-01-03</th>\n",
       "      <td>NaN</td>\n",
       "      <td>NaN</td>\n",
       "      <td>0.069194</td>\n",
       "      <td>0.582819</td>\n",
       "      <td>NaN</td>\n",
       "      <td>NaN</td>\n",
       "    </tr>\n",
       "    <tr>\n",
       "      <th>2013-01-04</th>\n",
       "      <td>NaN</td>\n",
       "      <td>0.280120</td>\n",
       "      <td>1.393321</td>\n",
       "      <td>NaN</td>\n",
       "      <td>NaN</td>\n",
       "      <td>NaN</td>\n",
       "    </tr>\n",
       "    <tr>\n",
       "      <th>2013-01-05</th>\n",
       "      <td>0.322897</td>\n",
       "      <td>NaN</td>\n",
       "      <td>NaN</td>\n",
       "      <td>0.506722</td>\n",
       "      <td>0.375510</td>\n",
       "      <td>1.451425</td>\n",
       "    </tr>\n",
       "    <tr>\n",
       "      <th>2013-01-06</th>\n",
       "      <td>0.463152</td>\n",
       "      <td>NaN</td>\n",
       "      <td>NaN</td>\n",
       "      <td>NaN</td>\n",
       "      <td>0.892167</td>\n",
       "      <td>1.158472</td>\n",
       "    </tr>\n",
       "    <tr>\n",
       "      <th>2013-01-07</th>\n",
       "      <td>NaN</td>\n",
       "      <td>NaN</td>\n",
       "      <td>0.995858</td>\n",
       "      <td>0.151096</td>\n",
       "      <td>1.540500</td>\n",
       "      <td>2.124193</td>\n",
       "    </tr>\n",
       "    <tr>\n",
       "      <th>2013-01-08</th>\n",
       "      <td>1.621622</td>\n",
       "      <td>NaN</td>\n",
       "      <td>NaN</td>\n",
       "      <td>NaN</td>\n",
       "      <td>NaN</td>\n",
       "      <td>0.295026</td>\n",
       "    </tr>\n",
       "    <tr>\n",
       "      <th>2013-01-09</th>\n",
       "      <td>0.052636</td>\n",
       "      <td>NaN</td>\n",
       "      <td>NaN</td>\n",
       "      <td>0.253277</td>\n",
       "      <td>NaN</td>\n",
       "      <td>NaN</td>\n",
       "    </tr>\n",
       "    <tr>\n",
       "      <th>2013-01-10</th>\n",
       "      <td>NaN</td>\n",
       "      <td>0.501695</td>\n",
       "      <td>0.890174</td>\n",
       "      <td>0.014403</td>\n",
       "      <td>0.994278</td>\n",
       "      <td>1.219175</td>\n",
       "    </tr>\n",
       "  </tbody>\n",
       "</table>\n",
       "</div>"
      ],
      "text/plain": [
       "                   A         B         C         D         E         F\n",
       "2013-01-01  0.849393       NaN       NaN       NaN       NaN       NaN\n",
       "2013-01-02       NaN  0.793129       NaN       NaN       NaN       NaN\n",
       "2013-01-03       NaN       NaN  0.069194  0.582819       NaN       NaN\n",
       "2013-01-04       NaN  0.280120  1.393321       NaN       NaN       NaN\n",
       "2013-01-05  0.322897       NaN       NaN  0.506722  0.375510  1.451425\n",
       "2013-01-06  0.463152       NaN       NaN       NaN  0.892167  1.158472\n",
       "2013-01-07       NaN       NaN  0.995858  0.151096  1.540500  2.124193\n",
       "2013-01-08  1.621622       NaN       NaN       NaN       NaN  0.295026\n",
       "2013-01-09  0.052636       NaN       NaN  0.253277       NaN       NaN\n",
       "2013-01-10       NaN  0.501695  0.890174  0.014403  0.994278  1.219175"
      ]
     },
     "execution_count": 135,
     "metadata": {},
     "output_type": "execute_result"
    }
   ],
   "source": [
    "df[df > 0]"
   ]
  },
  {
   "cell_type": "code",
   "execution_count": 136,
   "metadata": {},
   "outputs": [],
   "source": [
    "df2 = df.copy()"
   ]
  },
  {
   "cell_type": "code",
   "execution_count": 137,
   "metadata": {},
   "outputs": [],
   "source": [
    "_df = df"
   ]
  },
  {
   "cell_type": "code",
   "execution_count": 138,
   "metadata": {},
   "outputs": [
    {
     "name": "stdout",
     "output_type": "stream",
     "text": [
      "\n",
      "df -> 4561275928\n",
      "df2 ->4567389800\n",
      "_df ->4561275928\n",
      "\n"
     ]
    }
   ],
   "source": [
    "print('''\n",
    "df -> {}\n",
    "df2 ->{}\n",
    "_df ->{}\n",
    "'''.format(\n",
    "id(df)\n",
    ",id(df2)\n",
    ",id(_df)\n",
    "))"
   ]
  },
  {
   "cell_type": "code",
   "execution_count": 143,
   "metadata": {},
   "outputs": [
    {
     "data": {
      "text/html": [
       "<div>\n",
       "<style>\n",
       "    .dataframe thead tr:only-child th {\n",
       "        text-align: right;\n",
       "    }\n",
       "\n",
       "    .dataframe thead th {\n",
       "        text-align: left;\n",
       "    }\n",
       "\n",
       "    .dataframe tbody tr th {\n",
       "        vertical-align: top;\n",
       "    }\n",
       "</style>\n",
       "<table border=\"1\" class=\"dataframe\">\n",
       "  <thead>\n",
       "    <tr style=\"text-align: right;\">\n",
       "      <th></th>\n",
       "      <th>A</th>\n",
       "      <th>B</th>\n",
       "      <th>C</th>\n",
       "      <th>D</th>\n",
       "      <th>E</th>\n",
       "    </tr>\n",
       "  </thead>\n",
       "  <tbody>\n",
       "    <tr>\n",
       "      <th>2013-01-01</th>\n",
       "      <td>-0.239181</td>\n",
       "      <td>0.434750</td>\n",
       "      <td>-2.327515</td>\n",
       "      <td>0.152671</td>\n",
       "      <td>one</td>\n",
       "    </tr>\n",
       "    <tr>\n",
       "      <th>2013-01-02</th>\n",
       "      <td>1.404257</td>\n",
       "      <td>0.995311</td>\n",
       "      <td>-1.010968</td>\n",
       "      <td>-0.806000</td>\n",
       "      <td>one</td>\n",
       "    </tr>\n",
       "    <tr>\n",
       "      <th>2013-01-03</th>\n",
       "      <td>0.889347</td>\n",
       "      <td>1.699392</td>\n",
       "      <td>1.739210</td>\n",
       "      <td>2.494463</td>\n",
       "      <td>two</td>\n",
       "    </tr>\n",
       "    <tr>\n",
       "      <th>2013-01-04</th>\n",
       "      <td>-0.491119</td>\n",
       "      <td>2.122522</td>\n",
       "      <td>0.676805</td>\n",
       "      <td>-0.661621</td>\n",
       "      <td>three</td>\n",
       "    </tr>\n",
       "    <tr>\n",
       "      <th>2013-01-05</th>\n",
       "      <td>0.365821</td>\n",
       "      <td>1.338847</td>\n",
       "      <td>-0.201232</td>\n",
       "      <td>-0.082878</td>\n",
       "      <td>four</td>\n",
       "    </tr>\n",
       "    <tr>\n",
       "      <th>2013-01-06</th>\n",
       "      <td>-0.030771</td>\n",
       "      <td>-0.647283</td>\n",
       "      <td>-0.802089</td>\n",
       "      <td>-1.330662</td>\n",
       "      <td>three</td>\n",
       "    </tr>\n",
       "  </tbody>\n",
       "</table>\n",
       "</div>"
      ],
      "text/plain": [
       "                   A         B         C         D      E\n",
       "2013-01-01 -0.239181  0.434750 -2.327515  0.152671    one\n",
       "2013-01-02  1.404257  0.995311 -1.010968 -0.806000    one\n",
       "2013-01-03  0.889347  1.699392  1.739210  2.494463    two\n",
       "2013-01-04 -0.491119  2.122522  0.676805 -0.661621  three\n",
       "2013-01-05  0.365821  1.338847 -0.201232 -0.082878   four\n",
       "2013-01-06 -0.030771 -0.647283 -0.802089 -1.330662  three"
      ]
     },
     "execution_count": 143,
     "metadata": {},
     "output_type": "execute_result"
    }
   ],
   "source": [
    "#dates = pd.date_range('20130101', periods=6)\n",
    "_lines = 6\n",
    "df2 = pd.DataFrame(np.random.randn(_lines,4)\n",
    "                  , index=pd.date_range('20130101'\n",
    "                                        , periods=_lines)\n",
    "                  , columns=list('ABCD')\n",
    "                 )\n",
    "df2['E'] = ['one', 'one','two','three','four','three']\n",
    "df2"
   ]
  },
  {
   "cell_type": "code",
   "execution_count": 144,
   "metadata": {},
   "outputs": [
    {
     "data": {
      "text/html": [
       "<div>\n",
       "<style>\n",
       "    .dataframe thead tr:only-child th {\n",
       "        text-align: right;\n",
       "    }\n",
       "\n",
       "    .dataframe thead th {\n",
       "        text-align: left;\n",
       "    }\n",
       "\n",
       "    .dataframe tbody tr th {\n",
       "        vertical-align: top;\n",
       "    }\n",
       "</style>\n",
       "<table border=\"1\" class=\"dataframe\">\n",
       "  <thead>\n",
       "    <tr style=\"text-align: right;\">\n",
       "      <th></th>\n",
       "      <th>A</th>\n",
       "      <th>B</th>\n",
       "      <th>C</th>\n",
       "      <th>D</th>\n",
       "      <th>E</th>\n",
       "    </tr>\n",
       "  </thead>\n",
       "  <tbody>\n",
       "    <tr>\n",
       "      <th>2013-01-03</th>\n",
       "      <td>0.889347</td>\n",
       "      <td>1.699392</td>\n",
       "      <td>1.739210</td>\n",
       "      <td>2.494463</td>\n",
       "      <td>two</td>\n",
       "    </tr>\n",
       "    <tr>\n",
       "      <th>2013-01-05</th>\n",
       "      <td>0.365821</td>\n",
       "      <td>1.338847</td>\n",
       "      <td>-0.201232</td>\n",
       "      <td>-0.082878</td>\n",
       "      <td>four</td>\n",
       "    </tr>\n",
       "  </tbody>\n",
       "</table>\n",
       "</div>"
      ],
      "text/plain": [
       "                   A         B         C         D     E\n",
       "2013-01-03  0.889347  1.699392  1.739210  2.494463   two\n",
       "2013-01-05  0.365821  1.338847 -0.201232 -0.082878  four"
      ]
     },
     "execution_count": 144,
     "metadata": {},
     "output_type": "execute_result"
    }
   ],
   "source": [
    "df2[df2['E'].isin(['two','four'])]"
   ]
  },
  {
   "cell_type": "code",
   "execution_count": 152,
   "metadata": {},
   "outputs": [
    {
     "data": {
      "text/plain": [
       "440"
      ]
     },
     "execution_count": 152,
     "metadata": {},
     "output_type": "execute_result"
    }
   ],
   "source": [
    "len(dir(df2['E']))"
   ]
  },
  {
   "cell_type": "code",
   "execution_count": 153,
   "metadata": {},
   "outputs": [
    {
     "name": "stdout",
     "output_type": "stream",
     "text": [
      "__isub__\n",
      "_check_is_chained_assignment_possible\n",
      "_get_axis\n",
      "_get_axis_name\n",
      "_get_axis_number\n",
      "_get_axis_resolvers\n",
      "_get_block_manager_axis\n",
      "_info_axis\n",
      "_info_axis_name\n",
      "_info_axis_number\n",
      "_is_builtin_func\n",
      "_is_cached\n",
      "_is_cython_func\n",
      "_is_datelike_mixed_type\n",
      "_is_mixed_type\n",
      "_is_numeric_mixed_type\n",
      "_is_view\n",
      "_reindex_axis\n",
      "_selection_list\n",
      "_set_axis\n",
      "_set_axis_name\n",
      "_set_is_copy\n",
      "_stat_axis\n",
      "_stat_axis_name\n",
      "_stat_axis_number\n",
      "hist\n",
      "is_copy\n",
      "is_monotonic\n",
      "is_monotonic_decreasing\n",
      "is_monotonic_increasing\n",
      "is_unique\n",
      "isin\n",
      "isnull\n",
      "kurtosis\n",
      "reindex_axis\n",
      "rename_axis\n",
      "set_axis\n",
      "tolist\n"
     ]
    }
   ],
   "source": [
    "for f in dir(df2['E']):\n",
    "    if 'is' in f:\n",
    "        print(f)"
   ]
  },
  {
   "cell_type": "code",
   "execution_count": 154,
   "metadata": {},
   "outputs": [
    {
     "ename": "ValueError",
     "evalue": "The truth value of a Series is ambiguous. Use a.empty, a.bool(), a.item(), a.any() or a.all().",
     "output_type": "error",
     "traceback": [
      "\u001b[0;31m---------------------------------------------------------------------------\u001b[0m",
      "\u001b[0;31mValueError\u001b[0m                                Traceback (most recent call last)",
      "\u001b[0;32m<ipython-input-154-48d108474a4b>\u001b[0m in \u001b[0;36m<module>\u001b[0;34m()\u001b[0m\n\u001b[0;32m----> 1\u001b[0;31m \u001b[0mdf2\u001b[0m\u001b[0;34m[\u001b[0m\u001b[0;32mnot\u001b[0m \u001b[0mdf2\u001b[0m\u001b[0;34m[\u001b[0m\u001b[0;34m'E'\u001b[0m\u001b[0;34m]\u001b[0m\u001b[0;34m.\u001b[0m\u001b[0misin\u001b[0m\u001b[0;34m(\u001b[0m\u001b[0;34m[\u001b[0m\u001b[0;34m'two'\u001b[0m\u001b[0;34m,\u001b[0m\u001b[0;34m'four'\u001b[0m\u001b[0;34m]\u001b[0m\u001b[0;34m)\u001b[0m\u001b[0;34m]\u001b[0m\u001b[0;34m\u001b[0m\u001b[0m\n\u001b[0m",
      "\u001b[0;32m~/.pyenv/versions/3.6.1/envs/DU361/lib/python3.6/site-packages/pandas/core/generic.py\u001b[0m in \u001b[0;36m__nonzero__\u001b[0;34m(self)\u001b[0m\n\u001b[1;32m    953\u001b[0m         raise ValueError(\"The truth value of a {0} is ambiguous. \"\n\u001b[1;32m    954\u001b[0m                          \u001b[0;34m\"Use a.empty, a.bool(), a.item(), a.any() or a.all().\"\u001b[0m\u001b[0;34m\u001b[0m\u001b[0m\n\u001b[0;32m--> 955\u001b[0;31m                          .format(self.__class__.__name__))\n\u001b[0m\u001b[1;32m    956\u001b[0m \u001b[0;34m\u001b[0m\u001b[0m\n\u001b[1;32m    957\u001b[0m     \u001b[0m__bool__\u001b[0m \u001b[0;34m=\u001b[0m \u001b[0m__nonzero__\u001b[0m\u001b[0;34m\u001b[0m\u001b[0m\n",
      "\u001b[0;31mValueError\u001b[0m: The truth value of a Series is ambiguous. Use a.empty, a.bool(), a.item(), a.any() or a.all()."
     ]
    }
   ],
   "source": [
    "df2[not df2['E'].isin(['two','four'])]"
   ]
  },
  {
   "cell_type": "markdown",
   "metadata": {},
   "source": [
    "### 设定"
   ]
  },
  {
   "cell_type": "code",
   "execution_count": 164,
   "metadata": {},
   "outputs": [
    {
     "data": {
      "text/plain": [
       "2014-01-02    1\n",
       "2014-01-03    2\n",
       "2014-01-04    3\n",
       "2014-01-05    4\n",
       "2014-01-06    5\n",
       "2014-01-07    6\n",
       "Freq: D, dtype: int64"
      ]
     },
     "execution_count": 164,
     "metadata": {},
     "output_type": "execute_result"
    }
   ],
   "source": [
    "s1 = pd.Series([1,2,3,4,5,6]\n",
    "               , index=pd.date_range(\n",
    "                   '20140102', periods=6))\n",
    "s1"
   ]
  },
  {
   "cell_type": "code",
   "execution_count": 165,
   "metadata": {},
   "outputs": [
    {
     "data": {
      "text/html": [
       "<div>\n",
       "<style>\n",
       "    .dataframe thead tr:only-child th {\n",
       "        text-align: right;\n",
       "    }\n",
       "\n",
       "    .dataframe thead th {\n",
       "        text-align: left;\n",
       "    }\n",
       "\n",
       "    .dataframe tbody tr th {\n",
       "        vertical-align: top;\n",
       "    }\n",
       "</style>\n",
       "<table border=\"1\" class=\"dataframe\">\n",
       "  <thead>\n",
       "    <tr style=\"text-align: right;\">\n",
       "      <th></th>\n",
       "      <th>A</th>\n",
       "      <th>B</th>\n",
       "      <th>C</th>\n",
       "      <th>D</th>\n",
       "      <th>E</th>\n",
       "      <th>F</th>\n",
       "    </tr>\n",
       "  </thead>\n",
       "  <tbody>\n",
       "    <tr>\n",
       "      <th>2013-01-01</th>\n",
       "      <td>0.849393</td>\n",
       "      <td>-0.338225</td>\n",
       "      <td>-1.234400</td>\n",
       "      <td>-2.097684</td>\n",
       "      <td>-0.180007</td>\n",
       "      <td>NaN</td>\n",
       "    </tr>\n",
       "    <tr>\n",
       "      <th>2013-01-02</th>\n",
       "      <td>-0.731341</td>\n",
       "      <td>0.793129</td>\n",
       "      <td>-1.033614</td>\n",
       "      <td>-0.751996</td>\n",
       "      <td>-0.156103</td>\n",
       "      <td>NaN</td>\n",
       "    </tr>\n",
       "    <tr>\n",
       "      <th>2013-01-03</th>\n",
       "      <td>-0.985722</td>\n",
       "      <td>-0.446734</td>\n",
       "      <td>0.069194</td>\n",
       "      <td>0.582819</td>\n",
       "      <td>-0.924979</td>\n",
       "      <td>NaN</td>\n",
       "    </tr>\n",
       "    <tr>\n",
       "      <th>2013-01-04</th>\n",
       "      <td>-0.466835</td>\n",
       "      <td>0.280120</td>\n",
       "      <td>1.393321</td>\n",
       "      <td>-0.725856</td>\n",
       "      <td>-1.293547</td>\n",
       "      <td>NaN</td>\n",
       "    </tr>\n",
       "    <tr>\n",
       "      <th>2013-01-05</th>\n",
       "      <td>0.322897</td>\n",
       "      <td>-2.453072</td>\n",
       "      <td>-1.121637</td>\n",
       "      <td>0.506722</td>\n",
       "      <td>0.375510</td>\n",
       "      <td>NaN</td>\n",
       "    </tr>\n",
       "    <tr>\n",
       "      <th>2013-01-06</th>\n",
       "      <td>0.463152</td>\n",
       "      <td>-0.483672</td>\n",
       "      <td>-0.064939</td>\n",
       "      <td>-0.600408</td>\n",
       "      <td>0.892167</td>\n",
       "      <td>NaN</td>\n",
       "    </tr>\n",
       "    <tr>\n",
       "      <th>2013-01-07</th>\n",
       "      <td>-0.800244</td>\n",
       "      <td>-0.721945</td>\n",
       "      <td>0.995858</td>\n",
       "      <td>0.151096</td>\n",
       "      <td>1.540500</td>\n",
       "      <td>NaN</td>\n",
       "    </tr>\n",
       "    <tr>\n",
       "      <th>2013-01-08</th>\n",
       "      <td>1.621622</td>\n",
       "      <td>-0.750952</td>\n",
       "      <td>-0.212247</td>\n",
       "      <td>-0.420051</td>\n",
       "      <td>-0.080137</td>\n",
       "      <td>NaN</td>\n",
       "    </tr>\n",
       "    <tr>\n",
       "      <th>2013-01-09</th>\n",
       "      <td>0.052636</td>\n",
       "      <td>-0.211462</td>\n",
       "      <td>-0.622754</td>\n",
       "      <td>0.253277</td>\n",
       "      <td>-0.156381</td>\n",
       "      <td>NaN</td>\n",
       "    </tr>\n",
       "    <tr>\n",
       "      <th>2013-01-10</th>\n",
       "      <td>-0.316654</td>\n",
       "      <td>0.501695</td>\n",
       "      <td>0.890174</td>\n",
       "      <td>0.014403</td>\n",
       "      <td>0.994278</td>\n",
       "      <td>NaN</td>\n",
       "    </tr>\n",
       "  </tbody>\n",
       "</table>\n",
       "</div>"
      ],
      "text/plain": [
       "                   A         B         C         D         E   F\n",
       "2013-01-01  0.849393 -0.338225 -1.234400 -2.097684 -0.180007 NaN\n",
       "2013-01-02 -0.731341  0.793129 -1.033614 -0.751996 -0.156103 NaN\n",
       "2013-01-03 -0.985722 -0.446734  0.069194  0.582819 -0.924979 NaN\n",
       "2013-01-04 -0.466835  0.280120  1.393321 -0.725856 -1.293547 NaN\n",
       "2013-01-05  0.322897 -2.453072 -1.121637  0.506722  0.375510 NaN\n",
       "2013-01-06  0.463152 -0.483672 -0.064939 -0.600408  0.892167 NaN\n",
       "2013-01-07 -0.800244 -0.721945  0.995858  0.151096  1.540500 NaN\n",
       "2013-01-08  1.621622 -0.750952 -0.212247 -0.420051 -0.080137 NaN\n",
       "2013-01-09  0.052636 -0.211462 -0.622754  0.253277 -0.156381 NaN\n",
       "2013-01-10 -0.316654  0.501695  0.890174  0.014403  0.994278 NaN"
      ]
     },
     "execution_count": 165,
     "metadata": {},
     "output_type": "execute_result"
    }
   ],
   "source": [
    "df"
   ]
  },
  {
   "cell_type": "code",
   "execution_count": 166,
   "metadata": {},
   "outputs": [],
   "source": [
    "df['F'] = s1"
   ]
  },
  {
   "cell_type": "code",
   "execution_count": 167,
   "metadata": {},
   "outputs": [
    {
     "data": {
      "text/html": [
       "<div>\n",
       "<style>\n",
       "    .dataframe thead tr:only-child th {\n",
       "        text-align: right;\n",
       "    }\n",
       "\n",
       "    .dataframe thead th {\n",
       "        text-align: left;\n",
       "    }\n",
       "\n",
       "    .dataframe tbody tr th {\n",
       "        vertical-align: top;\n",
       "    }\n",
       "</style>\n",
       "<table border=\"1\" class=\"dataframe\">\n",
       "  <thead>\n",
       "    <tr style=\"text-align: right;\">\n",
       "      <th></th>\n",
       "      <th>A</th>\n",
       "      <th>B</th>\n",
       "      <th>C</th>\n",
       "      <th>D</th>\n",
       "      <th>E</th>\n",
       "      <th>F</th>\n",
       "    </tr>\n",
       "  </thead>\n",
       "  <tbody>\n",
       "    <tr>\n",
       "      <th>2013-01-01</th>\n",
       "      <td>0.849393</td>\n",
       "      <td>-0.338225</td>\n",
       "      <td>-1.234400</td>\n",
       "      <td>-2.097684</td>\n",
       "      <td>-0.180007</td>\n",
       "      <td>NaN</td>\n",
       "    </tr>\n",
       "    <tr>\n",
       "      <th>2013-01-02</th>\n",
       "      <td>-0.731341</td>\n",
       "      <td>0.793129</td>\n",
       "      <td>-1.033614</td>\n",
       "      <td>-0.751996</td>\n",
       "      <td>-0.156103</td>\n",
       "      <td>NaN</td>\n",
       "    </tr>\n",
       "    <tr>\n",
       "      <th>2013-01-03</th>\n",
       "      <td>-0.985722</td>\n",
       "      <td>-0.446734</td>\n",
       "      <td>0.069194</td>\n",
       "      <td>0.582819</td>\n",
       "      <td>-0.924979</td>\n",
       "      <td>NaN</td>\n",
       "    </tr>\n",
       "    <tr>\n",
       "      <th>2013-01-04</th>\n",
       "      <td>-0.466835</td>\n",
       "      <td>0.280120</td>\n",
       "      <td>1.393321</td>\n",
       "      <td>-0.725856</td>\n",
       "      <td>-1.293547</td>\n",
       "      <td>NaN</td>\n",
       "    </tr>\n",
       "    <tr>\n",
       "      <th>2013-01-05</th>\n",
       "      <td>0.322897</td>\n",
       "      <td>-2.453072</td>\n",
       "      <td>-1.121637</td>\n",
       "      <td>0.506722</td>\n",
       "      <td>0.375510</td>\n",
       "      <td>NaN</td>\n",
       "    </tr>\n",
       "    <tr>\n",
       "      <th>2013-01-06</th>\n",
       "      <td>0.463152</td>\n",
       "      <td>-0.483672</td>\n",
       "      <td>-0.064939</td>\n",
       "      <td>-0.600408</td>\n",
       "      <td>0.892167</td>\n",
       "      <td>NaN</td>\n",
       "    </tr>\n",
       "    <tr>\n",
       "      <th>2013-01-07</th>\n",
       "      <td>-0.800244</td>\n",
       "      <td>-0.721945</td>\n",
       "      <td>0.995858</td>\n",
       "      <td>0.151096</td>\n",
       "      <td>1.540500</td>\n",
       "      <td>NaN</td>\n",
       "    </tr>\n",
       "    <tr>\n",
       "      <th>2013-01-08</th>\n",
       "      <td>1.621622</td>\n",
       "      <td>-0.750952</td>\n",
       "      <td>-0.212247</td>\n",
       "      <td>-0.420051</td>\n",
       "      <td>-0.080137</td>\n",
       "      <td>NaN</td>\n",
       "    </tr>\n",
       "    <tr>\n",
       "      <th>2013-01-09</th>\n",
       "      <td>0.052636</td>\n",
       "      <td>-0.211462</td>\n",
       "      <td>-0.622754</td>\n",
       "      <td>0.253277</td>\n",
       "      <td>-0.156381</td>\n",
       "      <td>NaN</td>\n",
       "    </tr>\n",
       "    <tr>\n",
       "      <th>2013-01-10</th>\n",
       "      <td>-0.316654</td>\n",
       "      <td>0.501695</td>\n",
       "      <td>0.890174</td>\n",
       "      <td>0.014403</td>\n",
       "      <td>0.994278</td>\n",
       "      <td>NaN</td>\n",
       "    </tr>\n",
       "  </tbody>\n",
       "</table>\n",
       "</div>"
      ],
      "text/plain": [
       "                   A         B         C         D         E   F\n",
       "2013-01-01  0.849393 -0.338225 -1.234400 -2.097684 -0.180007 NaN\n",
       "2013-01-02 -0.731341  0.793129 -1.033614 -0.751996 -0.156103 NaN\n",
       "2013-01-03 -0.985722 -0.446734  0.069194  0.582819 -0.924979 NaN\n",
       "2013-01-04 -0.466835  0.280120  1.393321 -0.725856 -1.293547 NaN\n",
       "2013-01-05  0.322897 -2.453072 -1.121637  0.506722  0.375510 NaN\n",
       "2013-01-06  0.463152 -0.483672 -0.064939 -0.600408  0.892167 NaN\n",
       "2013-01-07 -0.800244 -0.721945  0.995858  0.151096  1.540500 NaN\n",
       "2013-01-08  1.621622 -0.750952 -0.212247 -0.420051 -0.080137 NaN\n",
       "2013-01-09  0.052636 -0.211462 -0.622754  0.253277 -0.156381 NaN\n",
       "2013-01-10 -0.316654  0.501695  0.890174  0.014403  0.994278 NaN"
      ]
     },
     "execution_count": 167,
     "metadata": {},
     "output_type": "execute_result"
    }
   ],
   "source": [
    "df"
   ]
  },
  {
   "cell_type": "code",
   "execution_count": 168,
   "metadata": {},
   "outputs": [],
   "source": [
    "df.at[dates[0],'A'] = 0"
   ]
  },
  {
   "cell_type": "code",
   "execution_count": 169,
   "metadata": {},
   "outputs": [
    {
     "data": {
      "text/html": [
       "<div>\n",
       "<style>\n",
       "    .dataframe thead tr:only-child th {\n",
       "        text-align: right;\n",
       "    }\n",
       "\n",
       "    .dataframe thead th {\n",
       "        text-align: left;\n",
       "    }\n",
       "\n",
       "    .dataframe tbody tr th {\n",
       "        vertical-align: top;\n",
       "    }\n",
       "</style>\n",
       "<table border=\"1\" class=\"dataframe\">\n",
       "  <thead>\n",
       "    <tr style=\"text-align: right;\">\n",
       "      <th></th>\n",
       "      <th>A</th>\n",
       "      <th>B</th>\n",
       "      <th>C</th>\n",
       "      <th>D</th>\n",
       "      <th>E</th>\n",
       "      <th>F</th>\n",
       "    </tr>\n",
       "  </thead>\n",
       "  <tbody>\n",
       "    <tr>\n",
       "      <th>2013-01-01</th>\n",
       "      <td>0.000000</td>\n",
       "      <td>-0.338225</td>\n",
       "      <td>-1.234400</td>\n",
       "      <td>-2.097684</td>\n",
       "      <td>-0.180007</td>\n",
       "      <td>NaN</td>\n",
       "    </tr>\n",
       "    <tr>\n",
       "      <th>2013-01-02</th>\n",
       "      <td>-0.731341</td>\n",
       "      <td>0.793129</td>\n",
       "      <td>-1.033614</td>\n",
       "      <td>-0.751996</td>\n",
       "      <td>-0.156103</td>\n",
       "      <td>NaN</td>\n",
       "    </tr>\n",
       "    <tr>\n",
       "      <th>2013-01-03</th>\n",
       "      <td>-0.985722</td>\n",
       "      <td>-0.446734</td>\n",
       "      <td>0.069194</td>\n",
       "      <td>0.582819</td>\n",
       "      <td>-0.924979</td>\n",
       "      <td>NaN</td>\n",
       "    </tr>\n",
       "    <tr>\n",
       "      <th>2013-01-04</th>\n",
       "      <td>-0.466835</td>\n",
       "      <td>0.280120</td>\n",
       "      <td>1.393321</td>\n",
       "      <td>-0.725856</td>\n",
       "      <td>-1.293547</td>\n",
       "      <td>NaN</td>\n",
       "    </tr>\n",
       "    <tr>\n",
       "      <th>2013-01-05</th>\n",
       "      <td>0.322897</td>\n",
       "      <td>-2.453072</td>\n",
       "      <td>-1.121637</td>\n",
       "      <td>0.506722</td>\n",
       "      <td>0.375510</td>\n",
       "      <td>NaN</td>\n",
       "    </tr>\n",
       "    <tr>\n",
       "      <th>2013-01-06</th>\n",
       "      <td>0.463152</td>\n",
       "      <td>-0.483672</td>\n",
       "      <td>-0.064939</td>\n",
       "      <td>-0.600408</td>\n",
       "      <td>0.892167</td>\n",
       "      <td>NaN</td>\n",
       "    </tr>\n",
       "    <tr>\n",
       "      <th>2013-01-07</th>\n",
       "      <td>-0.800244</td>\n",
       "      <td>-0.721945</td>\n",
       "      <td>0.995858</td>\n",
       "      <td>0.151096</td>\n",
       "      <td>1.540500</td>\n",
       "      <td>NaN</td>\n",
       "    </tr>\n",
       "    <tr>\n",
       "      <th>2013-01-08</th>\n",
       "      <td>1.621622</td>\n",
       "      <td>-0.750952</td>\n",
       "      <td>-0.212247</td>\n",
       "      <td>-0.420051</td>\n",
       "      <td>-0.080137</td>\n",
       "      <td>NaN</td>\n",
       "    </tr>\n",
       "    <tr>\n",
       "      <th>2013-01-09</th>\n",
       "      <td>0.052636</td>\n",
       "      <td>-0.211462</td>\n",
       "      <td>-0.622754</td>\n",
       "      <td>0.253277</td>\n",
       "      <td>-0.156381</td>\n",
       "      <td>NaN</td>\n",
       "    </tr>\n",
       "    <tr>\n",
       "      <th>2013-01-10</th>\n",
       "      <td>-0.316654</td>\n",
       "      <td>0.501695</td>\n",
       "      <td>0.890174</td>\n",
       "      <td>0.014403</td>\n",
       "      <td>0.994278</td>\n",
       "      <td>NaN</td>\n",
       "    </tr>\n",
       "  </tbody>\n",
       "</table>\n",
       "</div>"
      ],
      "text/plain": [
       "                   A         B         C         D         E   F\n",
       "2013-01-01  0.000000 -0.338225 -1.234400 -2.097684 -0.180007 NaN\n",
       "2013-01-02 -0.731341  0.793129 -1.033614 -0.751996 -0.156103 NaN\n",
       "2013-01-03 -0.985722 -0.446734  0.069194  0.582819 -0.924979 NaN\n",
       "2013-01-04 -0.466835  0.280120  1.393321 -0.725856 -1.293547 NaN\n",
       "2013-01-05  0.322897 -2.453072 -1.121637  0.506722  0.375510 NaN\n",
       "2013-01-06  0.463152 -0.483672 -0.064939 -0.600408  0.892167 NaN\n",
       "2013-01-07 -0.800244 -0.721945  0.995858  0.151096  1.540500 NaN\n",
       "2013-01-08  1.621622 -0.750952 -0.212247 -0.420051 -0.080137 NaN\n",
       "2013-01-09  0.052636 -0.211462 -0.622754  0.253277 -0.156381 NaN\n",
       "2013-01-10 -0.316654  0.501695  0.890174  0.014403  0.994278 NaN"
      ]
     },
     "execution_count": 169,
     "metadata": {},
     "output_type": "execute_result"
    }
   ],
   "source": [
    "df"
   ]
  },
  {
   "cell_type": "code",
   "execution_count": 170,
   "metadata": {},
   "outputs": [],
   "source": [
    "df.iat[0,1] = 0"
   ]
  },
  {
   "cell_type": "code",
   "execution_count": 171,
   "metadata": {},
   "outputs": [
    {
     "data": {
      "text/html": [
       "<div>\n",
       "<style>\n",
       "    .dataframe thead tr:only-child th {\n",
       "        text-align: right;\n",
       "    }\n",
       "\n",
       "    .dataframe thead th {\n",
       "        text-align: left;\n",
       "    }\n",
       "\n",
       "    .dataframe tbody tr th {\n",
       "        vertical-align: top;\n",
       "    }\n",
       "</style>\n",
       "<table border=\"1\" class=\"dataframe\">\n",
       "  <thead>\n",
       "    <tr style=\"text-align: right;\">\n",
       "      <th></th>\n",
       "      <th>A</th>\n",
       "      <th>B</th>\n",
       "      <th>C</th>\n",
       "      <th>D</th>\n",
       "      <th>E</th>\n",
       "      <th>F</th>\n",
       "    </tr>\n",
       "  </thead>\n",
       "  <tbody>\n",
       "    <tr>\n",
       "      <th>2013-01-01</th>\n",
       "      <td>0.000000</td>\n",
       "      <td>0.000000</td>\n",
       "      <td>-1.234400</td>\n",
       "      <td>-2.097684</td>\n",
       "      <td>-0.180007</td>\n",
       "      <td>NaN</td>\n",
       "    </tr>\n",
       "    <tr>\n",
       "      <th>2013-01-02</th>\n",
       "      <td>-0.731341</td>\n",
       "      <td>0.793129</td>\n",
       "      <td>-1.033614</td>\n",
       "      <td>-0.751996</td>\n",
       "      <td>-0.156103</td>\n",
       "      <td>NaN</td>\n",
       "    </tr>\n",
       "    <tr>\n",
       "      <th>2013-01-03</th>\n",
       "      <td>-0.985722</td>\n",
       "      <td>-0.446734</td>\n",
       "      <td>0.069194</td>\n",
       "      <td>0.582819</td>\n",
       "      <td>-0.924979</td>\n",
       "      <td>NaN</td>\n",
       "    </tr>\n",
       "    <tr>\n",
       "      <th>2013-01-04</th>\n",
       "      <td>-0.466835</td>\n",
       "      <td>0.280120</td>\n",
       "      <td>1.393321</td>\n",
       "      <td>-0.725856</td>\n",
       "      <td>-1.293547</td>\n",
       "      <td>NaN</td>\n",
       "    </tr>\n",
       "    <tr>\n",
       "      <th>2013-01-05</th>\n",
       "      <td>0.322897</td>\n",
       "      <td>-2.453072</td>\n",
       "      <td>-1.121637</td>\n",
       "      <td>0.506722</td>\n",
       "      <td>0.375510</td>\n",
       "      <td>NaN</td>\n",
       "    </tr>\n",
       "    <tr>\n",
       "      <th>2013-01-06</th>\n",
       "      <td>0.463152</td>\n",
       "      <td>-0.483672</td>\n",
       "      <td>-0.064939</td>\n",
       "      <td>-0.600408</td>\n",
       "      <td>0.892167</td>\n",
       "      <td>NaN</td>\n",
       "    </tr>\n",
       "    <tr>\n",
       "      <th>2013-01-07</th>\n",
       "      <td>-0.800244</td>\n",
       "      <td>-0.721945</td>\n",
       "      <td>0.995858</td>\n",
       "      <td>0.151096</td>\n",
       "      <td>1.540500</td>\n",
       "      <td>NaN</td>\n",
       "    </tr>\n",
       "    <tr>\n",
       "      <th>2013-01-08</th>\n",
       "      <td>1.621622</td>\n",
       "      <td>-0.750952</td>\n",
       "      <td>-0.212247</td>\n",
       "      <td>-0.420051</td>\n",
       "      <td>-0.080137</td>\n",
       "      <td>NaN</td>\n",
       "    </tr>\n",
       "    <tr>\n",
       "      <th>2013-01-09</th>\n",
       "      <td>0.052636</td>\n",
       "      <td>-0.211462</td>\n",
       "      <td>-0.622754</td>\n",
       "      <td>0.253277</td>\n",
       "      <td>-0.156381</td>\n",
       "      <td>NaN</td>\n",
       "    </tr>\n",
       "    <tr>\n",
       "      <th>2013-01-10</th>\n",
       "      <td>-0.316654</td>\n",
       "      <td>0.501695</td>\n",
       "      <td>0.890174</td>\n",
       "      <td>0.014403</td>\n",
       "      <td>0.994278</td>\n",
       "      <td>NaN</td>\n",
       "    </tr>\n",
       "  </tbody>\n",
       "</table>\n",
       "</div>"
      ],
      "text/plain": [
       "                   A         B         C         D         E   F\n",
       "2013-01-01  0.000000  0.000000 -1.234400 -2.097684 -0.180007 NaN\n",
       "2013-01-02 -0.731341  0.793129 -1.033614 -0.751996 -0.156103 NaN\n",
       "2013-01-03 -0.985722 -0.446734  0.069194  0.582819 -0.924979 NaN\n",
       "2013-01-04 -0.466835  0.280120  1.393321 -0.725856 -1.293547 NaN\n",
       "2013-01-05  0.322897 -2.453072 -1.121637  0.506722  0.375510 NaN\n",
       "2013-01-06  0.463152 -0.483672 -0.064939 -0.600408  0.892167 NaN\n",
       "2013-01-07 -0.800244 -0.721945  0.995858  0.151096  1.540500 NaN\n",
       "2013-01-08  1.621622 -0.750952 -0.212247 -0.420051 -0.080137 NaN\n",
       "2013-01-09  0.052636 -0.211462 -0.622754  0.253277 -0.156381 NaN\n",
       "2013-01-10 -0.316654  0.501695  0.890174  0.014403  0.994278 NaN"
      ]
     },
     "execution_count": 171,
     "metadata": {},
     "output_type": "execute_result"
    }
   ],
   "source": [
    "df"
   ]
  },
  {
   "cell_type": "code",
   "execution_count": 173,
   "metadata": {},
   "outputs": [
    {
     "data": {
      "text/html": [
       "<div>\n",
       "<style>\n",
       "    .dataframe thead tr:only-child th {\n",
       "        text-align: right;\n",
       "    }\n",
       "\n",
       "    .dataframe thead th {\n",
       "        text-align: left;\n",
       "    }\n",
       "\n",
       "    .dataframe tbody tr th {\n",
       "        vertical-align: top;\n",
       "    }\n",
       "</style>\n",
       "<table border=\"1\" class=\"dataframe\">\n",
       "  <thead>\n",
       "    <tr style=\"text-align: right;\">\n",
       "      <th></th>\n",
       "      <th>A</th>\n",
       "      <th>B</th>\n",
       "      <th>C</th>\n",
       "      <th>D</th>\n",
       "      <th>E</th>\n",
       "      <th>F</th>\n",
       "    </tr>\n",
       "  </thead>\n",
       "  <tbody>\n",
       "    <tr>\n",
       "      <th>2013-01-01</th>\n",
       "      <td>0.000000</td>\n",
       "      <td>0.000000</td>\n",
       "      <td>-1.234400</td>\n",
       "      <td>5</td>\n",
       "      <td>-0.180007</td>\n",
       "      <td>NaN</td>\n",
       "    </tr>\n",
       "    <tr>\n",
       "      <th>2013-01-02</th>\n",
       "      <td>-0.731341</td>\n",
       "      <td>0.793129</td>\n",
       "      <td>-1.033614</td>\n",
       "      <td>5</td>\n",
       "      <td>-0.156103</td>\n",
       "      <td>NaN</td>\n",
       "    </tr>\n",
       "    <tr>\n",
       "      <th>2013-01-03</th>\n",
       "      <td>-0.985722</td>\n",
       "      <td>-0.446734</td>\n",
       "      <td>0.069194</td>\n",
       "      <td>5</td>\n",
       "      <td>-0.924979</td>\n",
       "      <td>NaN</td>\n",
       "    </tr>\n",
       "    <tr>\n",
       "      <th>2013-01-04</th>\n",
       "      <td>-0.466835</td>\n",
       "      <td>0.280120</td>\n",
       "      <td>1.393321</td>\n",
       "      <td>5</td>\n",
       "      <td>-1.293547</td>\n",
       "      <td>NaN</td>\n",
       "    </tr>\n",
       "    <tr>\n",
       "      <th>2013-01-05</th>\n",
       "      <td>0.322897</td>\n",
       "      <td>-2.453072</td>\n",
       "      <td>-1.121637</td>\n",
       "      <td>5</td>\n",
       "      <td>0.375510</td>\n",
       "      <td>NaN</td>\n",
       "    </tr>\n",
       "    <tr>\n",
       "      <th>2013-01-06</th>\n",
       "      <td>0.463152</td>\n",
       "      <td>-0.483672</td>\n",
       "      <td>-0.064939</td>\n",
       "      <td>5</td>\n",
       "      <td>0.892167</td>\n",
       "      <td>NaN</td>\n",
       "    </tr>\n",
       "    <tr>\n",
       "      <th>2013-01-07</th>\n",
       "      <td>-0.800244</td>\n",
       "      <td>-0.721945</td>\n",
       "      <td>0.995858</td>\n",
       "      <td>5</td>\n",
       "      <td>1.540500</td>\n",
       "      <td>NaN</td>\n",
       "    </tr>\n",
       "    <tr>\n",
       "      <th>2013-01-08</th>\n",
       "      <td>1.621622</td>\n",
       "      <td>-0.750952</td>\n",
       "      <td>-0.212247</td>\n",
       "      <td>5</td>\n",
       "      <td>-0.080137</td>\n",
       "      <td>NaN</td>\n",
       "    </tr>\n",
       "    <tr>\n",
       "      <th>2013-01-09</th>\n",
       "      <td>0.052636</td>\n",
       "      <td>-0.211462</td>\n",
       "      <td>-0.622754</td>\n",
       "      <td>5</td>\n",
       "      <td>-0.156381</td>\n",
       "      <td>NaN</td>\n",
       "    </tr>\n",
       "    <tr>\n",
       "      <th>2013-01-10</th>\n",
       "      <td>-0.316654</td>\n",
       "      <td>0.501695</td>\n",
       "      <td>0.890174</td>\n",
       "      <td>5</td>\n",
       "      <td>0.994278</td>\n",
       "      <td>NaN</td>\n",
       "    </tr>\n",
       "  </tbody>\n",
       "</table>\n",
       "</div>"
      ],
      "text/plain": [
       "                   A         B         C  D         E   F\n",
       "2013-01-01  0.000000  0.000000 -1.234400  5 -0.180007 NaN\n",
       "2013-01-02 -0.731341  0.793129 -1.033614  5 -0.156103 NaN\n",
       "2013-01-03 -0.985722 -0.446734  0.069194  5 -0.924979 NaN\n",
       "2013-01-04 -0.466835  0.280120  1.393321  5 -1.293547 NaN\n",
       "2013-01-05  0.322897 -2.453072 -1.121637  5  0.375510 NaN\n",
       "2013-01-06  0.463152 -0.483672 -0.064939  5  0.892167 NaN\n",
       "2013-01-07 -0.800244 -0.721945  0.995858  5  1.540500 NaN\n",
       "2013-01-08  1.621622 -0.750952 -0.212247  5 -0.080137 NaN\n",
       "2013-01-09  0.052636 -0.211462 -0.622754  5 -0.156381 NaN\n",
       "2013-01-10 -0.316654  0.501695  0.890174  5  0.994278 NaN"
      ]
     },
     "execution_count": 173,
     "metadata": {},
     "output_type": "execute_result"
    }
   ],
   "source": [
    "df.loc[:,'D'] = np.array([5] * len(df))\n",
    "df"
   ]
  },
  {
   "cell_type": "code",
   "execution_count": 174,
   "metadata": {},
   "outputs": [
    {
     "data": {
      "text/html": [
       "<div>\n",
       "<style>\n",
       "    .dataframe thead tr:only-child th {\n",
       "        text-align: right;\n",
       "    }\n",
       "\n",
       "    .dataframe thead th {\n",
       "        text-align: left;\n",
       "    }\n",
       "\n",
       "    .dataframe tbody tr th {\n",
       "        vertical-align: top;\n",
       "    }\n",
       "</style>\n",
       "<table border=\"1\" class=\"dataframe\">\n",
       "  <thead>\n",
       "    <tr style=\"text-align: right;\">\n",
       "      <th></th>\n",
       "      <th>A</th>\n",
       "      <th>B</th>\n",
       "      <th>C</th>\n",
       "      <th>D</th>\n",
       "      <th>E</th>\n",
       "      <th>F</th>\n",
       "    </tr>\n",
       "  </thead>\n",
       "  <tbody>\n",
       "    <tr>\n",
       "      <th>2013-01-01</th>\n",
       "      <td>0.000000</td>\n",
       "      <td>0.000000</td>\n",
       "      <td>-1.234400</td>\n",
       "      <td>10</td>\n",
       "      <td>-0.180007</td>\n",
       "      <td>NaN</td>\n",
       "    </tr>\n",
       "    <tr>\n",
       "      <th>2013-01-02</th>\n",
       "      <td>-0.731341</td>\n",
       "      <td>0.793129</td>\n",
       "      <td>-1.033614</td>\n",
       "      <td>10</td>\n",
       "      <td>-0.156103</td>\n",
       "      <td>NaN</td>\n",
       "    </tr>\n",
       "    <tr>\n",
       "      <th>2013-01-03</th>\n",
       "      <td>-0.985722</td>\n",
       "      <td>-0.446734</td>\n",
       "      <td>0.069194</td>\n",
       "      <td>10</td>\n",
       "      <td>-0.924979</td>\n",
       "      <td>NaN</td>\n",
       "    </tr>\n",
       "    <tr>\n",
       "      <th>2013-01-04</th>\n",
       "      <td>-0.466835</td>\n",
       "      <td>0.280120</td>\n",
       "      <td>1.393321</td>\n",
       "      <td>10</td>\n",
       "      <td>-1.293547</td>\n",
       "      <td>NaN</td>\n",
       "    </tr>\n",
       "    <tr>\n",
       "      <th>2013-01-05</th>\n",
       "      <td>0.322897</td>\n",
       "      <td>-2.453072</td>\n",
       "      <td>-1.121637</td>\n",
       "      <td>10</td>\n",
       "      <td>0.375510</td>\n",
       "      <td>NaN</td>\n",
       "    </tr>\n",
       "    <tr>\n",
       "      <th>2013-01-06</th>\n",
       "      <td>0.463152</td>\n",
       "      <td>-0.483672</td>\n",
       "      <td>-0.064939</td>\n",
       "      <td>10</td>\n",
       "      <td>0.892167</td>\n",
       "      <td>NaN</td>\n",
       "    </tr>\n",
       "    <tr>\n",
       "      <th>2013-01-07</th>\n",
       "      <td>-0.800244</td>\n",
       "      <td>-0.721945</td>\n",
       "      <td>0.995858</td>\n",
       "      <td>10</td>\n",
       "      <td>1.540500</td>\n",
       "      <td>NaN</td>\n",
       "    </tr>\n",
       "    <tr>\n",
       "      <th>2013-01-08</th>\n",
       "      <td>1.621622</td>\n",
       "      <td>-0.750952</td>\n",
       "      <td>-0.212247</td>\n",
       "      <td>10</td>\n",
       "      <td>-0.080137</td>\n",
       "      <td>NaN</td>\n",
       "    </tr>\n",
       "    <tr>\n",
       "      <th>2013-01-09</th>\n",
       "      <td>0.052636</td>\n",
       "      <td>-0.211462</td>\n",
       "      <td>-0.622754</td>\n",
       "      <td>10</td>\n",
       "      <td>-0.156381</td>\n",
       "      <td>NaN</td>\n",
       "    </tr>\n",
       "    <tr>\n",
       "      <th>2013-01-10</th>\n",
       "      <td>-0.316654</td>\n",
       "      <td>0.501695</td>\n",
       "      <td>0.890174</td>\n",
       "      <td>10</td>\n",
       "      <td>0.994278</td>\n",
       "      <td>NaN</td>\n",
       "    </tr>\n",
       "  </tbody>\n",
       "</table>\n",
       "</div>"
      ],
      "text/plain": [
       "                   A         B         C   D         E   F\n",
       "2013-01-01  0.000000  0.000000 -1.234400  10 -0.180007 NaN\n",
       "2013-01-02 -0.731341  0.793129 -1.033614  10 -0.156103 NaN\n",
       "2013-01-03 -0.985722 -0.446734  0.069194  10 -0.924979 NaN\n",
       "2013-01-04 -0.466835  0.280120  1.393321  10 -1.293547 NaN\n",
       "2013-01-05  0.322897 -2.453072 -1.121637  10  0.375510 NaN\n",
       "2013-01-06  0.463152 -0.483672 -0.064939  10  0.892167 NaN\n",
       "2013-01-07 -0.800244 -0.721945  0.995858  10  1.540500 NaN\n",
       "2013-01-08  1.621622 -0.750952 -0.212247  10 -0.080137 NaN\n",
       "2013-01-09  0.052636 -0.211462 -0.622754  10 -0.156381 NaN\n",
       "2013-01-10 -0.316654  0.501695  0.890174  10  0.994278 NaN"
      ]
     },
     "execution_count": 174,
     "metadata": {},
     "output_type": "execute_result"
    }
   ],
   "source": [
    "df.loc[:,'D'] =  len(df)\n",
    "df"
   ]
  },
  {
   "cell_type": "code",
   "execution_count": 178,
   "metadata": {},
   "outputs": [
    {
     "data": {
      "text/plain": [
       "array([5, 5, 5, 5, 5, 5, 5, 5, 5, 5])"
      ]
     },
     "execution_count": 178,
     "metadata": {},
     "output_type": "execute_result"
    }
   ],
   "source": [
    "np.array([5]*10)"
   ]
  },
  {
   "cell_type": "code",
   "execution_count": 180,
   "metadata": {},
   "outputs": [
    {
     "data": {
      "text/html": [
       "<div>\n",
       "<style>\n",
       "    .dataframe thead tr:only-child th {\n",
       "        text-align: right;\n",
       "    }\n",
       "\n",
       "    .dataframe thead th {\n",
       "        text-align: left;\n",
       "    }\n",
       "\n",
       "    .dataframe tbody tr th {\n",
       "        vertical-align: top;\n",
       "    }\n",
       "</style>\n",
       "<table border=\"1\" class=\"dataframe\">\n",
       "  <thead>\n",
       "    <tr style=\"text-align: right;\">\n",
       "      <th></th>\n",
       "      <th>A</th>\n",
       "      <th>B</th>\n",
       "      <th>C</th>\n",
       "      <th>D</th>\n",
       "      <th>E</th>\n",
       "      <th>F</th>\n",
       "    </tr>\n",
       "  </thead>\n",
       "  <tbody>\n",
       "    <tr>\n",
       "      <th>2013-01-01</th>\n",
       "      <td>0.000000</td>\n",
       "      <td>0.000000</td>\n",
       "      <td>-1.234400</td>\n",
       "      <td>-10</td>\n",
       "      <td>-0.180007</td>\n",
       "      <td>NaN</td>\n",
       "    </tr>\n",
       "    <tr>\n",
       "      <th>2013-01-02</th>\n",
       "      <td>-0.731341</td>\n",
       "      <td>-0.793129</td>\n",
       "      <td>-1.033614</td>\n",
       "      <td>-10</td>\n",
       "      <td>-0.156103</td>\n",
       "      <td>NaN</td>\n",
       "    </tr>\n",
       "    <tr>\n",
       "      <th>2013-01-03</th>\n",
       "      <td>-0.985722</td>\n",
       "      <td>-0.446734</td>\n",
       "      <td>-0.069194</td>\n",
       "      <td>-10</td>\n",
       "      <td>-0.924979</td>\n",
       "      <td>NaN</td>\n",
       "    </tr>\n",
       "    <tr>\n",
       "      <th>2013-01-04</th>\n",
       "      <td>-0.466835</td>\n",
       "      <td>-0.280120</td>\n",
       "      <td>-1.393321</td>\n",
       "      <td>-10</td>\n",
       "      <td>-1.293547</td>\n",
       "      <td>NaN</td>\n",
       "    </tr>\n",
       "    <tr>\n",
       "      <th>2013-01-05</th>\n",
       "      <td>-0.322897</td>\n",
       "      <td>-2.453072</td>\n",
       "      <td>-1.121637</td>\n",
       "      <td>-10</td>\n",
       "      <td>-0.375510</td>\n",
       "      <td>NaN</td>\n",
       "    </tr>\n",
       "    <tr>\n",
       "      <th>2013-01-06</th>\n",
       "      <td>-0.463152</td>\n",
       "      <td>-0.483672</td>\n",
       "      <td>-0.064939</td>\n",
       "      <td>-10</td>\n",
       "      <td>-0.892167</td>\n",
       "      <td>NaN</td>\n",
       "    </tr>\n",
       "    <tr>\n",
       "      <th>2013-01-07</th>\n",
       "      <td>-0.800244</td>\n",
       "      <td>-0.721945</td>\n",
       "      <td>-0.995858</td>\n",
       "      <td>-10</td>\n",
       "      <td>-1.540500</td>\n",
       "      <td>NaN</td>\n",
       "    </tr>\n",
       "    <tr>\n",
       "      <th>2013-01-08</th>\n",
       "      <td>-1.621622</td>\n",
       "      <td>-0.750952</td>\n",
       "      <td>-0.212247</td>\n",
       "      <td>-10</td>\n",
       "      <td>-0.080137</td>\n",
       "      <td>NaN</td>\n",
       "    </tr>\n",
       "    <tr>\n",
       "      <th>2013-01-09</th>\n",
       "      <td>-0.052636</td>\n",
       "      <td>-0.211462</td>\n",
       "      <td>-0.622754</td>\n",
       "      <td>-10</td>\n",
       "      <td>-0.156381</td>\n",
       "      <td>NaN</td>\n",
       "    </tr>\n",
       "    <tr>\n",
       "      <th>2013-01-10</th>\n",
       "      <td>-0.316654</td>\n",
       "      <td>-0.501695</td>\n",
       "      <td>-0.890174</td>\n",
       "      <td>-10</td>\n",
       "      <td>-0.994278</td>\n",
       "      <td>NaN</td>\n",
       "    </tr>\n",
       "  </tbody>\n",
       "</table>\n",
       "</div>"
      ],
      "text/plain": [
       "                   A         B         C   D         E   F\n",
       "2013-01-01  0.000000  0.000000 -1.234400 -10 -0.180007 NaN\n",
       "2013-01-02 -0.731341 -0.793129 -1.033614 -10 -0.156103 NaN\n",
       "2013-01-03 -0.985722 -0.446734 -0.069194 -10 -0.924979 NaN\n",
       "2013-01-04 -0.466835 -0.280120 -1.393321 -10 -1.293547 NaN\n",
       "2013-01-05 -0.322897 -2.453072 -1.121637 -10 -0.375510 NaN\n",
       "2013-01-06 -0.463152 -0.483672 -0.064939 -10 -0.892167 NaN\n",
       "2013-01-07 -0.800244 -0.721945 -0.995858 -10 -1.540500 NaN\n",
       "2013-01-08 -1.621622 -0.750952 -0.212247 -10 -0.080137 NaN\n",
       "2013-01-09 -0.052636 -0.211462 -0.622754 -10 -0.156381 NaN\n",
       "2013-01-10 -0.316654 -0.501695 -0.890174 -10 -0.994278 NaN"
      ]
     },
     "execution_count": 180,
     "metadata": {},
     "output_type": "execute_result"
    }
   ],
   "source": [
    "df2 = df.copy()\n",
    "df2[df2 > 0] = -df2\n",
    "df2"
   ]
  },
  {
   "cell_type": "markdown",
   "metadata": {},
   "source": [
    "### 缺失数据\n",
    "\n",
    "对于经常发生的数据集中残缺现象进行一致性处理"
   ]
  },
  {
   "cell_type": "code",
   "execution_count": 182,
   "metadata": {},
   "outputs": [
    {
     "data": {
      "text/html": [
       "<div>\n",
       "<style>\n",
       "    .dataframe thead tr:only-child th {\n",
       "        text-align: right;\n",
       "    }\n",
       "\n",
       "    .dataframe thead th {\n",
       "        text-align: left;\n",
       "    }\n",
       "\n",
       "    .dataframe tbody tr th {\n",
       "        vertical-align: top;\n",
       "    }\n",
       "</style>\n",
       "<table border=\"1\" class=\"dataframe\">\n",
       "  <thead>\n",
       "    <tr style=\"text-align: right;\">\n",
       "      <th></th>\n",
       "      <th>A</th>\n",
       "      <th>B</th>\n",
       "      <th>C</th>\n",
       "      <th>D</th>\n",
       "      <th>E</th>\n",
       "      <th>F</th>\n",
       "      <th>E</th>\n",
       "    </tr>\n",
       "  </thead>\n",
       "  <tbody>\n",
       "    <tr>\n",
       "      <th>2013-01-01</th>\n",
       "      <td>0.000000</td>\n",
       "      <td>0.000000</td>\n",
       "      <td>-1.234400</td>\n",
       "      <td>10</td>\n",
       "      <td>-0.180007</td>\n",
       "      <td>NaN</td>\n",
       "      <td>-0.180007</td>\n",
       "    </tr>\n",
       "    <tr>\n",
       "      <th>2013-01-02</th>\n",
       "      <td>-0.731341</td>\n",
       "      <td>0.793129</td>\n",
       "      <td>-1.033614</td>\n",
       "      <td>10</td>\n",
       "      <td>-0.156103</td>\n",
       "      <td>NaN</td>\n",
       "      <td>-0.156103</td>\n",
       "    </tr>\n",
       "    <tr>\n",
       "      <th>2013-01-03</th>\n",
       "      <td>-0.985722</td>\n",
       "      <td>-0.446734</td>\n",
       "      <td>0.069194</td>\n",
       "      <td>10</td>\n",
       "      <td>-0.924979</td>\n",
       "      <td>NaN</td>\n",
       "      <td>-0.924979</td>\n",
       "    </tr>\n",
       "    <tr>\n",
       "      <th>2013-01-04</th>\n",
       "      <td>-0.466835</td>\n",
       "      <td>0.280120</td>\n",
       "      <td>1.393321</td>\n",
       "      <td>10</td>\n",
       "      <td>-1.293547</td>\n",
       "      <td>NaN</td>\n",
       "      <td>-1.293547</td>\n",
       "    </tr>\n",
       "  </tbody>\n",
       "</table>\n",
       "</div>"
      ],
      "text/plain": [
       "                   A         B         C   D         E   F         E\n",
       "2013-01-01  0.000000  0.000000 -1.234400  10 -0.180007 NaN -0.180007\n",
       "2013-01-02 -0.731341  0.793129 -1.033614  10 -0.156103 NaN -0.156103\n",
       "2013-01-03 -0.985722 -0.446734  0.069194  10 -0.924979 NaN -0.924979\n",
       "2013-01-04 -0.466835  0.280120  1.393321  10 -1.293547 NaN -1.293547"
      ]
     },
     "execution_count": 182,
     "metadata": {},
     "output_type": "execute_result"
    }
   ],
   "source": [
    "df1 = df.reindex(index=dates[0:4], columns=list(df.columns) + ['E'])\n",
    "df1"
   ]
  },
  {
   "cell_type": "code",
   "execution_count": 183,
   "metadata": {},
   "outputs": [
    {
     "data": {
      "text/html": [
       "<div>\n",
       "<style>\n",
       "    .dataframe thead tr:only-child th {\n",
       "        text-align: right;\n",
       "    }\n",
       "\n",
       "    .dataframe thead th {\n",
       "        text-align: left;\n",
       "    }\n",
       "\n",
       "    .dataframe tbody tr th {\n",
       "        vertical-align: top;\n",
       "    }\n",
       "</style>\n",
       "<table border=\"1\" class=\"dataframe\">\n",
       "  <thead>\n",
       "    <tr style=\"text-align: right;\">\n",
       "      <th></th>\n",
       "      <th>A</th>\n",
       "      <th>B</th>\n",
       "      <th>C</th>\n",
       "      <th>D</th>\n",
       "      <th>E</th>\n",
       "      <th>F</th>\n",
       "      <th>E</th>\n",
       "    </tr>\n",
       "  </thead>\n",
       "  <tbody>\n",
       "    <tr>\n",
       "      <th>2013-01-01</th>\n",
       "      <td>0.000000</td>\n",
       "      <td>0.000000</td>\n",
       "      <td>-1.234400</td>\n",
       "      <td>10</td>\n",
       "      <td>1.000000</td>\n",
       "      <td>NaN</td>\n",
       "      <td>1.000000</td>\n",
       "    </tr>\n",
       "    <tr>\n",
       "      <th>2013-01-02</th>\n",
       "      <td>-0.731341</td>\n",
       "      <td>0.793129</td>\n",
       "      <td>-1.033614</td>\n",
       "      <td>10</td>\n",
       "      <td>1.000000</td>\n",
       "      <td>NaN</td>\n",
       "      <td>1.000000</td>\n",
       "    </tr>\n",
       "    <tr>\n",
       "      <th>2013-01-03</th>\n",
       "      <td>-0.985722</td>\n",
       "      <td>-0.446734</td>\n",
       "      <td>0.069194</td>\n",
       "      <td>10</td>\n",
       "      <td>-0.924979</td>\n",
       "      <td>NaN</td>\n",
       "      <td>-0.924979</td>\n",
       "    </tr>\n",
       "    <tr>\n",
       "      <th>2013-01-04</th>\n",
       "      <td>-0.466835</td>\n",
       "      <td>0.280120</td>\n",
       "      <td>1.393321</td>\n",
       "      <td>10</td>\n",
       "      <td>-1.293547</td>\n",
       "      <td>NaN</td>\n",
       "      <td>-1.293547</td>\n",
       "    </tr>\n",
       "  </tbody>\n",
       "</table>\n",
       "</div>"
      ],
      "text/plain": [
       "                   A         B         C   D         E   F         E\n",
       "2013-01-01  0.000000  0.000000 -1.234400  10  1.000000 NaN  1.000000\n",
       "2013-01-02 -0.731341  0.793129 -1.033614  10  1.000000 NaN  1.000000\n",
       "2013-01-03 -0.985722 -0.446734  0.069194  10 -0.924979 NaN -0.924979\n",
       "2013-01-04 -0.466835  0.280120  1.393321  10 -1.293547 NaN -1.293547"
      ]
     },
     "execution_count": 183,
     "metadata": {},
     "output_type": "execute_result"
    }
   ],
   "source": [
    "df1.loc[dates[0]:dates[1],'E'] = 1\n",
    "df1"
   ]
  },
  {
   "cell_type": "code",
   "execution_count": 186,
   "metadata": {},
   "outputs": [
    {
     "data": {
      "text/html": [
       "<div>\n",
       "<style>\n",
       "    .dataframe thead tr:only-child th {\n",
       "        text-align: right;\n",
       "    }\n",
       "\n",
       "    .dataframe thead th {\n",
       "        text-align: left;\n",
       "    }\n",
       "\n",
       "    .dataframe tbody tr th {\n",
       "        vertical-align: top;\n",
       "    }\n",
       "</style>\n",
       "<table border=\"1\" class=\"dataframe\">\n",
       "  <thead>\n",
       "    <tr style=\"text-align: right;\">\n",
       "      <th></th>\n",
       "      <th>A</th>\n",
       "      <th>B</th>\n",
       "      <th>C</th>\n",
       "      <th>D</th>\n",
       "      <th>E</th>\n",
       "      <th>F</th>\n",
       "      <th>E</th>\n",
       "    </tr>\n",
       "  </thead>\n",
       "  <tbody>\n",
       "  </tbody>\n",
       "</table>\n",
       "</div>"
      ],
      "text/plain": [
       "Empty DataFrame\n",
       "Columns: [A, B, C, D, E, F, E]\n",
       "Index: []"
      ]
     },
     "execution_count": 186,
     "metadata": {},
     "output_type": "execute_result"
    }
   ],
   "source": [
    "df1.dropna(how='any')"
   ]
  },
  {
   "cell_type": "code",
   "execution_count": 187,
   "metadata": {},
   "outputs": [
    {
     "data": {
      "text/html": [
       "<div>\n",
       "<style>\n",
       "    .dataframe thead tr:only-child th {\n",
       "        text-align: right;\n",
       "    }\n",
       "\n",
       "    .dataframe thead th {\n",
       "        text-align: left;\n",
       "    }\n",
       "\n",
       "    .dataframe tbody tr th {\n",
       "        vertical-align: top;\n",
       "    }\n",
       "</style>\n",
       "<table border=\"1\" class=\"dataframe\">\n",
       "  <thead>\n",
       "    <tr style=\"text-align: right;\">\n",
       "      <th></th>\n",
       "      <th>A</th>\n",
       "      <th>B</th>\n",
       "      <th>C</th>\n",
       "      <th>D</th>\n",
       "    </tr>\n",
       "  </thead>\n",
       "  <tbody>\n",
       "    <tr>\n",
       "      <th>2013-01-01</th>\n",
       "      <td>0.383615</td>\n",
       "      <td>0.992160</td>\n",
       "      <td>0.140152</td>\n",
       "      <td>0.095695</td>\n",
       "    </tr>\n",
       "    <tr>\n",
       "      <th>2013-01-02</th>\n",
       "      <td>0.096747</td>\n",
       "      <td>-1.439182</td>\n",
       "      <td>-0.012292</td>\n",
       "      <td>0.650657</td>\n",
       "    </tr>\n",
       "    <tr>\n",
       "      <th>2013-01-03</th>\n",
       "      <td>0.756489</td>\n",
       "      <td>0.928985</td>\n",
       "      <td>0.594471</td>\n",
       "      <td>2.111443</td>\n",
       "    </tr>\n",
       "    <tr>\n",
       "      <th>2013-01-04</th>\n",
       "      <td>-0.252702</td>\n",
       "      <td>0.504302</td>\n",
       "      <td>1.500656</td>\n",
       "      <td>1.036571</td>\n",
       "    </tr>\n",
       "    <tr>\n",
       "      <th>2013-01-05</th>\n",
       "      <td>1.777794</td>\n",
       "      <td>-2.619767</td>\n",
       "      <td>0.620617</td>\n",
       "      <td>-0.931244</td>\n",
       "    </tr>\n",
       "    <tr>\n",
       "      <th>2013-01-06</th>\n",
       "      <td>1.173008</td>\n",
       "      <td>0.593133</td>\n",
       "      <td>0.076353</td>\n",
       "      <td>-0.532924</td>\n",
       "    </tr>\n",
       "  </tbody>\n",
       "</table>\n",
       "</div>"
      ],
      "text/plain": [
       "                   A         B         C         D\n",
       "2013-01-01  0.383615  0.992160  0.140152  0.095695\n",
       "2013-01-02  0.096747 -1.439182 -0.012292  0.650657\n",
       "2013-01-03  0.756489  0.928985  0.594471  2.111443\n",
       "2013-01-04 -0.252702  0.504302  1.500656  1.036571\n",
       "2013-01-05  1.777794 -2.619767  0.620617 -0.931244\n",
       "2013-01-06  1.173008  0.593133  0.076353 -0.532924"
      ]
     },
     "execution_count": 187,
     "metadata": {},
     "output_type": "execute_result"
    }
   ],
   "source": [
    "_lines = 6\n",
    "df = pd.DataFrame(np.random.randn(_lines,4)\n",
    "                  , index=pd.date_range('20130101'\n",
    "                                        , periods=_lines)\n",
    "                  , columns=list('ABCD')\n",
    "                 )\n",
    "df"
   ]
  },
  {
   "cell_type": "code",
   "execution_count": 188,
   "metadata": {},
   "outputs": [
    {
     "data": {
      "text/html": [
       "<div>\n",
       "<style>\n",
       "    .dataframe thead tr:only-child th {\n",
       "        text-align: right;\n",
       "    }\n",
       "\n",
       "    .dataframe thead th {\n",
       "        text-align: left;\n",
       "    }\n",
       "\n",
       "    .dataframe tbody tr th {\n",
       "        vertical-align: top;\n",
       "    }\n",
       "</style>\n",
       "<table border=\"1\" class=\"dataframe\">\n",
       "  <thead>\n",
       "    <tr style=\"text-align: right;\">\n",
       "      <th></th>\n",
       "      <th>A</th>\n",
       "      <th>B</th>\n",
       "      <th>C</th>\n",
       "      <th>D</th>\n",
       "      <th>E</th>\n",
       "    </tr>\n",
       "  </thead>\n",
       "  <tbody>\n",
       "    <tr>\n",
       "      <th>2013-01-01</th>\n",
       "      <td>0.383615</td>\n",
       "      <td>0.992160</td>\n",
       "      <td>0.140152</td>\n",
       "      <td>0.095695</td>\n",
       "      <td>1.0</td>\n",
       "    </tr>\n",
       "    <tr>\n",
       "      <th>2013-01-02</th>\n",
       "      <td>0.096747</td>\n",
       "      <td>-1.439182</td>\n",
       "      <td>-0.012292</td>\n",
       "      <td>0.650657</td>\n",
       "      <td>1.0</td>\n",
       "    </tr>\n",
       "    <tr>\n",
       "      <th>2013-01-03</th>\n",
       "      <td>0.756489</td>\n",
       "      <td>0.928985</td>\n",
       "      <td>0.594471</td>\n",
       "      <td>2.111443</td>\n",
       "      <td>NaN</td>\n",
       "    </tr>\n",
       "    <tr>\n",
       "      <th>2013-01-04</th>\n",
       "      <td>-0.252702</td>\n",
       "      <td>0.504302</td>\n",
       "      <td>1.500656</td>\n",
       "      <td>1.036571</td>\n",
       "      <td>NaN</td>\n",
       "    </tr>\n",
       "  </tbody>\n",
       "</table>\n",
       "</div>"
      ],
      "text/plain": [
       "                   A         B         C         D    E\n",
       "2013-01-01  0.383615  0.992160  0.140152  0.095695  1.0\n",
       "2013-01-02  0.096747 -1.439182 -0.012292  0.650657  1.0\n",
       "2013-01-03  0.756489  0.928985  0.594471  2.111443  NaN\n",
       "2013-01-04 -0.252702  0.504302  1.500656  1.036571  NaN"
      ]
     },
     "execution_count": 188,
     "metadata": {},
     "output_type": "execute_result"
    }
   ],
   "source": [
    "df1 = df.reindex(index=dates[0:4], columns=list(df.columns) + ['E'])\n",
    "df1.loc[dates[0]:dates[1],'E'] = 1\n",
    "df1"
   ]
  },
  {
   "cell_type": "code",
   "execution_count": 189,
   "metadata": {},
   "outputs": [
    {
     "data": {
      "text/html": [
       "<div>\n",
       "<style>\n",
       "    .dataframe thead tr:only-child th {\n",
       "        text-align: right;\n",
       "    }\n",
       "\n",
       "    .dataframe thead th {\n",
       "        text-align: left;\n",
       "    }\n",
       "\n",
       "    .dataframe tbody tr th {\n",
       "        vertical-align: top;\n",
       "    }\n",
       "</style>\n",
       "<table border=\"1\" class=\"dataframe\">\n",
       "  <thead>\n",
       "    <tr style=\"text-align: right;\">\n",
       "      <th></th>\n",
       "      <th>A</th>\n",
       "      <th>B</th>\n",
       "      <th>C</th>\n",
       "      <th>D</th>\n",
       "      <th>E</th>\n",
       "    </tr>\n",
       "  </thead>\n",
       "  <tbody>\n",
       "    <tr>\n",
       "      <th>2013-01-01</th>\n",
       "      <td>0.383615</td>\n",
       "      <td>0.992160</td>\n",
       "      <td>0.140152</td>\n",
       "      <td>0.095695</td>\n",
       "      <td>1.0</td>\n",
       "    </tr>\n",
       "    <tr>\n",
       "      <th>2013-01-02</th>\n",
       "      <td>0.096747</td>\n",
       "      <td>-1.439182</td>\n",
       "      <td>-0.012292</td>\n",
       "      <td>0.650657</td>\n",
       "      <td>1.0</td>\n",
       "    </tr>\n",
       "  </tbody>\n",
       "</table>\n",
       "</div>"
      ],
      "text/plain": [
       "                   A         B         C         D    E\n",
       "2013-01-01  0.383615  0.992160  0.140152  0.095695  1.0\n",
       "2013-01-02  0.096747 -1.439182 -0.012292  0.650657  1.0"
      ]
     },
     "execution_count": 189,
     "metadata": {},
     "output_type": "execute_result"
    }
   ],
   "source": [
    "df1.dropna(how='any')"
   ]
  },
  {
   "cell_type": "code",
   "execution_count": 190,
   "metadata": {},
   "outputs": [
    {
     "data": {
      "text/html": [
       "<div>\n",
       "<style>\n",
       "    .dataframe thead tr:only-child th {\n",
       "        text-align: right;\n",
       "    }\n",
       "\n",
       "    .dataframe thead th {\n",
       "        text-align: left;\n",
       "    }\n",
       "\n",
       "    .dataframe tbody tr th {\n",
       "        vertical-align: top;\n",
       "    }\n",
       "</style>\n",
       "<table border=\"1\" class=\"dataframe\">\n",
       "  <thead>\n",
       "    <tr style=\"text-align: right;\">\n",
       "      <th></th>\n",
       "      <th>A</th>\n",
       "      <th>B</th>\n",
       "      <th>C</th>\n",
       "      <th>D</th>\n",
       "      <th>E</th>\n",
       "    </tr>\n",
       "  </thead>\n",
       "  <tbody>\n",
       "    <tr>\n",
       "      <th>2013-01-01</th>\n",
       "      <td>0.383615</td>\n",
       "      <td>0.992160</td>\n",
       "      <td>0.140152</td>\n",
       "      <td>0.095695</td>\n",
       "      <td>1.0</td>\n",
       "    </tr>\n",
       "    <tr>\n",
       "      <th>2013-01-02</th>\n",
       "      <td>0.096747</td>\n",
       "      <td>-1.439182</td>\n",
       "      <td>-0.012292</td>\n",
       "      <td>0.650657</td>\n",
       "      <td>1.0</td>\n",
       "    </tr>\n",
       "    <tr>\n",
       "      <th>2013-01-03</th>\n",
       "      <td>0.756489</td>\n",
       "      <td>0.928985</td>\n",
       "      <td>0.594471</td>\n",
       "      <td>2.111443</td>\n",
       "      <td>5.0</td>\n",
       "    </tr>\n",
       "    <tr>\n",
       "      <th>2013-01-04</th>\n",
       "      <td>-0.252702</td>\n",
       "      <td>0.504302</td>\n",
       "      <td>1.500656</td>\n",
       "      <td>1.036571</td>\n",
       "      <td>5.0</td>\n",
       "    </tr>\n",
       "  </tbody>\n",
       "</table>\n",
       "</div>"
      ],
      "text/plain": [
       "                   A         B         C         D    E\n",
       "2013-01-01  0.383615  0.992160  0.140152  0.095695  1.0\n",
       "2013-01-02  0.096747 -1.439182 -0.012292  0.650657  1.0\n",
       "2013-01-03  0.756489  0.928985  0.594471  2.111443  5.0\n",
       "2013-01-04 -0.252702  0.504302  1.500656  1.036571  5.0"
      ]
     },
     "execution_count": 190,
     "metadata": {},
     "output_type": "execute_result"
    }
   ],
   "source": [
    "df1.fillna(value=5)"
   ]
  },
  {
   "cell_type": "code",
   "execution_count": 194,
   "metadata": {},
   "outputs": [
    {
     "name": "stdout",
     "output_type": "stream",
     "text": [
      "<class 'pandas.core.frame.DataFrame'>\n",
      "DatetimeIndex: 4 entries, 2013-01-01 to 2013-01-04\n",
      "Freq: D\n",
      "Data columns (total 5 columns):\n",
      "A    4 non-null float64\n",
      "B    4 non-null float64\n",
      "C    4 non-null float64\n",
      "D    4 non-null float64\n",
      "E    2 non-null float64\n",
      "dtypes: float64(5)\n",
      "memory usage: 352.0 bytes\n"
     ]
    }
   ],
   "source": [
    "df1.info()\n"
   ]
  },
  {
   "cell_type": "code",
   "execution_count": 195,
   "metadata": {},
   "outputs": [
    {
     "ename": "AttributeError",
     "evalue": "module 'pandas' has no attribute 'isna'",
     "output_type": "error",
     "traceback": [
      "\u001b[0;31m---------------------------------------------------------------------------\u001b[0m",
      "\u001b[0;31mAttributeError\u001b[0m                            Traceback (most recent call last)",
      "\u001b[0;32m<ipython-input-195-a6e94be0a61e>\u001b[0m in \u001b[0;36m<module>\u001b[0;34m()\u001b[0m\n\u001b[0;32m----> 1\u001b[0;31m \u001b[0mpd\u001b[0m\u001b[0;34m.\u001b[0m\u001b[0misna\u001b[0m\u001b[0;34m(\u001b[0m\u001b[0mdf1\u001b[0m\u001b[0;34m)\u001b[0m\u001b[0;34m\u001b[0m\u001b[0m\n\u001b[0m",
      "\u001b[0;31mAttributeError\u001b[0m: module 'pandas' has no attribute 'isna'"
     ]
    }
   ],
   "source": [
    "pd.isna(df1)"
   ]
  },
  {
   "cell_type": "markdown",
   "metadata": {},
   "source": [
    "## Operations\n",
    "### 状态"
   ]
  },
  {
   "cell_type": "code",
   "execution_count": 196,
   "metadata": {},
   "outputs": [
    {
     "data": {
      "text/plain": [
       "A    0.655825\n",
       "B   -0.173395\n",
       "C    0.486660\n",
       "D    0.405033\n",
       "dtype: float64"
      ]
     },
     "execution_count": 196,
     "metadata": {},
     "output_type": "execute_result"
    }
   ],
   "source": [
    "df.mean()"
   ]
  },
  {
   "cell_type": "code",
   "execution_count": 198,
   "metadata": {},
   "outputs": [
    {
     "data": {
      "text/plain": [
       "A    0.655825\n",
       "B   -0.173395\n",
       "C    0.486660\n",
       "D    0.405033\n",
       "dtype: float64"
      ]
     },
     "execution_count": 198,
     "metadata": {},
     "output_type": "execute_result"
    }
   ],
   "source": [
    "df.mean(0)"
   ]
  },
  {
   "cell_type": "code",
   "execution_count": 204,
   "metadata": {},
   "outputs": [
    {
     "data": {
      "text/plain": [
       "2013-01-01    NaN\n",
       "2013-01-02    NaN\n",
       "2013-01-03    1.0\n",
       "2013-01-04    3.0\n",
       "2013-01-05    5.0\n",
       "2013-01-06    NaN\n",
       "Freq: D, dtype: float64"
      ]
     },
     "execution_count": 204,
     "metadata": {},
     "output_type": "execute_result"
    }
   ],
   "source": [
    "s = pd.Series([1,3,5,np.nan,6,8], index=dates).shift(2)\n",
    "s"
   ]
  },
  {
   "cell_type": "code",
   "execution_count": 205,
   "metadata": {},
   "outputs": [
    {
     "name": "stdout",
     "output_type": "stream",
     "text": [
      "Help on method shift in module pandas.core.series:\n",
      "\n",
      "shift(periods=1, freq=None, axis=0) method of pandas.core.series.Series instance\n",
      "    Shift index by desired number of periods with an optional time freq\n",
      "    \n",
      "    Parameters\n",
      "    ----------\n",
      "    periods : int\n",
      "        Number of periods to move, can be positive or negative\n",
      "    freq : DateOffset, timedelta, or time rule string, optional\n",
      "        Increment to use from the tseries module or time rule (e.g. 'EOM').\n",
      "        See Notes.\n",
      "    axis : {0, 'index'}\n",
      "    \n",
      "    Notes\n",
      "    -----\n",
      "    If freq is specified then the index values are shifted but the data\n",
      "    is not realigned. That is, use freq if you would like to extend the\n",
      "    index when shifting and preserve the original data.\n",
      "    \n",
      "    Returns\n",
      "    -------\n",
      "    shifted : Series\n",
      "\n"
     ]
    }
   ],
   "source": [
    "help(pd.Series([1,3,5,np.nan,6,8], index=dates).shift)"
   ]
  },
  {
   "cell_type": "code",
   "execution_count": 206,
   "metadata": {},
   "outputs": [
    {
     "data": {
      "text/html": [
       "<div>\n",
       "<style>\n",
       "    .dataframe thead tr:only-child th {\n",
       "        text-align: right;\n",
       "    }\n",
       "\n",
       "    .dataframe thead th {\n",
       "        text-align: left;\n",
       "    }\n",
       "\n",
       "    .dataframe tbody tr th {\n",
       "        vertical-align: top;\n",
       "    }\n",
       "</style>\n",
       "<table border=\"1\" class=\"dataframe\">\n",
       "  <thead>\n",
       "    <tr style=\"text-align: right;\">\n",
       "      <th></th>\n",
       "      <th>A</th>\n",
       "      <th>B</th>\n",
       "      <th>C</th>\n",
       "      <th>D</th>\n",
       "    </tr>\n",
       "  </thead>\n",
       "  <tbody>\n",
       "    <tr>\n",
       "      <th>2013-01-01</th>\n",
       "      <td>NaN</td>\n",
       "      <td>NaN</td>\n",
       "      <td>NaN</td>\n",
       "      <td>NaN</td>\n",
       "    </tr>\n",
       "    <tr>\n",
       "      <th>2013-01-02</th>\n",
       "      <td>NaN</td>\n",
       "      <td>NaN</td>\n",
       "      <td>NaN</td>\n",
       "      <td>NaN</td>\n",
       "    </tr>\n",
       "    <tr>\n",
       "      <th>2013-01-03</th>\n",
       "      <td>-0.243511</td>\n",
       "      <td>-0.071015</td>\n",
       "      <td>-0.405529</td>\n",
       "      <td>1.111443</td>\n",
       "    </tr>\n",
       "    <tr>\n",
       "      <th>2013-01-04</th>\n",
       "      <td>-3.252702</td>\n",
       "      <td>-2.495698</td>\n",
       "      <td>-1.499344</td>\n",
       "      <td>-1.963429</td>\n",
       "    </tr>\n",
       "    <tr>\n",
       "      <th>2013-01-05</th>\n",
       "      <td>-3.222206</td>\n",
       "      <td>-7.619767</td>\n",
       "      <td>-4.379383</td>\n",
       "      <td>-5.931244</td>\n",
       "    </tr>\n",
       "    <tr>\n",
       "      <th>2013-01-06</th>\n",
       "      <td>NaN</td>\n",
       "      <td>NaN</td>\n",
       "      <td>NaN</td>\n",
       "      <td>NaN</td>\n",
       "    </tr>\n",
       "  </tbody>\n",
       "</table>\n",
       "</div>"
      ],
      "text/plain": [
       "                   A         B         C         D\n",
       "2013-01-01       NaN       NaN       NaN       NaN\n",
       "2013-01-02       NaN       NaN       NaN       NaN\n",
       "2013-01-03 -0.243511 -0.071015 -0.405529  1.111443\n",
       "2013-01-04 -3.252702 -2.495698 -1.499344 -1.963429\n",
       "2013-01-05 -3.222206 -7.619767 -4.379383 -5.931244\n",
       "2013-01-06       NaN       NaN       NaN       NaN"
      ]
     },
     "execution_count": 206,
     "metadata": {},
     "output_type": "execute_result"
    }
   ],
   "source": [
    "df.sub(s, axis='index')"
   ]
  },
  {
   "cell_type": "code",
   "execution_count": 207,
   "metadata": {},
   "outputs": [
    {
     "data": {
      "text/html": [
       "<div>\n",
       "<style>\n",
       "    .dataframe thead tr:only-child th {\n",
       "        text-align: right;\n",
       "    }\n",
       "\n",
       "    .dataframe thead th {\n",
       "        text-align: left;\n",
       "    }\n",
       "\n",
       "    .dataframe tbody tr th {\n",
       "        vertical-align: top;\n",
       "    }\n",
       "</style>\n",
       "<table border=\"1\" class=\"dataframe\">\n",
       "  <thead>\n",
       "    <tr style=\"text-align: right;\">\n",
       "      <th></th>\n",
       "      <th>A</th>\n",
       "      <th>B</th>\n",
       "      <th>C</th>\n",
       "      <th>D</th>\n",
       "    </tr>\n",
       "  </thead>\n",
       "  <tbody>\n",
       "    <tr>\n",
       "      <th>2013-01-01</th>\n",
       "      <td>0.383615</td>\n",
       "      <td>0.992160</td>\n",
       "      <td>0.140152</td>\n",
       "      <td>0.095695</td>\n",
       "    </tr>\n",
       "    <tr>\n",
       "      <th>2013-01-02</th>\n",
       "      <td>0.096747</td>\n",
       "      <td>-1.439182</td>\n",
       "      <td>-0.012292</td>\n",
       "      <td>0.650657</td>\n",
       "    </tr>\n",
       "    <tr>\n",
       "      <th>2013-01-03</th>\n",
       "      <td>0.756489</td>\n",
       "      <td>0.928985</td>\n",
       "      <td>0.594471</td>\n",
       "      <td>2.111443</td>\n",
       "    </tr>\n",
       "    <tr>\n",
       "      <th>2013-01-04</th>\n",
       "      <td>-0.252702</td>\n",
       "      <td>0.504302</td>\n",
       "      <td>1.500656</td>\n",
       "      <td>1.036571</td>\n",
       "    </tr>\n",
       "    <tr>\n",
       "      <th>2013-01-05</th>\n",
       "      <td>1.777794</td>\n",
       "      <td>-2.619767</td>\n",
       "      <td>0.620617</td>\n",
       "      <td>-0.931244</td>\n",
       "    </tr>\n",
       "    <tr>\n",
       "      <th>2013-01-06</th>\n",
       "      <td>1.173008</td>\n",
       "      <td>0.593133</td>\n",
       "      <td>0.076353</td>\n",
       "      <td>-0.532924</td>\n",
       "    </tr>\n",
       "  </tbody>\n",
       "</table>\n",
       "</div>"
      ],
      "text/plain": [
       "                   A         B         C         D\n",
       "2013-01-01  0.383615  0.992160  0.140152  0.095695\n",
       "2013-01-02  0.096747 -1.439182 -0.012292  0.650657\n",
       "2013-01-03  0.756489  0.928985  0.594471  2.111443\n",
       "2013-01-04 -0.252702  0.504302  1.500656  1.036571\n",
       "2013-01-05  1.777794 -2.619767  0.620617 -0.931244\n",
       "2013-01-06  1.173008  0.593133  0.076353 -0.532924"
      ]
     },
     "execution_count": 207,
     "metadata": {},
     "output_type": "execute_result"
    }
   ],
   "source": [
    "df"
   ]
  },
  {
   "cell_type": "code",
   "execution_count": 208,
   "metadata": {},
   "outputs": [],
   "source": [
    "### 应用"
   ]
  },
  {
   "cell_type": "code",
   "execution_count": 209,
   "metadata": {},
   "outputs": [
    {
     "data": {
      "text/html": [
       "<div>\n",
       "<style>\n",
       "    .dataframe thead tr:only-child th {\n",
       "        text-align: right;\n",
       "    }\n",
       "\n",
       "    .dataframe thead th {\n",
       "        text-align: left;\n",
       "    }\n",
       "\n",
       "    .dataframe tbody tr th {\n",
       "        vertical-align: top;\n",
       "    }\n",
       "</style>\n",
       "<table border=\"1\" class=\"dataframe\">\n",
       "  <thead>\n",
       "    <tr style=\"text-align: right;\">\n",
       "      <th></th>\n",
       "      <th>A</th>\n",
       "      <th>B</th>\n",
       "      <th>C</th>\n",
       "      <th>D</th>\n",
       "    </tr>\n",
       "  </thead>\n",
       "  <tbody>\n",
       "    <tr>\n",
       "      <th>2013-01-01</th>\n",
       "      <td>0.383615</td>\n",
       "      <td>0.992160</td>\n",
       "      <td>0.140152</td>\n",
       "      <td>0.095695</td>\n",
       "    </tr>\n",
       "    <tr>\n",
       "      <th>2013-01-02</th>\n",
       "      <td>0.480361</td>\n",
       "      <td>-0.447022</td>\n",
       "      <td>0.127861</td>\n",
       "      <td>0.746352</td>\n",
       "    </tr>\n",
       "    <tr>\n",
       "      <th>2013-01-03</th>\n",
       "      <td>1.236851</td>\n",
       "      <td>0.481962</td>\n",
       "      <td>0.722332</td>\n",
       "      <td>2.857796</td>\n",
       "    </tr>\n",
       "    <tr>\n",
       "      <th>2013-01-04</th>\n",
       "      <td>0.984149</td>\n",
       "      <td>0.986264</td>\n",
       "      <td>2.222988</td>\n",
       "      <td>3.894366</td>\n",
       "    </tr>\n",
       "    <tr>\n",
       "      <th>2013-01-05</th>\n",
       "      <td>2.761943</td>\n",
       "      <td>-1.633503</td>\n",
       "      <td>2.843605</td>\n",
       "      <td>2.963122</td>\n",
       "    </tr>\n",
       "    <tr>\n",
       "      <th>2013-01-06</th>\n",
       "      <td>3.934952</td>\n",
       "      <td>-1.040370</td>\n",
       "      <td>2.919958</td>\n",
       "      <td>2.430198</td>\n",
       "    </tr>\n",
       "  </tbody>\n",
       "</table>\n",
       "</div>"
      ],
      "text/plain": [
       "                   A         B         C         D\n",
       "2013-01-01  0.383615  0.992160  0.140152  0.095695\n",
       "2013-01-02  0.480361 -0.447022  0.127861  0.746352\n",
       "2013-01-03  1.236851  0.481962  0.722332  2.857796\n",
       "2013-01-04  0.984149  0.986264  2.222988  3.894366\n",
       "2013-01-05  2.761943 -1.633503  2.843605  2.963122\n",
       "2013-01-06  3.934952 -1.040370  2.919958  2.430198"
      ]
     },
     "execution_count": 209,
     "metadata": {},
     "output_type": "execute_result"
    }
   ],
   "source": [
    "df.apply(np.cumsum)"
   ]
  },
  {
   "cell_type": "code",
   "execution_count": 210,
   "metadata": {},
   "outputs": [
    {
     "data": {
      "text/html": [
       "<div>\n",
       "<style>\n",
       "    .dataframe thead tr:only-child th {\n",
       "        text-align: right;\n",
       "    }\n",
       "\n",
       "    .dataframe thead th {\n",
       "        text-align: left;\n",
       "    }\n",
       "\n",
       "    .dataframe tbody tr th {\n",
       "        vertical-align: top;\n",
       "    }\n",
       "</style>\n",
       "<table border=\"1\" class=\"dataframe\">\n",
       "  <thead>\n",
       "    <tr style=\"text-align: right;\">\n",
       "      <th></th>\n",
       "      <th>A</th>\n",
       "      <th>B</th>\n",
       "      <th>C</th>\n",
       "      <th>D</th>\n",
       "    </tr>\n",
       "  </thead>\n",
       "  <tbody>\n",
       "    <tr>\n",
       "      <th>2013-01-01</th>\n",
       "      <td>0.383615</td>\n",
       "      <td>0.992160</td>\n",
       "      <td>0.140152</td>\n",
       "      <td>0.095695</td>\n",
       "    </tr>\n",
       "    <tr>\n",
       "      <th>2013-01-02</th>\n",
       "      <td>0.096747</td>\n",
       "      <td>-1.439182</td>\n",
       "      <td>-0.012292</td>\n",
       "      <td>0.650657</td>\n",
       "    </tr>\n",
       "    <tr>\n",
       "      <th>2013-01-03</th>\n",
       "      <td>0.756489</td>\n",
       "      <td>0.928985</td>\n",
       "      <td>0.594471</td>\n",
       "      <td>2.111443</td>\n",
       "    </tr>\n",
       "    <tr>\n",
       "      <th>2013-01-04</th>\n",
       "      <td>-0.252702</td>\n",
       "      <td>0.504302</td>\n",
       "      <td>1.500656</td>\n",
       "      <td>1.036571</td>\n",
       "    </tr>\n",
       "    <tr>\n",
       "      <th>2013-01-05</th>\n",
       "      <td>1.777794</td>\n",
       "      <td>-2.619767</td>\n",
       "      <td>0.620617</td>\n",
       "      <td>-0.931244</td>\n",
       "    </tr>\n",
       "    <tr>\n",
       "      <th>2013-01-06</th>\n",
       "      <td>1.173008</td>\n",
       "      <td>0.593133</td>\n",
       "      <td>0.076353</td>\n",
       "      <td>-0.532924</td>\n",
       "    </tr>\n",
       "  </tbody>\n",
       "</table>\n",
       "</div>"
      ],
      "text/plain": [
       "                   A         B         C         D\n",
       "2013-01-01  0.383615  0.992160  0.140152  0.095695\n",
       "2013-01-02  0.096747 -1.439182 -0.012292  0.650657\n",
       "2013-01-03  0.756489  0.928985  0.594471  2.111443\n",
       "2013-01-04 -0.252702  0.504302  1.500656  1.036571\n",
       "2013-01-05  1.777794 -2.619767  0.620617 -0.931244\n",
       "2013-01-06  1.173008  0.593133  0.076353 -0.532924"
      ]
     },
     "execution_count": 210,
     "metadata": {},
     "output_type": "execute_result"
    }
   ],
   "source": [
    "df"
   ]
  },
  {
   "cell_type": "code",
   "execution_count": 211,
   "metadata": {},
   "outputs": [
    {
     "data": {
      "text/plain": [
       "A    2.030496\n",
       "B    3.611927\n",
       "C    1.512948\n",
       "D    3.042687\n",
       "dtype: float64"
      ]
     },
     "execution_count": 211,
     "metadata": {},
     "output_type": "execute_result"
    }
   ],
   "source": [
    "df.apply(lambda x: x.max() - x.min())"
   ]
  },
  {
   "cell_type": "code",
   "execution_count": 215,
   "metadata": {},
   "outputs": [
    {
     "data": {
      "text/plain": [
       "2013-01-01     0.384\n",
       "2013-01-02     0.097\n",
       "2013-01-03     0.756\n",
       "2013-01-04    -0.253\n",
       "2013-01-05     1.778\n",
       "2013-01-06     1.173\n",
       "Freq: D, Name: A, dtype: object"
      ]
     },
     "execution_count": 215,
     "metadata": {},
     "output_type": "execute_result"
    }
   ],
   "source": [
    "df.A.apply(lambda x: '%.3f'% x)"
   ]
  },
  {
   "cell_type": "markdown",
   "metadata": {},
   "source": [
    "### Histogramming"
   ]
  },
  {
   "cell_type": "code",
   "execution_count": 216,
   "metadata": {},
   "outputs": [
    {
     "data": {
      "text/plain": [
       "0    0\n",
       "1    5\n",
       "2    0\n",
       "3    4\n",
       "4    4\n",
       "5    2\n",
       "6    6\n",
       "7    3\n",
       "8    3\n",
       "9    4\n",
       "dtype: int64"
      ]
     },
     "execution_count": 216,
     "metadata": {},
     "output_type": "execute_result"
    }
   ],
   "source": [
    "s = pd.Series(np.random.randint(0, 7, size=10))\n",
    "s"
   ]
  },
  {
   "cell_type": "code",
   "execution_count": 217,
   "metadata": {},
   "outputs": [
    {
     "data": {
      "text/plain": [
       "4    3\n",
       "3    2\n",
       "0    2\n",
       "6    1\n",
       "5    1\n",
       "2    1\n",
       "dtype: int64"
      ]
     },
     "execution_count": 217,
     "metadata": {},
     "output_type": "execute_result"
    }
   ],
   "source": [
    "s.value_counts()"
   ]
  },
  {
   "cell_type": "markdown",
   "metadata": {},
   "source": [
    "### 字串方法"
   ]
  },
  {
   "cell_type": "code",
   "execution_count": 218,
   "metadata": {},
   "outputs": [
    {
     "data": {
      "text/plain": [
       "0       A\n",
       "1       B\n",
       "2       C\n",
       "3    Aaba\n",
       "4    Baca\n",
       "5     NaN\n",
       "6    CABA\n",
       "7     dog\n",
       "8     cat\n",
       "dtype: object"
      ]
     },
     "execution_count": 218,
     "metadata": {},
     "output_type": "execute_result"
    }
   ],
   "source": [
    "s = pd.Series(['A', 'B', 'C', 'Aaba', 'Baca', np.nan, 'CABA', 'dog', 'cat'])\n",
    "s"
   ]
  },
  {
   "cell_type": "code",
   "execution_count": 219,
   "metadata": {},
   "outputs": [
    {
     "data": {
      "text/plain": [
       "0       a\n",
       "1       b\n",
       "2       c\n",
       "3    aaba\n",
       "4    baca\n",
       "5     NaN\n",
       "6    caba\n",
       "7     dog\n",
       "8     cat\n",
       "dtype: object"
      ]
     },
     "execution_count": 219,
     "metadata": {},
     "output_type": "execute_result"
    }
   ],
   "source": [
    "s.str.lower()"
   ]
  },
  {
   "cell_type": "code",
   "execution_count": 221,
   "metadata": {},
   "outputs": [
    {
     "data": {
      "text/plain": [
       "86"
      ]
     },
     "execution_count": 221,
     "metadata": {},
     "output_type": "execute_result"
    }
   ],
   "source": [
    "len(dir(s.str))"
   ]
  },
  {
   "cell_type": "markdown",
   "metadata": {},
   "source": [
    "### 合并\n",
    "#### 内容?"
   ]
  },
  {
   "cell_type": "code",
   "execution_count": 222,
   "metadata": {},
   "outputs": [
    {
     "data": {
      "text/html": [
       "<div>\n",
       "<style>\n",
       "    .dataframe thead tr:only-child th {\n",
       "        text-align: right;\n",
       "    }\n",
       "\n",
       "    .dataframe thead th {\n",
       "        text-align: left;\n",
       "    }\n",
       "\n",
       "    .dataframe tbody tr th {\n",
       "        vertical-align: top;\n",
       "    }\n",
       "</style>\n",
       "<table border=\"1\" class=\"dataframe\">\n",
       "  <thead>\n",
       "    <tr style=\"text-align: right;\">\n",
       "      <th></th>\n",
       "      <th>0</th>\n",
       "      <th>1</th>\n",
       "      <th>2</th>\n",
       "      <th>3</th>\n",
       "    </tr>\n",
       "  </thead>\n",
       "  <tbody>\n",
       "    <tr>\n",
       "      <th>0</th>\n",
       "      <td>-1.387380</td>\n",
       "      <td>-1.516855</td>\n",
       "      <td>-0.887857</td>\n",
       "      <td>2.090650</td>\n",
       "    </tr>\n",
       "    <tr>\n",
       "      <th>1</th>\n",
       "      <td>1.083541</td>\n",
       "      <td>0.452381</td>\n",
       "      <td>0.587926</td>\n",
       "      <td>1.299482</td>\n",
       "    </tr>\n",
       "    <tr>\n",
       "      <th>2</th>\n",
       "      <td>-0.583349</td>\n",
       "      <td>0.643526</td>\n",
       "      <td>-0.804890</td>\n",
       "      <td>1.006887</td>\n",
       "    </tr>\n",
       "    <tr>\n",
       "      <th>3</th>\n",
       "      <td>1.241597</td>\n",
       "      <td>-1.267885</td>\n",
       "      <td>0.588110</td>\n",
       "      <td>-0.738862</td>\n",
       "    </tr>\n",
       "    <tr>\n",
       "      <th>4</th>\n",
       "      <td>-1.614764</td>\n",
       "      <td>-0.509393</td>\n",
       "      <td>0.415184</td>\n",
       "      <td>-0.566187</td>\n",
       "    </tr>\n",
       "    <tr>\n",
       "      <th>5</th>\n",
       "      <td>-0.690416</td>\n",
       "      <td>0.375007</td>\n",
       "      <td>1.977332</td>\n",
       "      <td>0.409070</td>\n",
       "    </tr>\n",
       "    <tr>\n",
       "      <th>6</th>\n",
       "      <td>1.177187</td>\n",
       "      <td>-0.506812</td>\n",
       "      <td>1.580440</td>\n",
       "      <td>2.038233</td>\n",
       "    </tr>\n",
       "    <tr>\n",
       "      <th>7</th>\n",
       "      <td>-0.364814</td>\n",
       "      <td>-0.529932</td>\n",
       "      <td>-0.901207</td>\n",
       "      <td>0.377846</td>\n",
       "    </tr>\n",
       "    <tr>\n",
       "      <th>8</th>\n",
       "      <td>-0.162166</td>\n",
       "      <td>0.559632</td>\n",
       "      <td>-2.007471</td>\n",
       "      <td>-0.755310</td>\n",
       "    </tr>\n",
       "    <tr>\n",
       "      <th>9</th>\n",
       "      <td>-0.214948</td>\n",
       "      <td>-1.029192</td>\n",
       "      <td>0.715028</td>\n",
       "      <td>0.669154</td>\n",
       "    </tr>\n",
       "  </tbody>\n",
       "</table>\n",
       "</div>"
      ],
      "text/plain": [
       "          0         1         2         3\n",
       "0 -1.387380 -1.516855 -0.887857  2.090650\n",
       "1  1.083541  0.452381  0.587926  1.299482\n",
       "2 -0.583349  0.643526 -0.804890  1.006887\n",
       "3  1.241597 -1.267885  0.588110 -0.738862\n",
       "4 -1.614764 -0.509393  0.415184 -0.566187\n",
       "5 -0.690416  0.375007  1.977332  0.409070\n",
       "6  1.177187 -0.506812  1.580440  2.038233\n",
       "7 -0.364814 -0.529932 -0.901207  0.377846\n",
       "8 -0.162166  0.559632 -2.007471 -0.755310\n",
       "9 -0.214948 -1.029192  0.715028  0.669154"
      ]
     },
     "execution_count": 222,
     "metadata": {},
     "output_type": "execute_result"
    }
   ],
   "source": [
    "df = pd.DataFrame(np.random.randn(10, 4))\n",
    "df"
   ]
  },
  {
   "cell_type": "code",
   "execution_count": 226,
   "metadata": {},
   "outputs": [
    {
     "data": {
      "text/plain": [
       "[          0         1         2         3\n",
       " 0 -1.387380 -1.516855 -0.887857  2.090650\n",
       " 1  1.083541  0.452381  0.587926  1.299482\n",
       " 2 -0.583349  0.643526 -0.804890  1.006887\n",
       " 3  1.241597 -1.267885  0.588110 -0.738862,\n",
       "           0         1         2         3\n",
       " 3  1.241597 -1.267885  0.588110 -0.738862\n",
       " 4 -1.614764 -0.509393  0.415184 -0.566187\n",
       " 5 -0.690416  0.375007  1.977332  0.409070\n",
       " 6  1.177187 -0.506812  1.580440  2.038233\n",
       " 7 -0.364814 -0.529932 -0.901207  0.377846\n",
       " 8 -0.162166  0.559632 -2.007471 -0.755310\n",
       " 9 -0.214948 -1.029192  0.715028  0.669154,\n",
       "           0         1         2         3\n",
       " 8 -0.162166  0.559632 -2.007471 -0.755310\n",
       " 9 -0.214948 -1.029192  0.715028  0.669154]"
      ]
     },
     "execution_count": 226,
     "metadata": {},
     "output_type": "execute_result"
    }
   ],
   "source": [
    "pieces = [df[:4], df[3:], df[-2:]]\n",
    "pieces"
   ]
  },
  {
   "cell_type": "code",
   "execution_count": 227,
   "metadata": {},
   "outputs": [
    {
     "data": {
      "text/html": [
       "<div>\n",
       "<style>\n",
       "    .dataframe thead tr:only-child th {\n",
       "        text-align: right;\n",
       "    }\n",
       "\n",
       "    .dataframe thead th {\n",
       "        text-align: left;\n",
       "    }\n",
       "\n",
       "    .dataframe tbody tr th {\n",
       "        vertical-align: top;\n",
       "    }\n",
       "</style>\n",
       "<table border=\"1\" class=\"dataframe\">\n",
       "  <thead>\n",
       "    <tr style=\"text-align: right;\">\n",
       "      <th></th>\n",
       "      <th>0</th>\n",
       "      <th>1</th>\n",
       "      <th>2</th>\n",
       "      <th>3</th>\n",
       "    </tr>\n",
       "  </thead>\n",
       "  <tbody>\n",
       "    <tr>\n",
       "      <th>0</th>\n",
       "      <td>-1.387380</td>\n",
       "      <td>-1.516855</td>\n",
       "      <td>-0.887857</td>\n",
       "      <td>2.090650</td>\n",
       "    </tr>\n",
       "    <tr>\n",
       "      <th>1</th>\n",
       "      <td>1.083541</td>\n",
       "      <td>0.452381</td>\n",
       "      <td>0.587926</td>\n",
       "      <td>1.299482</td>\n",
       "    </tr>\n",
       "    <tr>\n",
       "      <th>2</th>\n",
       "      <td>-0.583349</td>\n",
       "      <td>0.643526</td>\n",
       "      <td>-0.804890</td>\n",
       "      <td>1.006887</td>\n",
       "    </tr>\n",
       "    <tr>\n",
       "      <th>3</th>\n",
       "      <td>1.241597</td>\n",
       "      <td>-1.267885</td>\n",
       "      <td>0.588110</td>\n",
       "      <td>-0.738862</td>\n",
       "    </tr>\n",
       "    <tr>\n",
       "      <th>3</th>\n",
       "      <td>1.241597</td>\n",
       "      <td>-1.267885</td>\n",
       "      <td>0.588110</td>\n",
       "      <td>-0.738862</td>\n",
       "    </tr>\n",
       "    <tr>\n",
       "      <th>4</th>\n",
       "      <td>-1.614764</td>\n",
       "      <td>-0.509393</td>\n",
       "      <td>0.415184</td>\n",
       "      <td>-0.566187</td>\n",
       "    </tr>\n",
       "    <tr>\n",
       "      <th>5</th>\n",
       "      <td>-0.690416</td>\n",
       "      <td>0.375007</td>\n",
       "      <td>1.977332</td>\n",
       "      <td>0.409070</td>\n",
       "    </tr>\n",
       "    <tr>\n",
       "      <th>6</th>\n",
       "      <td>1.177187</td>\n",
       "      <td>-0.506812</td>\n",
       "      <td>1.580440</td>\n",
       "      <td>2.038233</td>\n",
       "    </tr>\n",
       "    <tr>\n",
       "      <th>7</th>\n",
       "      <td>-0.364814</td>\n",
       "      <td>-0.529932</td>\n",
       "      <td>-0.901207</td>\n",
       "      <td>0.377846</td>\n",
       "    </tr>\n",
       "    <tr>\n",
       "      <th>8</th>\n",
       "      <td>-0.162166</td>\n",
       "      <td>0.559632</td>\n",
       "      <td>-2.007471</td>\n",
       "      <td>-0.755310</td>\n",
       "    </tr>\n",
       "    <tr>\n",
       "      <th>9</th>\n",
       "      <td>-0.214948</td>\n",
       "      <td>-1.029192</td>\n",
       "      <td>0.715028</td>\n",
       "      <td>0.669154</td>\n",
       "    </tr>\n",
       "    <tr>\n",
       "      <th>8</th>\n",
       "      <td>-0.162166</td>\n",
       "      <td>0.559632</td>\n",
       "      <td>-2.007471</td>\n",
       "      <td>-0.755310</td>\n",
       "    </tr>\n",
       "    <tr>\n",
       "      <th>9</th>\n",
       "      <td>-0.214948</td>\n",
       "      <td>-1.029192</td>\n",
       "      <td>0.715028</td>\n",
       "      <td>0.669154</td>\n",
       "    </tr>\n",
       "  </tbody>\n",
       "</table>\n",
       "</div>"
      ],
      "text/plain": [
       "          0         1         2         3\n",
       "0 -1.387380 -1.516855 -0.887857  2.090650\n",
       "1  1.083541  0.452381  0.587926  1.299482\n",
       "2 -0.583349  0.643526 -0.804890  1.006887\n",
       "3  1.241597 -1.267885  0.588110 -0.738862\n",
       "3  1.241597 -1.267885  0.588110 -0.738862\n",
       "4 -1.614764 -0.509393  0.415184 -0.566187\n",
       "5 -0.690416  0.375007  1.977332  0.409070\n",
       "6  1.177187 -0.506812  1.580440  2.038233\n",
       "7 -0.364814 -0.529932 -0.901207  0.377846\n",
       "8 -0.162166  0.559632 -2.007471 -0.755310\n",
       "9 -0.214948 -1.029192  0.715028  0.669154\n",
       "8 -0.162166  0.559632 -2.007471 -0.755310\n",
       "9 -0.214948 -1.029192  0.715028  0.669154"
      ]
     },
     "execution_count": 227,
     "metadata": {},
     "output_type": "execute_result"
    }
   ],
   "source": [
    "pd.concat(pieces)"
   ]
  },
  {
   "cell_type": "markdown",
   "metadata": {},
   "source": [
    "### 追加"
   ]
  },
  {
   "cell_type": "code",
   "execution_count": 230,
   "metadata": {},
   "outputs": [
    {
     "data": {
      "text/html": [
       "<div>\n",
       "<style>\n",
       "    .dataframe thead tr:only-child th {\n",
       "        text-align: right;\n",
       "    }\n",
       "\n",
       "    .dataframe thead th {\n",
       "        text-align: left;\n",
       "    }\n",
       "\n",
       "    .dataframe tbody tr th {\n",
       "        vertical-align: top;\n",
       "    }\n",
       "</style>\n",
       "<table border=\"1\" class=\"dataframe\">\n",
       "  <thead>\n",
       "    <tr style=\"text-align: right;\">\n",
       "      <th></th>\n",
       "      <th>key</th>\n",
       "      <th>lval</th>\n",
       "      <th>rval</th>\n",
       "    </tr>\n",
       "  </thead>\n",
       "  <tbody>\n",
       "    <tr>\n",
       "      <th>0</th>\n",
       "      <td>foo</td>\n",
       "      <td>1</td>\n",
       "      <td>4</td>\n",
       "    </tr>\n",
       "    <tr>\n",
       "      <th>1</th>\n",
       "      <td>foo</td>\n",
       "      <td>1</td>\n",
       "      <td>5</td>\n",
       "    </tr>\n",
       "    <tr>\n",
       "      <th>2</th>\n",
       "      <td>foo</td>\n",
       "      <td>2</td>\n",
       "      <td>4</td>\n",
       "    </tr>\n",
       "    <tr>\n",
       "      <th>3</th>\n",
       "      <td>foo</td>\n",
       "      <td>2</td>\n",
       "      <td>5</td>\n",
       "    </tr>\n",
       "  </tbody>\n",
       "</table>\n",
       "</div>"
      ],
      "text/plain": [
       "   key  lval  rval\n",
       "0  foo     1     4\n",
       "1  foo     1     5\n",
       "2  foo     2     4\n",
       "3  foo     2     5"
      ]
     },
     "execution_count": 230,
     "metadata": {},
     "output_type": "execute_result"
    }
   ],
   "source": [
    "left = pd.DataFrame({'key': ['foo', 'foo'], 'lval': [1, 2]})\n",
    "right = pd.DataFrame({'key': ['foo', 'foo'], 'rval': [4, 5]})\n",
    "pd.merge(left, right, on='key')"
   ]
  },
  {
   "cell_type": "code",
   "execution_count": 231,
   "metadata": {},
   "outputs": [
    {
     "data": {
      "text/html": [
       "<div>\n",
       "<style>\n",
       "    .dataframe thead tr:only-child th {\n",
       "        text-align: right;\n",
       "    }\n",
       "\n",
       "    .dataframe thead th {\n",
       "        text-align: left;\n",
       "    }\n",
       "\n",
       "    .dataframe tbody tr th {\n",
       "        vertical-align: top;\n",
       "    }\n",
       "</style>\n",
       "<table border=\"1\" class=\"dataframe\">\n",
       "  <thead>\n",
       "    <tr style=\"text-align: right;\">\n",
       "      <th></th>\n",
       "      <th>key</th>\n",
       "      <th>lval</th>\n",
       "      <th>rval</th>\n",
       "    </tr>\n",
       "  </thead>\n",
       "  <tbody>\n",
       "    <tr>\n",
       "      <th>0</th>\n",
       "      <td>foo</td>\n",
       "      <td>1</td>\n",
       "      <td>4</td>\n",
       "    </tr>\n",
       "    <tr>\n",
       "      <th>1</th>\n",
       "      <td>bar</td>\n",
       "      <td>2</td>\n",
       "      <td>5</td>\n",
       "    </tr>\n",
       "  </tbody>\n",
       "</table>\n",
       "</div>"
      ],
      "text/plain": [
       "   key  lval  rval\n",
       "0  foo     1     4\n",
       "1  bar     2     5"
      ]
     },
     "execution_count": 231,
     "metadata": {},
     "output_type": "execute_result"
    }
   ],
   "source": [
    "left = pd.DataFrame({'key': ['foo', 'bar'], 'lval': [1, 2]})\n",
    "right = pd.DataFrame({'key': ['foo', 'bar'], 'rval': [4, 5]})\n",
    "pd.merge(left, right, on='key')"
   ]
  },
  {
   "cell_type": "code",
   "execution_count": 233,
   "metadata": {},
   "outputs": [
    {
     "data": {
      "text/html": [
       "<div>\n",
       "<style>\n",
       "    .dataframe thead tr:only-child th {\n",
       "        text-align: right;\n",
       "    }\n",
       "\n",
       "    .dataframe thead th {\n",
       "        text-align: left;\n",
       "    }\n",
       "\n",
       "    .dataframe tbody tr th {\n",
       "        vertical-align: top;\n",
       "    }\n",
       "</style>\n",
       "<table border=\"1\" class=\"dataframe\">\n",
       "  <thead>\n",
       "    <tr style=\"text-align: right;\">\n",
       "      <th></th>\n",
       "      <th>key</th>\n",
       "      <th>lval</th>\n",
       "    </tr>\n",
       "  </thead>\n",
       "  <tbody>\n",
       "    <tr>\n",
       "      <th>0</th>\n",
       "      <td>foo</td>\n",
       "      <td>1</td>\n",
       "    </tr>\n",
       "    <tr>\n",
       "      <th>1</th>\n",
       "      <td>bar</td>\n",
       "      <td>2</td>\n",
       "    </tr>\n",
       "  </tbody>\n",
       "</table>\n",
       "</div>"
      ],
      "text/plain": [
       "   key  lval\n",
       "0  foo     1\n",
       "1  bar     2"
      ]
     },
     "execution_count": 233,
     "metadata": {},
     "output_type": "execute_result"
    }
   ],
   "source": [
    "left"
   ]
  },
  {
   "cell_type": "code",
   "execution_count": 234,
   "metadata": {},
   "outputs": [
    {
     "data": {
      "text/html": [
       "<div>\n",
       "<style>\n",
       "    .dataframe thead tr:only-child th {\n",
       "        text-align: right;\n",
       "    }\n",
       "\n",
       "    .dataframe thead th {\n",
       "        text-align: left;\n",
       "    }\n",
       "\n",
       "    .dataframe tbody tr th {\n",
       "        vertical-align: top;\n",
       "    }\n",
       "</style>\n",
       "<table border=\"1\" class=\"dataframe\">\n",
       "  <thead>\n",
       "    <tr style=\"text-align: right;\">\n",
       "      <th></th>\n",
       "      <th>key</th>\n",
       "      <th>rval</th>\n",
       "    </tr>\n",
       "  </thead>\n",
       "  <tbody>\n",
       "    <tr>\n",
       "      <th>0</th>\n",
       "      <td>foo</td>\n",
       "      <td>4</td>\n",
       "    </tr>\n",
       "    <tr>\n",
       "      <th>1</th>\n",
       "      <td>bar</td>\n",
       "      <td>5</td>\n",
       "    </tr>\n",
       "  </tbody>\n",
       "</table>\n",
       "</div>"
      ],
      "text/plain": [
       "   key  rval\n",
       "0  foo     4\n",
       "1  bar     5"
      ]
     },
     "execution_count": 234,
     "metadata": {},
     "output_type": "execute_result"
    }
   ],
   "source": [
    "right"
   ]
  },
  {
   "cell_type": "markdown",
   "metadata": {},
   "source": [
    "### 追加"
   ]
  },
  {
   "cell_type": "code",
   "execution_count": null,
   "metadata": {},
   "outputs": [],
   "source": []
  },
  {
   "cell_type": "code",
   "execution_count": null,
   "metadata": {},
   "outputs": [],
   "source": []
  },
  {
   "cell_type": "code",
   "execution_count": null,
   "metadata": {},
   "outputs": [],
   "source": []
  },
  {
   "cell_type": "code",
   "execution_count": null,
   "metadata": {},
   "outputs": [],
   "source": []
  },
  {
   "cell_type": "code",
   "execution_count": null,
   "metadata": {},
   "outputs": [],
   "source": []
  },
  {
   "cell_type": "code",
   "execution_count": null,
   "metadata": {},
   "outputs": [],
   "source": []
  },
  {
   "cell_type": "code",
   "execution_count": null,
   "metadata": {},
   "outputs": [],
   "source": []
  },
  {
   "cell_type": "code",
   "execution_count": null,
   "metadata": {},
   "outputs": [],
   "source": []
  },
  {
   "cell_type": "code",
   "execution_count": null,
   "metadata": {},
   "outputs": [],
   "source": []
  },
  {
   "cell_type": "code",
   "execution_count": null,
   "metadata": {},
   "outputs": [],
   "source": []
  },
  {
   "cell_type": "code",
   "execution_count": null,
   "metadata": {},
   "outputs": [],
   "source": []
  },
  {
   "cell_type": "code",
   "execution_count": null,
   "metadata": {},
   "outputs": [],
   "source": []
  },
  {
   "cell_type": "code",
   "execution_count": null,
   "metadata": {},
   "outputs": [],
   "source": []
  },
  {
   "cell_type": "code",
   "execution_count": null,
   "metadata": {},
   "outputs": [],
   "source": []
  },
  {
   "cell_type": "code",
   "execution_count": null,
   "metadata": {},
   "outputs": [],
   "source": []
  },
  {
   "cell_type": "code",
   "execution_count": null,
   "metadata": {},
   "outputs": [],
   "source": []
  },
  {
   "cell_type": "code",
   "execution_count": null,
   "metadata": {},
   "outputs": [],
   "source": []
  }
 ],
 "metadata": {
  "kernelspec": {
   "display_name": "Python 3",
   "language": "python",
   "name": "python3"
  },
  "language_info": {
   "codemirror_mode": {
    "name": "ipython",
    "version": 3
   },
   "file_extension": ".py",
   "mimetype": "text/x-python",
   "name": "python",
   "nbconvert_exporter": "python",
   "pygments_lexer": "ipython3",
   "version": "3.6.1"
  },
  "toc": {
   "nav_menu": {},
   "number_sections": true,
   "sideBar": true,
   "skip_h1_title": false,
   "toc_cell": false,
   "toc_position": {},
   "toc_section_display": "block",
   "toc_window_display": false
  }
 },
 "nbformat": 4,
 "nbformat_minor": 2
}
